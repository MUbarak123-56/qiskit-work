{
  "nbformat": 4,
  "nbformat_minor": 0,
  "metadata": {
    "colab": {
      "provenance": [],
      "authorship_tag": "ABX9TyNvKVmKBAKzIoc6GNU8JIkl",
      "include_colab_link": true
    },
    "kernelspec": {
      "name": "python3",
      "display_name": "Python 3"
    },
    "language_info": {
      "name": "python"
    }
  },
  "cells": [
    {
      "cell_type": "markdown",
      "metadata": {
        "id": "view-in-github",
        "colab_type": "text"
      },
      "source": [
        "<a href=\"https://colab.research.google.com/github/MUbarak123-56/qiskit-work/blob/master/qml/pegasos_qsvc.ipynb\" target=\"_parent\"><img src=\"https://colab.research.google.com/assets/colab-badge.svg\" alt=\"Open In Colab\"/></a>"
      ]
    },
    {
      "cell_type": "code",
      "source": [
        "\n",
        "!pip install -q qiskit\n",
        "!pip install -q pylatexenc\n",
        "#!pip install git+https://github.com/qiskit-community/qiskit-textbook.git#subdirectory=qiskit-textbook-src\n",
        "!pip install -q qiskit-aer\n",
        "!pip install -q qiskit-machine-learning"
      ],
      "metadata": {
        "id": "SC2iMaCjeRO-"
      },
      "execution_count": 1,
      "outputs": []
    },
    {
      "cell_type": "code",
      "execution_count": 2,
      "metadata": {
        "id": "mBvtl9ycbCOF"
      },
      "outputs": [],
      "source": [
        "from sklearn.datasets import make_blobs\n",
        "\n",
        "# example dataset\n",
        "features, labels = make_blobs(n_samples=20, n_features=2, centers=2, random_state=3, shuffle=True)"
      ]
    },
    {
      "cell_type": "code",
      "execution_count": 3,
      "metadata": {
        "id": "uGzOCnoWczQf"
      },
      "outputs": [],
      "source": [
        "import numpy as np\n",
        "\n",
        "from sklearn.model_selection import train_test_split\n",
        "from sklearn.preprocessing import MinMaxScaler\n",
        "\n",
        "features = MinMaxScaler(feature_range=(0, np.pi)).fit_transform(features)\n",
        "\n",
        "train_features, test_features, train_labels, test_labels = train_test_split(\n",
        "    features, labels, train_size=15, shuffle=False\n",
        ")"
      ]
    },
    {
      "cell_type": "code",
      "source": [
        "# number of qubits is equal to the number of features\n",
        "num_qubits = 2\n",
        "\n",
        "# number of steps performed during the training procedure\n",
        "tau = 100\n",
        "\n",
        "# regularization parameter\n",
        "C = 1000"
      ],
      "metadata": {
        "id": "tjE8crH-c6SQ"
      },
      "execution_count": 4,
      "outputs": []
    },
    {
      "cell_type": "code",
      "source": [
        "from qiskit import BasicAer\n",
        "from qiskit.circuit.library import ZFeatureMap\n",
        "from qiskit.utils import algorithm_globals\n",
        "\n",
        "from qiskit_machine_learning.kernels import FidelityQuantumKernel\n",
        "\n",
        "algorithm_globals.random_seed = 12345\n",
        "\n",
        "feature_map = ZFeatureMap(feature_dimension=num_qubits, reps=1)\n",
        "\n",
        "qkernel = FidelityQuantumKernel(feature_map=feature_map)"
      ],
      "metadata": {
        "id": "THagUwOqd2fL"
      },
      "execution_count": 5,
      "outputs": []
    },
    {
      "cell_type": "code",
      "source": [
        "from qiskit_machine_learning.algorithms import PegasosQSVC\n",
        "\n",
        "pegasos_qsvc = PegasosQSVC(quantum_kernel=qkernel, C=C, num_steps=tau)\n",
        "\n",
        "# training\n",
        "pegasos_qsvc.fit(train_features, train_labels)\n",
        "\n",
        "# testing\n",
        "pegasos_score = pegasos_qsvc.score(test_features, test_labels)\n",
        "print(f\"PegasosQSVC classification test score: {pegasos_score}\")"
      ],
      "metadata": {
        "colab": {
          "base_uri": "https://localhost:8080/"
        },
        "id": "GNpoFcIneCTm",
        "outputId": "68aba37a-9700-456e-ac7b-61a71695f4a8"
      },
      "execution_count": 6,
      "outputs": [
        {
          "output_type": "stream",
          "name": "stdout",
          "text": [
            "PegasosQSVC classification test score: 1.0\n"
          ]
        }
      ]
    },
    {
      "cell_type": "code",
      "source": [
        "grid_step = 0.2\n",
        "margin = 0.2\n",
        "grid_x, grid_y = np.meshgrid(\n",
        "    np.arange(-margin, np.pi + margin, grid_step), np.arange(-margin, np.pi + margin, grid_step)\n",
        ")"
      ],
      "metadata": {
        "id": "V6E0TrbSfStK"
      },
      "execution_count": 7,
      "outputs": []
    },
    {
      "cell_type": "code",
      "source": [
        "meshgrid_features = np.column_stack((grid_x.ravel(), grid_y.ravel()))\n",
        "meshgrid_colors = pegasos_qsvc.predict(meshgrid_features)"
      ],
      "metadata": {
        "id": "ccO9ZXi1faN5"
      },
      "execution_count": 8,
      "outputs": []
    },
    {
      "cell_type": "code",
      "source": [
        "import matplotlib.pyplot as plt\n",
        "\n",
        "plt.figure(figsize=(5, 5))\n",
        "meshgrid_colors = meshgrid_colors.reshape(grid_x.shape)\n",
        "plt.pcolormesh(grid_x, grid_y, meshgrid_colors, cmap=\"RdBu\", shading=\"auto\")\n",
        "\n",
        "plt.scatter(\n",
        "    train_features[:, 0][train_labels == 0],\n",
        "    train_features[:, 1][train_labels == 0],\n",
        "    marker=\"s\",\n",
        "    facecolors=\"w\",\n",
        "    edgecolors=\"r\",\n",
        "    label=\"A train\",\n",
        ")\n",
        "plt.scatter(\n",
        "    train_features[:, 0][train_labels == 1],\n",
        "    train_features[:, 1][train_labels == 1],\n",
        "    marker=\"o\",\n",
        "    facecolors=\"w\",\n",
        "    edgecolors=\"b\",\n",
        "    label=\"B train\",\n",
        ")\n",
        "\n",
        "plt.scatter(\n",
        "    test_features[:, 0][test_labels == 0],\n",
        "    test_features[:, 1][test_labels == 0],\n",
        "    marker=\"s\",\n",
        "    facecolors=\"r\",\n",
        "    edgecolors=\"r\",\n",
        "    label=\"A test\",\n",
        ")\n",
        "plt.scatter(\n",
        "    test_features[:, 0][test_labels == 1],\n",
        "    test_features[:, 1][test_labels == 1],\n",
        "    marker=\"o\",\n",
        "    facecolors=\"b\",\n",
        "    edgecolors=\"b\",\n",
        "    label=\"B test\",\n",
        ")\n",
        "\n",
        "plt.legend(bbox_to_anchor=(1.05, 1), loc=\"upper left\", borderaxespad=0.0)\n",
        "plt.title(\"Pegasos Classification\")\n",
        "plt.show()"
      ],
      "metadata": {
        "colab": {
          "base_uri": "https://localhost:8080/",
          "height": 468
        },
        "id": "YRAMDBXXfe-J",
        "outputId": "7b081dba-3b09-4446-9188-2bb2bf54241d"
      },
      "execution_count": 9,
      "outputs": [
        {
          "output_type": "display_data",
          "data": {
            "text/plain": [
              "<Figure size 500x500 with 1 Axes>"
            ],
            "image/png": "[encoded data removed]"
          },
          "metadata": {}
        }
      ]
    },
    {
      "cell_type": "code",
      "source": [
        "from sklearn.datasets import load_wine\n",
        "from sklearn.model_selection import train_test_split\n",
        "from sklearn.preprocessing import StandardScaler, OneHotEncoder, MinMaxScaler\n",
        "from sklearn.compose import make_column_transformer\n",
        "from sklearn.linear_model import LogisticRegression\n",
        "from sklearn.metrics import accuracy_score, precision_score, recall_score, f1_score\n",
        "from sklearn.utils import shuffle\n",
        "import matplotlib.pyplot as plt\n",
        "import numpy as np\n",
        "import pandas as pd\n",
        "import qiskit\n",
        "from sklearn.metrics import classification_report, confusion_matrix"
      ],
      "metadata": {
        "id": "tuhzPbYKflao"
      },
      "execution_count": 10,
      "outputs": []
    },
    {
      "cell_type": "code",
      "source": [
        "wine = load_wine()"
      ],
      "metadata": {
        "id": "5HnsgwHwgzE0"
      },
      "execution_count": 11,
      "outputs": []
    },
    {
      "cell_type": "code",
      "source": [
        "features = wine.data\n",
        "target = wine.target"
      ],
      "metadata": {
        "id": "n-vrSTUVg19u"
      },
      "execution_count": 12,
      "outputs": []
    },
    {
      "cell_type": "code",
      "source": [
        "wine_df = pd.DataFrame(features, columns=wine.feature_names)\n",
        "wine_df[\"label\"] = target"
      ],
      "metadata": {
        "id": "QrEhJg0Fg3s4"
      },
      "execution_count": 13,
      "outputs": []
    },
    {
      "cell_type": "code",
      "source": [
        "wine_df = wine_df[wine_df['label'] != 2]"
      ],
      "metadata": {
        "id": "AwTHGDUvh_4q"
      },
      "execution_count": 14,
      "outputs": []
    },
    {
      "cell_type": "code",
      "source": [
        "train, test = train_test_split(wine_df, test_size=0.2, random_state=42)"
      ],
      "metadata": {
        "id": "WZr_QRlIg605"
      },
      "execution_count": 15,
      "outputs": []
    },
    {
      "cell_type": "code",
      "source": [
        "min_max = MinMaxScaler()"
      ],
      "metadata": {
        "id": "Tkbc3nXsj1S9"
      },
      "execution_count": 17,
      "outputs": []
    },
    {
      "cell_type": "code",
      "source": [
        "train_scaled = min_max.fit_transform(train[wine.feature_names])"
      ],
      "metadata": {
        "id": "i-Fy_A0Pg9Du"
      },
      "execution_count": 18,
      "outputs": []
    },
    {
      "cell_type": "code",
      "source": [
        "min_max.fit(train[wine.feature_names])\n",
        "test_scaled = min_max.transform(test[wine.feature_names])"
      ],
      "metadata": {
        "id": "4t4weL6lg_Jy"
      },
      "execution_count": 19,
      "outputs": []
    },
    {
      "cell_type": "code",
      "source": [
        "x_train = train_scaled\n",
        "x_test = test_scaled\n",
        "y_train = train[\"label\"]\n",
        "y_test = test[\"label\"]"
      ],
      "metadata": {
        "id": "luubHy_8hKWw"
      },
      "execution_count": 20,
      "outputs": []
    },
    {
      "cell_type": "code",
      "source": [
        "y_train = y_train.to_numpy()\n",
        "y_test = y_test.to_numpy()"
      ],
      "metadata": {
        "id": "k2XpoTCYhNQf"
      },
      "execution_count": 21,
      "outputs": []
    },
    {
      "cell_type": "code",
      "source": [
        "from sklearn.decomposition import PCA\n",
        "pca = PCA(n_components = 0.8)"
      ],
      "metadata": {
        "id": "DlETf5sHhPNW"
      },
      "execution_count": 22,
      "outputs": []
    },
    {
      "cell_type": "code",
      "source": [
        "x_train_new = pca.fit_transform(x_train)\n",
        "pca.fit(x_train)\n",
        "x_test_new = pca.transform(x_test)"
      ],
      "metadata": {
        "id": "E2ZA29JVhRxc"
      },
      "execution_count": 23,
      "outputs": []
    },
    {
      "cell_type": "code",
      "source": [
        "import seaborn as sns; sns.set_style(\"darkgrid\")"
      ],
      "metadata": {
        "id": "WDlQbKyri5td"
      },
      "execution_count": 24,
      "outputs": []
    },
    {
      "cell_type": "code",
      "source": [
        "from qiskit_machine_learning.algorithms import PegasosQSVC\n",
        "import time\n",
        "algorithm_globals.random_seed = 12345\n",
        "\n",
        "feature_map = ZFeatureMap(feature_dimension=5, reps=1)\n",
        "\n",
        "qkernel = FidelityQuantumKernel(feature_map=feature_map)\n",
        "pegasos_qsvc = PegasosQSVC(quantum_kernel=qkernel, C=100, num_steps=tau)\n",
        "start = time.time()\n",
        "pegasos_qsvc.fit(x_train_new, y_train)\n",
        "elapsed = time.time() - start\n",
        "# training\n",
        "print(\"Time elapsed:\", elapsed)"
      ],
      "metadata": {
        "colab": {
          "base_uri": "https://localhost:8080/"
        },
        "outputId": "a6987456-0f91-404b-d08f-3cbd7c82e4aa",
        "id": "IPvH8vZ4hcrn"
      },
      "execution_count": 30,
      "outputs": [
        {
          "output_type": "stream",
          "name": "stdout",
          "text": [
            "Time elapsed: 5.798340320587158\n"
          ]
        }
      ]
    },
    {
      "cell_type": "code",
      "source": [
        "# testing\n",
        "pegasos_train_score = pegasos_qsvc.score(x_train_new, y_train)\n",
        "print(f\"PegasosQSVC classification test score: {pegasos_train_score}\")\n",
        "pegasos_score = pegasos_qsvc.score(x_test_new, y_test)\n",
        "print(f\"PegasosQSVC classification test score: {pegasos_score}\")"
      ],
      "metadata": {
        "colab": {
          "base_uri": "https://localhost:8080/"
        },
        "id": "_rYqR-dEhihV",
        "outputId": "b7003d97-ff77-453d-bb7c-79cbc0c53ac8"
      },
      "execution_count": 31,
      "outputs": [
        {
          "output_type": "stream",
          "name": "stdout",
          "text": [
            "PegasosQSVC classification test score: 0.9807692307692307\n",
            "PegasosQSVC classification test score: 1.0\n"
          ]
        }
      ]
    },
    {
      "cell_type": "code",
      "source": [
        "pred_pegaqsvc = pegasos_qsvc.predict(x_test_new)"
      ],
      "metadata": {
        "id": "LH6bqXPci_6G"
      },
      "execution_count": 32,
      "outputs": []
    },
    {
      "cell_type": "code",
      "source": [
        "qsvc_conf = confusion_matrix(y_test, pred_pegaqsvc)\n",
        "sns.heatmap(qsvc_conf, annot=True, fmt=\"d\", cmap = \"Blues\")\n",
        "plt.show();"
      ],
      "metadata": {
        "colab": {
          "base_uri": "https://localhost:8080/",
          "height": 430
        },
        "id": "5Nyr4NMEjGmQ",
        "outputId": "c13515d7-2953-4f94-a41e-2d80a0545c22"
      },
      "execution_count": 33,
      "outputs": [
        {
          "output_type": "display_data",
          "data": {
            "text/plain": [
              "<Figure size 640x480 with 2 Axes>"
            ],
            "image/png": "[encoded data removed]"
          },
          "metadata": {}
        }
      ]
    },
    {
      "cell_type": "code",
      "source": [
        "print(\"Classification Report for QSVC\")\n",
        "print(classification_report(y_test, pred_pegaqsvc))"
      ],
      "metadata": {
        "colab": {
          "base_uri": "https://localhost:8080/"
        },
        "id": "tyHEqA41jNC4",
        "outputId": "44b2ec58-0cf5-4c99-bce6-c115d2a88ca5"
      },
      "execution_count": 34,
      "outputs": [
        {
          "output_type": "stream",
          "name": "stdout",
          "text": [
            "Classification Report for QSVC\n",
            "              precision    recall  f1-score   support\n",
            "\n",
            "           0       1.00      1.00      1.00        13\n",
            "           1       1.00      1.00      1.00        13\n",
            "\n",
            "    accuracy                           1.00        26\n",
            "   macro avg       1.00      1.00      1.00        26\n",
            "weighted avg       1.00      1.00      1.00        26\n",
            "\n"
          ]
        }
      ]
    },
    {
      "cell_type": "code",
      "source": [
        "# Initialize QSVC algorithm\n",
        "import time\n",
        "from qiskit_machine_learning.algorithms.classifiers import QSVC\n",
        "qsvc = QSVC(quantum_kernel=qkernel)\n",
        "\n",
        "# clear objective value history\n",
        "#objective_func_vals = []\n",
        "\n",
        "start = time.time()\n",
        "qsvc.fit(x_train_new, y_train)\n",
        "elapsed = time.time() - start\n",
        "\n",
        "print(f\"Training time: {round(elapsed)} seconds\")"
      ],
      "metadata": {
        "colab": {
          "base_uri": "https://localhost:8080/"
        },
        "id": "kT8lxwe5iMMf",
        "outputId": "a59bd5e5-92e3-495d-cb5f-3821a977deda"
      },
      "execution_count": 35,
      "outputs": [
        {
          "output_type": "stream",
          "name": "stdout",
          "text": [
            "Training time: 19 seconds\n"
          ]
        }
      ]
    },
    {
      "cell_type": "code",
      "source": [
        "train_score_q4 = qsvc.score(x_train_new, y_train)\n",
        "test_score_q4 = qsvc.score(x_test_new, y_test)\n",
        "\n",
        "print(f\"Quantum QSVC on the training dataset: {train_score_q4:.2f}\")\n",
        "print(f\"Quantum QSVC on the test dataset:     {test_score_q4:.2f}\")"
      ],
      "metadata": {
        "colab": {
          "base_uri": "https://localhost:8080/"
        },
        "id": "mKeXiuy1iiwo",
        "outputId": "9efcc220-d3c2-4742-9a00-e465bfaa70f8"
      },
      "execution_count": 36,
      "outputs": [
        {
          "output_type": "stream",
          "name": "stdout",
          "text": [
            "Quantum QSVC on the training dataset: 1.00\n",
            "Quantum QSVC on the test dataset:     1.00\n"
          ]
        }
      ]
    },
    {
      "cell_type": "code",
      "source": [
        "pred_qsvc = qsvc.predict(x_test_new)"
      ],
      "metadata": {
        "id": "p3OAsZbEisPp"
      },
      "execution_count": 37,
      "outputs": []
    },
    {
      "cell_type": "code",
      "source": [
        "qsvc_conf = confusion_matrix(y_test, pred_qsvc)\n",
        "sns.heatmap(qsvc_conf, annot=True, fmt=\"d\", cmap = \"Blues\")\n",
        "plt.show();"
      ],
      "metadata": {
        "colab": {
          "base_uri": "https://localhost:8080/",
          "height": 430
        },
        "id": "TBefSqxqiy8v",
        "outputId": "585ce5a4-bbce-4712-857a-7ecdb310cc15"
      },
      "execution_count": 38,
      "outputs": [
        {
          "output_type": "display_data",
          "data": {
            "text/plain": [
              "<Figure size 640x480 with 2 Axes>"
            ],
            "image/png": "[encoded data removed]"
          },
          "metadata": {}
        }
      ]
    },
    {
      "cell_type": "code",
      "source": [
        "print(\"Classification Report for QSVC\")\n",
        "print(classification_report(y_test, pred_qsvc))"
      ],
      "metadata": {
        "colab": {
          "base_uri": "https://localhost:8080/"
        },
        "id": "WBBLBXGeiy0R",
        "outputId": "590dbf32-8eef-46a2-8431-ccda283c9737"
      },
      "execution_count": 39,
      "outputs": [
        {
          "output_type": "stream",
          "name": "stdout",
          "text": [
            "Classification Report for QSVC\n",
            "              precision    recall  f1-score   support\n",
            "\n",
            "           0       1.00      1.00      1.00        13\n",
            "           1       1.00      1.00      1.00        13\n",
            "\n",
            "    accuracy                           1.00        26\n",
            "   macro avg       1.00      1.00      1.00        26\n",
            "weighted avg       1.00      1.00      1.00        26\n",
            "\n"
          ]
        }
      ]
    },
    {
      "cell_type": "code",
      "source": [],
      "metadata": {
        "id": "q0j4BcX-i-Uh"
      },
      "execution_count": 29,
      "outputs": []
    }
  ]
}