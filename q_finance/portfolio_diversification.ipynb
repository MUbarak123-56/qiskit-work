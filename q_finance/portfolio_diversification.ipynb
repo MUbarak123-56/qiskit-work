{
  "nbformat": 4,
  "nbformat_minor": 0,
  "metadata": {
    "colab": {
      "provenance": [],
      "authorship_tag": "ABX9TyP26B2lx6cAcwW6DQzX9eUh",
      "include_colab_link": true
    },
    "kernelspec": {
      "name": "python3",
      "display_name": "Python 3"
    },
    "language_info": {
      "name": "python"
    }
  },
  "cells": [
    {
      "cell_type": "markdown",
      "metadata": {
        "id": "view-in-github",
        "colab_type": "text"
      },
      "source": [
        "<a href=\"https://colab.research.google.com/github/MUbarak123-56/qiskit-work/blob/master/q_finance/portfolio_diversification.ipynb\" target=\"_parent\"><img src=\"https://colab.research.google.com/assets/colab-badge.svg\" alt=\"Open In Colab\"/></a>"
      ]
    },
    {
      "cell_type": "code",
      "execution_count": 1,
      "metadata": {
        "id": "NGNsF15y_L94"
      },
      "outputs": [],
      "source": [
        "\n",
        "!pip install -q qiskit\n",
        "!pip install -q pylatexenc\n",
        "#!pip install git+https://github.com/qiskit-community/qiskit-textbook.git#subdirectory=qiskit-textbook-src\n",
        "!pip install -q qiskit-aer\n",
        "!pip install -q qiskit-machine-learning\n",
        "!pip install -q qiskit-finance\n",
        "!pip install -q qiskit-optimization\n",
        "!pip install -q qiskit-nature"
      ]
    },
    {
      "cell_type": "code",
      "source": [
        "!pip install -q cplex"
      ],
      "metadata": {
        "id": "dFdgjE3SsYLp"
      },
      "execution_count": 2,
      "outputs": []
    },
    {
      "cell_type": "code",
      "source": [
        "#  Import requisite modules\n",
        "import math\n",
        "import datetime\n",
        "\n",
        "import numpy as np\n",
        "import matplotlib.pyplot as plt\n",
        "\n",
        "%matplotlib inline\n",
        "\n",
        "# Import Qiskit packages\n",
        "from qiskit.algorithms.minimum_eigensolvers import NumPyMinimumEigensolver, QAOA, SamplingVQE\n",
        "from qiskit.algorithms.optimizers import COBYLA\n",
        "from qiskit.circuit.library import TwoLocal\n",
        "from qiskit_aer.primitives import Sampler\n",
        "from qiskit_optimization.algorithms import MinimumEigenOptimizer\n",
        "\n",
        "# The data providers of stock-market data\n",
        "from qiskit_finance.data_providers import RandomDataProvider\n",
        "from qiskit_finance.applications.optimization import PortfolioDiversification"
      ],
      "metadata": {
        "colab": {
          "base_uri": "https://localhost:8080/"
        },
        "id": "dbeVD7J3Dp5z",
        "outputId": "b8fe5823-5be0-4a74-8656-f6ea00f3049b"
      },
      "execution_count": 3,
      "outputs": [
        {
          "output_type": "stream",
          "name": "stderr",
          "text": [
            "<ipython-input-3-4ec4446d5df6>:11: DeprecationWarning: ``qiskit.algorithms`` has been migrated to an independent package: https://github.com/qiskit-community/qiskit-algorithms. The ``qiskit.algorithms`` import path is deprecated as of qiskit-terra 0.25.0 and will be removed no earlier than 3 months after the release date. Please run ``pip install qiskit_algorithms`` and use ``import qiskit_algorithms`` instead.\n",
            "  from qiskit.algorithms.minimum_eigensolvers import NumPyMinimumEigensolver, QAOA, SamplingVQE\n"
          ]
        }
      ]
    },
    {
      "cell_type": "code",
      "source": [
        "# Generate a pairwise time-series similarity matrix\n",
        "seed = 123\n",
        "\n",
        "stocks = [\"TICKER1\", \"TICKER2\"]\n",
        "n = len(stocks)\n",
        "\n",
        "data = RandomDataProvider(\n",
        "    tickers=stocks,\n",
        "    start=datetime.datetime(2016, 1, 1),\n",
        "    end=datetime.datetime(2016, 1, 30),\n",
        "    seed=seed,\n",
        ")\n",
        "data.run()\n",
        "rho = data.get_similarity_matrix()"
      ],
      "metadata": {
        "id": "KqkOZosNq3BX"
      },
      "execution_count": 4,
      "outputs": []
    },
    {
      "cell_type": "code",
      "source": [
        "rho"
      ],
      "metadata": {
        "colab": {
          "base_uri": "https://localhost:8080/"
        },
        "id": "eiYJsyx0rbSb",
        "outputId": "e7864155-7d61-4a18-b081-7c538676a45c"
      },
      "execution_count": 5,
      "outputs": [
        {
          "output_type": "execute_result",
          "data": {
            "text/plain": [
              "array([[1.00000000e+00, 7.79571614e-04],\n",
              "       [7.79571614e-04, 1.00000000e+00]])"
            ]
          },
          "metadata": {},
          "execution_count": 5
        }
      ]
    },
    {
      "cell_type": "code",
      "source": [
        "q = 1  # q less or equal than n"
      ],
      "metadata": {
        "id": "79daL1GZq2AD"
      },
      "execution_count": 6,
      "outputs": []
    },
    {
      "cell_type": "code",
      "source": [
        "class ClassicalOptimizer:\n",
        "    def __init__(self, rho, n, q):\n",
        "\n",
        "        self.rho = rho\n",
        "        self.n = n  # number of inner variables\n",
        "        self.q = q  # number of required selection\n",
        "\n",
        "    def compute_allowed_combinations(self):\n",
        "        f = math.factorial\n",
        "        return int(f(self.n) / f(self.q) / f(self.n - self.q))\n",
        "\n",
        "    def cplex_solution(self):\n",
        "\n",
        "        # refactoring\n",
        "        rho = self.rho\n",
        "        n = self.n\n",
        "        q = self.q\n",
        "\n",
        "        my_obj = list(rho.reshape(1, n**2)[0]) + [0.0 for x in range(0, n)]\n",
        "        my_ub = [1 for x in range(0, n**2 + n)]\n",
        "        my_lb = [0 for x in range(0, n**2 + n)]\n",
        "        my_ctype = \"\".join([\"I\" for x in range(0, n**2 + n)])\n",
        "\n",
        "        my_rhs = (\n",
        "            [q]\n",
        "            + [1 for x in range(0, n)]\n",
        "            + [0 for x in range(0, n)]\n",
        "            + [0.1 for x in range(0, n**2)]\n",
        "        )\n",
        "        my_sense = (\n",
        "            \"\".join([\"E\" for x in range(0, 1 + n)])\n",
        "            + \"\".join([\"E\" for x in range(0, n)])\n",
        "            + \"\".join([\"L\" for x in range(0, n**2)])\n",
        "        )\n",
        "\n",
        "        try:\n",
        "            my_prob = cplex.Cplex()\n",
        "            self.populatebyrow(my_prob, my_obj, my_ub, my_lb, my_ctype, my_sense, my_rhs)\n",
        "\n",
        "            my_prob.solve()\n",
        "\n",
        "        except CplexError as exc:\n",
        "            print(exc)\n",
        "            return\n",
        "\n",
        "        x = my_prob.solution.get_values()\n",
        "        x = np.array(x)\n",
        "        cost = my_prob.solution.get_objective_value()\n",
        "\n",
        "        return x, cost\n",
        "\n",
        "    def populatebyrow(self, prob, my_obj, my_ub, my_lb, my_ctype, my_sense, my_rhs):\n",
        "\n",
        "        n = self.n\n",
        "\n",
        "        prob.objective.set_sense(prob.objective.sense.minimize)\n",
        "        prob.variables.add(obj=my_obj, lb=my_lb, ub=my_ub, types=my_ctype)\n",
        "\n",
        "        prob.set_log_stream(None)\n",
        "        prob.set_error_stream(None)\n",
        "        prob.set_warning_stream(None)\n",
        "        prob.set_results_stream(None)\n",
        "\n",
        "        rows = []\n",
        "        col = [x for x in range(n**2, n**2 + n)]\n",
        "        coef = [1 for x in range(0, n)]\n",
        "        rows.append([col, coef])\n",
        "\n",
        "        for ii in range(0, n):\n",
        "            col = [x for x in range(0 + n * ii, n + n * ii)]\n",
        "            coef = [1 for x in range(0, n)]\n",
        "\n",
        "            rows.append([col, coef])\n",
        "\n",
        "        for ii in range(0, n):\n",
        "            col = [ii * n + ii, n**2 + ii]\n",
        "            coef = [1, -1]\n",
        "            rows.append([col, coef])\n",
        "\n",
        "        for ii in range(0, n):\n",
        "            for jj in range(0, n):\n",
        "                col = [ii * n + jj, n**2 + jj]\n",
        "                coef = [1, -1]\n",
        "\n",
        "                rows.append([col, coef])\n",
        "\n",
        "        prob.linear_constraints.add(lin_expr=rows, senses=my_sense, rhs=my_rhs)"
      ],
      "metadata": {
        "id": "Aljjsqkurapr"
      },
      "execution_count": 7,
      "outputs": []
    },
    {
      "cell_type": "code",
      "source": [
        "# Instantiate the classical optimizer class\n",
        "classical_optimizer = ClassicalOptimizer(rho, n, q)\n",
        "\n",
        "# Compute the number of feasible solutions:\n",
        "print(\"Number of feasible combinations= \" + str(classical_optimizer.compute_allowed_combinations()))\n",
        "\n",
        "# Compute the total number of possible combinations (feasible + unfeasible)\n",
        "print(\"Total number of combinations= \" + str(2 ** (n * (n + 1))))"
      ],
      "metadata": {
        "colab": {
          "base_uri": "https://localhost:8080/"
        },
        "id": "3pr7rGntriqA",
        "outputId": "ad0a190d-a581-490f-edb3-ddbcdf0aa6b7"
      },
      "execution_count": 8,
      "outputs": [
        {
          "output_type": "stream",
          "name": "stdout",
          "text": [
            "Number of feasible combinations= 2\n",
            "Total number of combinations= 64\n"
          ]
        }
      ]
    },
    {
      "cell_type": "code",
      "source": [
        "# Visualize the solution\n",
        "def visualize_solution(xc, yc, x, C, n, K, title_str):\n",
        "    plt.figure()\n",
        "    plt.scatter(xc, yc, s=200)\n",
        "    for i in range(len(xc)):\n",
        "        plt.annotate(i, (xc[i] + 0.015, yc[i]), size=16, color=\"r\")\n",
        "\n",
        "    plt.grid()\n",
        "\n",
        "    for ii in range(n**2, n**2 + n):\n",
        "\n",
        "        if x[ii] > 0:\n",
        "            plt.plot(xc[ii - n**2], yc[ii - n**2], \"r*\", ms=20)\n",
        "\n",
        "    for ii in range(0, n**2):\n",
        "\n",
        "        if x[ii] > 0:\n",
        "            iy = ii // n\n",
        "            ix = ii % n\n",
        "            plt.plot([xc[ix], xc[iy]], [yc[ix], yc[iy]], \"C2\")\n",
        "\n",
        "    plt.title(title_str + \" cost = \" + str(int(C * 100) / 100.0))\n",
        "    plt.show()"
      ],
      "metadata": {
        "id": "irvwgsjcrkrU"
      },
      "execution_count": 9,
      "outputs": []
    },
    {
      "cell_type": "code",
      "source": [
        "from qiskit.utils import algorithm_globals\n",
        "\n",
        "\n",
        "class QuantumOptimizer:\n",
        "    def __init__(self, rho, n, q):\n",
        "        self.rho = rho\n",
        "        self.n = n\n",
        "        self.q = q\n",
        "        self.pdf = PortfolioDiversification(similarity_matrix=rho, num_assets=n, num_clusters=q)\n",
        "        self.qp = self.pdf.to_quadratic_program()\n",
        "\n",
        "    # Obtains the least eigenvalue of the Hamiltonian classically\n",
        "    def exact_solution(self):\n",
        "        exact_mes = NumPyMinimumEigensolver()\n",
        "        exact_eigensolver = MinimumEigenOptimizer(exact_mes)\n",
        "        result = exact_eigensolver.solve(self.qp)\n",
        "        return self.decode_result(result)\n",
        "\n",
        "    def vqe_solution(self):\n",
        "        algorithm_globals.random_seed = 100\n",
        "        cobyla = COBYLA()\n",
        "        cobyla.set_options(maxiter=250)\n",
        "        ry = TwoLocal(n, \"ry\", \"cz\", reps=5, entanglement=\"full\")\n",
        "        vqe_mes = SamplingVQE(sampler=Sampler(), ansatz=ry, optimizer=cobyla)\n",
        "        vqe = MinimumEigenOptimizer(vqe_mes)\n",
        "        result = vqe.solve(self.qp)\n",
        "        return self.decode_result(result)\n",
        "\n",
        "    def qaoa_solution(self):\n",
        "        algorithm_globals.random_seed = 1234\n",
        "        cobyla = COBYLA()\n",
        "        cobyla.set_options(maxiter=250)\n",
        "        qaoa_mes = QAOA(sampler=Sampler(), optimizer=cobyla, reps=3)\n",
        "        qaoa = MinimumEigenOptimizer(qaoa_mes)\n",
        "        result = qaoa.solve(self.qp)\n",
        "        return self.decode_result(result)\n",
        "\n",
        "    def decode_result(self, result, offset=0):\n",
        "        quantum_solution = 1 - (result.x)\n",
        "        ground_level = self.qp.objective.evaluate(result.x)\n",
        "        return quantum_solution, ground_level"
      ],
      "metadata": {
        "id": "fUxJ1L35r8eL"
      },
      "execution_count": 10,
      "outputs": []
    },
    {
      "cell_type": "code",
      "source": [
        "# Instantiate the quantum optimizer class with parameters:\n",
        "quantum_optimizer = QuantumOptimizer(rho, n, q)"
      ],
      "metadata": {
        "id": "HKrV4mudsEWa"
      },
      "execution_count": 11,
      "outputs": []
    },
    {
      "cell_type": "code",
      "source": [
        "try:\n",
        "    import cplex\n",
        "\n",
        "    # warnings.filterwarnings('ignore')\n",
        "    quantum_solution, quantum_cost = quantum_optimizer.exact_solution()\n",
        "    print(quantum_solution, quantum_cost)\n",
        "    classical_solution, classical_cost = classical_optimizer.cplex_solution()\n",
        "    print(classical_solution, classical_cost)\n",
        "    if np.abs(quantum_cost - classical_cost) < 0.01:\n",
        "        print(\"Binary formulation is correct\")\n",
        "    else:\n",
        "        print(\"Error in the formulation of the Hamiltonian\")\n",
        "except Exception as ex:\n",
        "    print(ex)"
      ],
      "metadata": {
        "colab": {
          "base_uri": "https://localhost:8080/"
        },
        "id": "u31gvQcZsGIb",
        "outputId": "64abd464-9be4-4ab3-ad28-18033c47eff6"
      },
      "execution_count": 12,
      "outputs": [
        {
          "output_type": "stream",
          "name": "stdout",
          "text": [
            "[0. 1. 0. 1. 0. 1.] 1.000779571614484\n",
            "[1. 0. 1. 0. 1. 0.] 1.000779571614484\n",
            "Binary formulation is correct\n"
          ]
        }
      ]
    },
    {
      "cell_type": "code",
      "source": [
        "ground_state, ground_level = quantum_optimizer.exact_solution()\n",
        "print(ground_state)\n",
        "classical_cost = 1.000779571614484  # obtained from the CPLEX solution\n",
        "\n",
        "try:\n",
        "    if np.abs(ground_level - classical_cost) < 0.01:\n",
        "        print(\"Ising Hamiltonian in Z basis is correct\")\n",
        "    else:\n",
        "        print(\"Error in the Ising Hamiltonian formulation\")\n",
        "except Exception as ex:\n",
        "    print(ex)"
      ],
      "metadata": {
        "colab": {
          "base_uri": "https://localhost:8080/"
        },
        "id": "MLiMyj7bsOZ8",
        "outputId": "f6bad623-59b3-428c-c194-c8bfd545de78"
      },
      "execution_count": 13,
      "outputs": [
        {
          "output_type": "stream",
          "name": "stdout",
          "text": [
            "[0. 1. 0. 1. 0. 1.]\n",
            "Ising Hamiltonian in Z basis is correct\n"
          ]
        }
      ]
    },
    {
      "cell_type": "code",
      "source": [
        "vqe_state, vqe_level = quantum_optimizer.vqe_solution()\n",
        "print(vqe_state, vqe_level)\n",
        "\n",
        "try:\n",
        "    if np.linalg.norm(ground_state - vqe_state) < 0.01:\n",
        "        print(\"SamplingVQE produces the same solution as the exact eigensolver.\")\n",
        "    else:\n",
        "        print(\n",
        "            \"SamplingVQE does not produce the same solution as the exact eigensolver, but that is to be expected.\"\n",
        "        )\n",
        "except Exception as ex:\n",
        "    print(ex)"
      ],
      "metadata": {
        "colab": {
          "base_uri": "https://localhost:8080/"
        },
        "id": "sG35MgnMsocR",
        "outputId": "5dfb75d9-9ba7-4369-a55c-0ae7301c3ba9"
      },
      "execution_count": 14,
      "outputs": [
        {
          "output_type": "stream",
          "name": "stdout",
          "text": [
            "[1. 0. 1. 0. 1. 0.] 1.000779571614484\n",
            "SamplingVQE does not produce the same solution as the exact eigensolver, but that is to be expected.\n"
          ]
        }
      ]
    },
    {
      "cell_type": "code",
      "source": [
        "xc, yc = data.get_coordinates()"
      ],
      "metadata": {
        "id": "74lcaxo9srMF"
      },
      "execution_count": 15,
      "outputs": []
    },
    {
      "cell_type": "code",
      "source": [
        "visualize_solution(xc, yc, ground_state, ground_level, n, q, \"Classical\")"
      ],
      "metadata": {
        "colab": {
          "base_uri": "https://localhost:8080/",
          "height": 452
        },
        "id": "9tFgQ9azsrq8",
        "outputId": "da6c34d3-00b2-4741-903b-c93471da2f4b"
      },
      "execution_count": 16,
      "outputs": [
        {
          "output_type": "display_data",
          "data": {
            "text/plain": [
              "<Figure size 640x480 with 1 Axes>"
            ],
            "image/png": "[encoded data removed]"
          },
          "metadata": {}
        }
      ]
    },
    {
      "cell_type": "code",
      "source": [
        "visualize_solution(xc, yc, vqe_state, vqe_level, n, q, \"VQE\")"
      ],
      "metadata": {
        "colab": {
          "base_uri": "https://localhost:8080/",
          "height": 452
        },
        "id": "Apoa1de1stta",
        "outputId": "2380796a-0857-44ea-d0ce-cf29e89f06a8"
      },
      "execution_count": 17,
      "outputs": [
        {
          "output_type": "display_data",
          "data": {
            "text/plain": [
              "<Figure size 640x480 with 1 Axes>"
            ],
            "image/png": "[encoded data removed]"
          },
          "metadata": {}
        }
      ]
    }
  ]
}