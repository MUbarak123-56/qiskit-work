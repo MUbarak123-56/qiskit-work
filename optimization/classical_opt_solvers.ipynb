{
  "nbformat": 4,
  "nbformat_minor": 0,
  "metadata": {
    "colab": {
      "provenance": [],
      "authorship_tag": "ABX9TyMYII5SPtiNz9OEHfaurApq",
      "include_colab_link": true
    },
    "kernelspec": {
      "name": "python3",
      "display_name": "Python 3"
    },
    "language_info": {
      "name": "python"
    }
  },
  "cells": [
    {
      "cell_type": "markdown",
      "metadata": {
        "id": "view-in-github",
        "colab_type": "text"
      },
      "source": [
        "<a href=\"https://colab.research.google.com/github/MUbarak123-56/qiskit-work/blob/master/optimization/classical_opt_solvers.ipynb\" target=\"_parent\"><img src=\"https://colab.research.google.com/assets/colab-badge.svg\" alt=\"Open In Colab\"/></a>"
      ]
    },
    {
      "cell_type": "code",
      "execution_count": null,
      "metadata": {
        "colab": {
          "base_uri": "https://localhost:8080/"
        },
        "id": "vWb2ZoOi2ZDz",
        "outputId": "8847872e-5097-45f2-94df-93f64a1079bc"
      },
      "outputs": [
        {
          "output_type": "stream",
          "name": "stdout",
          "text": [
            "Requirement already satisfied: qiskit-aer in /usr/local/lib/python3.10/dist-packages (0.13.0)\n",
            "Requirement already satisfied: qiskit>=0.44.0 in /usr/local/lib/python3.10/dist-packages (from qiskit-aer) (0.45.0)\n",
            "Requirement already satisfied: numpy>=1.16.3 in /usr/local/lib/python3.10/dist-packages (from qiskit-aer) (1.23.5)\n",
            "Requirement already satisfied: scipy>=1.0 in /usr/local/lib/python3.10/dist-packages (from qiskit-aer) (1.11.3)\n",
            "Requirement already satisfied: qiskit-terra==0.45.0 in /usr/local/lib/python3.10/dist-packages (from qiskit>=0.44.0->qiskit-aer) (0.45.0)\n",
            "Requirement already satisfied: rustworkx>=0.13.0 in /usr/local/lib/python3.10/dist-packages (from qiskit-terra==0.45.0->qiskit>=0.44.0->qiskit-aer) (0.13.2)\n",
            "Requirement already satisfied: ply>=3.10 in /usr/local/lib/python3.10/dist-packages (from qiskit-terra==0.45.0->qiskit>=0.44.0->qiskit-aer) (3.11)\n",
            "Requirement already satisfied: psutil>=5 in /usr/local/lib/python3.10/dist-packages (from qiskit-terra==0.45.0->qiskit>=0.44.0->qiskit-aer) (5.9.5)\n",
            "Requirement already satisfied: sympy>=1.3 in /usr/local/lib/python3.10/dist-packages (from qiskit-terra==0.45.0->qiskit>=0.44.0->qiskit-aer) (1.12)\n",
            "Requirement already satisfied: dill>=0.3 in /usr/local/lib/python3.10/dist-packages (from qiskit-terra==0.45.0->qiskit>=0.44.0->qiskit-aer) (0.3.7)\n",
            "Requirement already satisfied: python-dateutil>=2.8.0 in /usr/local/lib/python3.10/dist-packages (from qiskit-terra==0.45.0->qiskit>=0.44.0->qiskit-aer) (2.8.2)\n",
            "Requirement already satisfied: stevedore>=3.0.0 in /usr/local/lib/python3.10/dist-packages (from qiskit-terra==0.45.0->qiskit>=0.44.0->qiskit-aer) (5.1.0)\n",
            "Requirement already satisfied: symengine<0.10,>=0.9 in /usr/local/lib/python3.10/dist-packages (from qiskit-terra==0.45.0->qiskit>=0.44.0->qiskit-aer) (0.9.2)\n",
            "Requirement already satisfied: typing-extensions in /usr/local/lib/python3.10/dist-packages (from qiskit-terra==0.45.0->qiskit>=0.44.0->qiskit-aer) (4.5.0)\n",
            "Requirement already satisfied: six>=1.5 in /usr/local/lib/python3.10/dist-packages (from python-dateutil>=2.8.0->qiskit-terra==0.45.0->qiskit>=0.44.0->qiskit-aer) (1.16.0)\n",
            "Requirement already satisfied: pbr!=2.1.0,>=2.0.0 in /usr/local/lib/python3.10/dist-packages (from stevedore>=3.0.0->qiskit-terra==0.45.0->qiskit>=0.44.0->qiskit-aer) (5.11.1)\n",
            "Requirement already satisfied: mpmath>=0.19 in /usr/local/lib/python3.10/dist-packages (from sympy>=1.3->qiskit-terra==0.45.0->qiskit>=0.44.0->qiskit-aer) (1.3.0)\n",
            "Requirement already satisfied: qiskit-machine-learning in /usr/local/lib/python3.10/dist-packages (0.6.1)\n",
            "Requirement already satisfied: qiskit-terra>=0.22.2 in /usr/local/lib/python3.10/dist-packages (from qiskit-machine-learning) (0.45.0)\n",
            "Requirement already satisfied: scipy>=1.4 in /usr/local/lib/python3.10/dist-packages (from qiskit-machine-learning) (1.11.3)\n",
            "Requirement already satisfied: numpy>=1.17 in /usr/local/lib/python3.10/dist-packages (from qiskit-machine-learning) (1.23.5)\n",
            "Requirement already satisfied: psutil>=5 in /usr/local/lib/python3.10/dist-packages (from qiskit-machine-learning) (5.9.5)\n",
            "Requirement already satisfied: scikit-learn>=0.20.0 in /usr/local/lib/python3.10/dist-packages (from qiskit-machine-learning) (1.2.2)\n",
            "Requirement already satisfied: fastdtw in /usr/local/lib/python3.10/dist-packages (from qiskit-machine-learning) (0.3.4)\n",
            "Requirement already satisfied: setuptools>=40.1.0 in /usr/local/lib/python3.10/dist-packages (from qiskit-machine-learning) (67.7.2)\n",
            "Requirement already satisfied: dill>=0.3.4 in /usr/local/lib/python3.10/dist-packages (from qiskit-machine-learning) (0.3.7)\n",
            "Requirement already satisfied: rustworkx>=0.13.0 in /usr/local/lib/python3.10/dist-packages (from qiskit-terra>=0.22.2->qiskit-machine-learning) (0.13.2)\n",
            "Requirement already satisfied: ply>=3.10 in /usr/local/lib/python3.10/dist-packages (from qiskit-terra>=0.22.2->qiskit-machine-learning) (3.11)\n",
            "Requirement already satisfied: sympy>=1.3 in /usr/local/lib/python3.10/dist-packages (from qiskit-terra>=0.22.2->qiskit-machine-learning) (1.12)\n",
            "Requirement already satisfied: python-dateutil>=2.8.0 in /usr/local/lib/python3.10/dist-packages (from qiskit-terra>=0.22.2->qiskit-machine-learning) (2.8.2)\n",
            "Requirement already satisfied: stevedore>=3.0.0 in /usr/local/lib/python3.10/dist-packages (from qiskit-terra>=0.22.2->qiskit-machine-learning) (5.1.0)\n",
            "Requirement already satisfied: symengine<0.10,>=0.9 in /usr/local/lib/python3.10/dist-packages (from qiskit-terra>=0.22.2->qiskit-machine-learning) (0.9.2)\n",
            "Requirement already satisfied: typing-extensions in /usr/local/lib/python3.10/dist-packages (from qiskit-terra>=0.22.2->qiskit-machine-learning) (4.5.0)\n",
            "Requirement already satisfied: joblib>=1.1.1 in /usr/local/lib/python3.10/dist-packages (from scikit-learn>=0.20.0->qiskit-machine-learning) (1.3.2)\n",
            "Requirement already satisfied: threadpoolctl>=2.0.0 in /usr/local/lib/python3.10/dist-packages (from scikit-learn>=0.20.0->qiskit-machine-learning) (3.2.0)\n",
            "Requirement already satisfied: six>=1.5 in /usr/local/lib/python3.10/dist-packages (from python-dateutil>=2.8.0->qiskit-terra>=0.22.2->qiskit-machine-learning) (1.16.0)\n",
            "Requirement already satisfied: pbr!=2.1.0,>=2.0.0 in /usr/local/lib/python3.10/dist-packages (from stevedore>=3.0.0->qiskit-terra>=0.22.2->qiskit-machine-learning) (5.11.1)\n",
            "Requirement already satisfied: mpmath>=0.19 in /usr/local/lib/python3.10/dist-packages (from sympy>=1.3->qiskit-terra>=0.22.2->qiskit-machine-learning) (1.3.0)\n",
            "Requirement already satisfied: qiskit-optimization in /usr/local/lib/python3.10/dist-packages (0.5.0)\n",
            "Requirement already satisfied: qiskit-terra>=0.22.4 in /usr/local/lib/python3.10/dist-packages (from qiskit-optimization) (0.45.0)\n",
            "Requirement already satisfied: scipy>=1.4 in /usr/local/lib/python3.10/dist-packages (from qiskit-optimization) (1.11.3)\n",
            "Requirement already satisfied: numpy>=1.17 in /usr/local/lib/python3.10/dist-packages (from qiskit-optimization) (1.23.5)\n",
            "Requirement already satisfied: docplex!=2.24.231,>=2.21.207 in /usr/local/lib/python3.10/dist-packages (from qiskit-optimization) (2.25.236)\n",
            "Requirement already satisfied: setuptools>=40.1.0 in /usr/local/lib/python3.10/dist-packages (from qiskit-optimization) (67.7.2)\n",
            "Requirement already satisfied: networkx>=2.6.3 in /usr/local/lib/python3.10/dist-packages (from qiskit-optimization) (3.2)\n",
            "Requirement already satisfied: six in /usr/local/lib/python3.10/dist-packages (from docplex!=2.24.231,>=2.21.207->qiskit-optimization) (1.16.0)\n",
            "Requirement already satisfied: rustworkx>=0.13.0 in /usr/local/lib/python3.10/dist-packages (from qiskit-terra>=0.22.4->qiskit-optimization) (0.13.2)\n",
            "Requirement already satisfied: ply>=3.10 in /usr/local/lib/python3.10/dist-packages (from qiskit-terra>=0.22.4->qiskit-optimization) (3.11)\n",
            "Requirement already satisfied: psutil>=5 in /usr/local/lib/python3.10/dist-packages (from qiskit-terra>=0.22.4->qiskit-optimization) (5.9.5)\n",
            "Requirement already satisfied: sympy>=1.3 in /usr/local/lib/python3.10/dist-packages (from qiskit-terra>=0.22.4->qiskit-optimization) (1.12)\n",
            "Requirement already satisfied: dill>=0.3 in /usr/local/lib/python3.10/dist-packages (from qiskit-terra>=0.22.4->qiskit-optimization) (0.3.7)\n",
            "Requirement already satisfied: python-dateutil>=2.8.0 in /usr/local/lib/python3.10/dist-packages (from qiskit-terra>=0.22.4->qiskit-optimization) (2.8.2)\n",
            "Requirement already satisfied: stevedore>=3.0.0 in /usr/local/lib/python3.10/dist-packages (from qiskit-terra>=0.22.4->qiskit-optimization) (5.1.0)\n",
            "Requirement already satisfied: symengine<0.10,>=0.9 in /usr/local/lib/python3.10/dist-packages (from qiskit-terra>=0.22.4->qiskit-optimization) (0.9.2)\n",
            "Requirement already satisfied: typing-extensions in /usr/local/lib/python3.10/dist-packages (from qiskit-terra>=0.22.4->qiskit-optimization) (4.5.0)\n",
            "Requirement already satisfied: pbr!=2.1.0,>=2.0.0 in /usr/local/lib/python3.10/dist-packages (from stevedore>=3.0.0->qiskit-terra>=0.22.4->qiskit-optimization) (5.11.1)\n",
            "Requirement already satisfied: mpmath>=0.19 in /usr/local/lib/python3.10/dist-packages (from sympy>=1.3->qiskit-terra>=0.22.4->qiskit-optimization) (1.3.0)\n"
          ]
        }
      ],
      "source": [
        "!pip install -q qiskit\n",
        "!pip install -q pylatexenc\n",
        "#!pip install git+https://github.com/qiskit-community/qiskit-textbook.git#subdirectory=qiskit-textbook-src\n",
        "!pip install qiskit-aer\n",
        "!pip install qiskit-machine-learning\n",
        "!pip install qiskit-optimization"
      ]
    },
    {
      "cell_type": "code",
      "source": [
        "!pip install qiskit-optimization[cplex]"
      ],
      "metadata": {
        "colab": {
          "base_uri": "https://localhost:8080/"
        },
        "id": "ICAx6XdI2mhN",
        "outputId": "4c7ad270-700e-432f-b15b-d28357daf9c7"
      },
      "execution_count": null,
      "outputs": [
        {
          "output_type": "stream",
          "name": "stdout",
          "text": [
            "Requirement already satisfied: qiskit-optimization[cplex] in /usr/local/lib/python3.10/dist-packages (0.5.0)\n",
            "Requirement already satisfied: qiskit-terra>=0.22.4 in /usr/local/lib/python3.10/dist-packages (from qiskit-optimization[cplex]) (0.45.0)\n",
            "Requirement already satisfied: scipy>=1.4 in /usr/local/lib/python3.10/dist-packages (from qiskit-optimization[cplex]) (1.11.3)\n",
            "Requirement already satisfied: numpy>=1.17 in /usr/local/lib/python3.10/dist-packages (from qiskit-optimization[cplex]) (1.23.5)\n",
            "Requirement already satisfied: docplex!=2.24.231,>=2.21.207 in /usr/local/lib/python3.10/dist-packages (from qiskit-optimization[cplex]) (2.25.236)\n",
            "Requirement already satisfied: setuptools>=40.1.0 in /usr/local/lib/python3.10/dist-packages (from qiskit-optimization[cplex]) (67.7.2)\n",
            "Requirement already satisfied: networkx>=2.6.3 in /usr/local/lib/python3.10/dist-packages (from qiskit-optimization[cplex]) (3.2)\n",
            "Requirement already satisfied: cplex in /usr/local/lib/python3.10/dist-packages (from qiskit-optimization[cplex]) (22.1.1.0)\n",
            "Requirement already satisfied: six in /usr/local/lib/python3.10/dist-packages (from docplex!=2.24.231,>=2.21.207->qiskit-optimization[cplex]) (1.16.0)\n",
            "Requirement already satisfied: rustworkx>=0.13.0 in /usr/local/lib/python3.10/dist-packages (from qiskit-terra>=0.22.4->qiskit-optimization[cplex]) (0.13.2)\n",
            "Requirement already satisfied: ply>=3.10 in /usr/local/lib/python3.10/dist-packages (from qiskit-terra>=0.22.4->qiskit-optimization[cplex]) (3.11)\n",
            "Requirement already satisfied: psutil>=5 in /usr/local/lib/python3.10/dist-packages (from qiskit-terra>=0.22.4->qiskit-optimization[cplex]) (5.9.5)\n",
            "Requirement already satisfied: sympy>=1.3 in /usr/local/lib/python3.10/dist-packages (from qiskit-terra>=0.22.4->qiskit-optimization[cplex]) (1.12)\n",
            "Requirement already satisfied: dill>=0.3 in /usr/local/lib/python3.10/dist-packages (from qiskit-terra>=0.22.4->qiskit-optimization[cplex]) (0.3.7)\n",
            "Requirement already satisfied: python-dateutil>=2.8.0 in /usr/local/lib/python3.10/dist-packages (from qiskit-terra>=0.22.4->qiskit-optimization[cplex]) (2.8.2)\n",
            "Requirement already satisfied: stevedore>=3.0.0 in /usr/local/lib/python3.10/dist-packages (from qiskit-terra>=0.22.4->qiskit-optimization[cplex]) (5.1.0)\n",
            "Requirement already satisfied: symengine<0.10,>=0.9 in /usr/local/lib/python3.10/dist-packages (from qiskit-terra>=0.22.4->qiskit-optimization[cplex]) (0.9.2)\n",
            "Requirement already satisfied: typing-extensions in /usr/local/lib/python3.10/dist-packages (from qiskit-terra>=0.22.4->qiskit-optimization[cplex]) (4.5.0)\n",
            "Requirement already satisfied: pbr!=2.1.0,>=2.0.0 in /usr/local/lib/python3.10/dist-packages (from stevedore>=3.0.0->qiskit-terra>=0.22.4->qiskit-optimization[cplex]) (5.11.1)\n",
            "Requirement already satisfied: mpmath>=0.19 in /usr/local/lib/python3.10/dist-packages (from sympy>=1.3->qiskit-terra>=0.22.4->qiskit-optimization[cplex]) (1.3.0)\n"
          ]
        }
      ]
    },
    {
      "cell_type": "code",
      "source": [
        "!pip install qiskit-optimization[gurobi]"
      ],
      "metadata": {
        "colab": {
          "base_uri": "https://localhost:8080/"
        },
        "id": "k9dOSVEA2qDe",
        "outputId": "205fb5fd-3186-4756-c753-d3e40f3153d7"
      },
      "execution_count": null,
      "outputs": [
        {
          "output_type": "stream",
          "name": "stdout",
          "text": [
            "Requirement already satisfied: qiskit-optimization[gurobi] in /usr/local/lib/python3.10/dist-packages (0.5.0)\n",
            "Requirement already satisfied: qiskit-terra>=0.22.4 in /usr/local/lib/python3.10/dist-packages (from qiskit-optimization[gurobi]) (0.45.0)\n",
            "Requirement already satisfied: scipy>=1.4 in /usr/local/lib/python3.10/dist-packages (from qiskit-optimization[gurobi]) (1.11.3)\n",
            "Requirement already satisfied: numpy>=1.17 in /usr/local/lib/python3.10/dist-packages (from qiskit-optimization[gurobi]) (1.23.5)\n",
            "Requirement already satisfied: docplex!=2.24.231,>=2.21.207 in /usr/local/lib/python3.10/dist-packages (from qiskit-optimization[gurobi]) (2.25.236)\n",
            "Requirement already satisfied: setuptools>=40.1.0 in /usr/local/lib/python3.10/dist-packages (from qiskit-optimization[gurobi]) (67.7.2)\n",
            "Requirement already satisfied: networkx>=2.6.3 in /usr/local/lib/python3.10/dist-packages (from qiskit-optimization[gurobi]) (3.2)\n",
            "Collecting gurobipy (from qiskit-optimization[gurobi])\n",
            "  Downloading gurobipy-10.0.3-cp310-cp310-manylinux2014_x86_64.whl (12.7 MB)\n",
            "\u001b[2K     \u001b[90m━━━━━━━━━━━━━━━━━━━━━━━━━━━━━━━━━━━━━━━━\u001b[0m \u001b[32m12.7/12.7 MB\u001b[0m \u001b[31m21.6 MB/s\u001b[0m eta \u001b[36m0:00:00\u001b[0m\n",
            "\u001b[?25hRequirement already satisfied: six in /usr/local/lib/python3.10/dist-packages (from docplex!=2.24.231,>=2.21.207->qiskit-optimization[gurobi]) (1.16.0)\n",
            "Requirement already satisfied: rustworkx>=0.13.0 in /usr/local/lib/python3.10/dist-packages (from qiskit-terra>=0.22.4->qiskit-optimization[gurobi]) (0.13.2)\n",
            "Requirement already satisfied: ply>=3.10 in /usr/local/lib/python3.10/dist-packages (from qiskit-terra>=0.22.4->qiskit-optimization[gurobi]) (3.11)\n",
            "Requirement already satisfied: psutil>=5 in /usr/local/lib/python3.10/dist-packages (from qiskit-terra>=0.22.4->qiskit-optimization[gurobi]) (5.9.5)\n",
            "Requirement already satisfied: sympy>=1.3 in /usr/local/lib/python3.10/dist-packages (from qiskit-terra>=0.22.4->qiskit-optimization[gurobi]) (1.12)\n",
            "Requirement already satisfied: dill>=0.3 in /usr/local/lib/python3.10/dist-packages (from qiskit-terra>=0.22.4->qiskit-optimization[gurobi]) (0.3.7)\n",
            "Requirement already satisfied: python-dateutil>=2.8.0 in /usr/local/lib/python3.10/dist-packages (from qiskit-terra>=0.22.4->qiskit-optimization[gurobi]) (2.8.2)\n",
            "Requirement already satisfied: stevedore>=3.0.0 in /usr/local/lib/python3.10/dist-packages (from qiskit-terra>=0.22.4->qiskit-optimization[gurobi]) (5.1.0)\n",
            "Requirement already satisfied: symengine<0.10,>=0.9 in /usr/local/lib/python3.10/dist-packages (from qiskit-terra>=0.22.4->qiskit-optimization[gurobi]) (0.9.2)\n",
            "Requirement already satisfied: typing-extensions in /usr/local/lib/python3.10/dist-packages (from qiskit-terra>=0.22.4->qiskit-optimization[gurobi]) (4.5.0)\n",
            "Requirement already satisfied: pbr!=2.1.0,>=2.0.0 in /usr/local/lib/python3.10/dist-packages (from stevedore>=3.0.0->qiskit-terra>=0.22.4->qiskit-optimization[gurobi]) (5.11.1)\n",
            "Requirement already satisfied: mpmath>=0.19 in /usr/local/lib/python3.10/dist-packages (from sympy>=1.3->qiskit-terra>=0.22.4->qiskit-optimization[gurobi]) (1.3.0)\n",
            "Installing collected packages: gurobipy\n",
            "Successfully installed gurobipy-10.0.3\n"
          ]
        }
      ]
    },
    {
      "cell_type": "code",
      "source": [
        "from qiskit_optimization.problems import QuadraticProgram\n",
        "\n",
        "# define a problem\n",
        "qp = QuadraticProgram()\n",
        "qp.binary_var(\"x\")\n",
        "qp.integer_var(name=\"y\", lowerbound=-1, upperbound=4)\n",
        "qp.maximize(quadratic={(\"x\", \"y\"): 1})\n",
        "qp.linear_constraint({\"x\": 1, \"y\": -1}, \"<=\", 0)\n",
        "print(qp.prettyprint())"
      ],
      "metadata": {
        "colab": {
          "base_uri": "https://localhost:8080/"
        },
        "id": "4FEtUgPw2fCq",
        "outputId": "93e48191-523a-4269-da2b-d9d48d541fdb"
      },
      "execution_count": null,
      "outputs": [
        {
          "output_type": "stream",
          "name": "stdout",
          "text": [
            "Problem name: \n",
            "\n",
            "Maximize\n",
            "  x*y\n",
            "\n",
            "Subject to\n",
            "  Linear constraints (1)\n",
            "    x - y <= 0  'c0'\n",
            "\n",
            "  Integer variables (1)\n",
            "    -1 <= y <= 4\n",
            "\n",
            "  Binary variables (1)\n",
            "    x\n",
            "\n"
          ]
        }
      ]
    },
    {
      "cell_type": "code",
      "source": [
        "from qiskit_optimization.algorithms import CplexOptimizer, GurobiOptimizer\n",
        "\n",
        "cplex_result = CplexOptimizer().solve(qp)\n",
        "gurobi_result = GurobiOptimizer().solve(qp)\n",
        "\n",
        "print(\"cplex\")\n",
        "print(cplex_result.prettyprint())\n",
        "print()\n",
        "print(\"gurobi\")\n",
        "print(gurobi_result.prettyprint())"
      ],
      "metadata": {
        "colab": {
          "base_uri": "https://localhost:8080/"
        },
        "id": "4zH6KfJC256x",
        "outputId": "aa0ddf94-9aad-425c-9083-1445671d2066"
      },
      "execution_count": null,
      "outputs": [
        {
          "output_type": "stream",
          "name": "stdout",
          "text": [
            "Restricted license - for non-production use only - expires 2024-10-28\n",
            "cplex\n",
            "objective function value: 4.0\n",
            "variable values: x=1.0, y=4.0\n",
            "status: SUCCESS\n",
            "\n",
            "gurobi\n",
            "objective function value: 4.0\n",
            "variable values: x=1.0, y=4.0\n",
            "status: SUCCESS\n"
          ]
        }
      ]
    },
    {
      "cell_type": "code",
      "source": [
        "result = CplexOptimizer(disp=True, cplex_parameters={\"threads\": 1, \"timelimit\": 0.1}).solve(qp)\n",
        "print(result.prettyprint())"
      ],
      "metadata": {
        "colab": {
          "base_uri": "https://localhost:8080/"
        },
        "id": "2mqabOhY2tq_",
        "outputId": "eb4f9636-8772-44ad-8c13-7f4d3b4278f7"
      },
      "execution_count": null,
      "outputs": [
        {
          "output_type": "stream",
          "name": "stdout",
          "text": [
            "Version identifier: 22.1.1.0 | 2023-02-11 | 22d6266e5\n",
            "CPXPARAM_Read_DataCheck                          1\n",
            "CPXPARAM_Threads                                 1\n",
            "CPXPARAM_TimeLimit                               0.10000000000000001\n",
            "Found incumbent of value 0.000000 after 0.00 sec. (0.00 ticks)\n",
            "Found incumbent of value 4.000000 after 0.00 sec. (0.00 ticks)\n",
            "\n",
            "Root node processing (before b&c):\n",
            "  Real time             =    0.00 sec. (0.00 ticks)\n",
            "Sequential b&c:\n",
            "  Real time             =    0.00 sec. (0.00 ticks)\n",
            "                          ------------\n",
            "Total (root+branch&cut) =    0.00 sec. (0.00 ticks)\n",
            "objective function value: 4.0\n",
            "variable values: x=1.0, y=4.0\n",
            "status: SUCCESS\n"
          ]
        }
      ]
    },
    {
      "cell_type": "markdown",
      "source": [
        "#### For QAOA"
      ],
      "metadata": {
        "id": "48NhieNd4ZEI"
      }
    },
    {
      "cell_type": "code",
      "source": [
        "from qiskit_optimization.algorithms import MinimumEigenOptimizer\n",
        "\n",
        "from qiskit_aer import Aer\n",
        "from qiskit.algorithms.minimum_eigensolvers import QAOA\n",
        "from qiskit.algorithms.optimizers import COBYLA\n",
        "from qiskit.primitives import Sampler\n",
        "\n",
        "meo = MinimumEigenOptimizer(QAOA(sampler=Sampler(), optimizer=COBYLA(maxiter=100)))\n",
        "result = meo.solve(qp)\n",
        "print(result.prettyprint())\n",
        "print(\"\\ndisplay the best 5 solution samples\")\n",
        "for sample in result.samples[:5]:\n",
        "    print(sample)"
      ],
      "metadata": {
        "colab": {
          "base_uri": "https://localhost:8080/"
        },
        "id": "G4xISDba2tng",
        "outputId": "bea22d91-5f54-4d33-ba99-4602ac80ac80"
      },
      "execution_count": null,
      "outputs": [
        {
          "output_type": "stream",
          "name": "stdout",
          "text": [
            "objective function value: 4.0\n",
            "variable values: x=1.0, y=4.0\n",
            "status: SUCCESS\n",
            "\n",
            "display the best 5 solution samples\n",
            "SolutionSample(x=array([1., 4.]), fval=4.0, probability=0.0292394689794861, status=<OptimizationResultStatus.SUCCESS: 0>)\n",
            "SolutionSample(x=array([1., 3.]), fval=3.0, probability=0.0440982969776342, status=<OptimizationResultStatus.SUCCESS: 0>)\n",
            "SolutionSample(x=array([1., 2.]), fval=2.0, probability=0.08026203125097203, status=<OptimizationResultStatus.SUCCESS: 0>)\n",
            "SolutionSample(x=array([1., 1.]), fval=1.0, probability=0.11100558304094364, status=<OptimizationResultStatus.SUCCESS: 0>)\n",
            "SolutionSample(x=array([0., 0.]), fval=0.0, probability=0.07475637586864771, status=<OptimizationResultStatus.SUCCESS: 0>)\n"
          ]
        }
      ]
    },
    {
      "cell_type": "markdown",
      "source": [
        "### Translators between QuadraticProgram and Docplex/Gurobipy"
      ],
      "metadata": {
        "id": "MC6LtNsR4brJ"
      }
    },
    {
      "cell_type": "code",
      "source": [
        "# docplex model\n",
        "from docplex.mp.model import Model\n",
        "\n",
        "docplex_model = Model(\"docplex\")\n",
        "x = docplex_model.binary_var(\"x\")\n",
        "y = docplex_model.integer_var(-1, 4, \"y\")\n",
        "docplex_model.maximize(x * y)\n",
        "docplex_model.add_constraint(x <= y)\n",
        "docplex_model.prettyprint()"
      ],
      "metadata": {
        "colab": {
          "base_uri": "https://localhost:8080/"
        },
        "id": "V46C24Ce2tki",
        "outputId": "9fb9d582-51cd-486d-b7f0-c4ef8f87c39b"
      },
      "execution_count": null,
      "outputs": [
        {
          "output_type": "stream",
          "name": "stdout",
          "text": [
            "// This file has been generated by DOcplex\n",
            "// model name is: docplex\n",
            "// single vars section\n",
            "dvar bool x;\n",
            "dvar int y;\n",
            "\n",
            "maximize\n",
            " [ x*y ];\n",
            " \n",
            "subject to {\n",
            " x <= y;\n",
            "\n",
            "}\n"
          ]
        }
      ]
    },
    {
      "cell_type": "code",
      "source": [
        "# gurobi model\n",
        "import gurobipy as gp\n",
        "\n",
        "gurobipy_model = gp.Model(\"gurobi\")\n",
        "x = gurobipy_model.addVar(vtype=gp.GRB.BINARY, name=\"x\")\n",
        "y = gurobipy_model.addVar(vtype=gp.GRB.INTEGER, lb=-1, ub=4, name=\"y\")\n",
        "gurobipy_model.setObjective(x * y, gp.GRB.MAXIMIZE)\n",
        "gurobipy_model.addConstr(x - y <= 0)\n",
        "gurobipy_model.update()\n",
        "gurobipy_model.display()"
      ],
      "metadata": {
        "id": "eKSUjIb22tiB",
        "colab": {
          "base_uri": "https://localhost:8080/"
        },
        "outputId": "eee03fe7-85d4-4785-b573-55c1a9f65067"
      },
      "execution_count": 9,
      "outputs": [
        {
          "output_type": "stream",
          "name": "stdout",
          "text": [
            "Maximize\n",
            "  0.0 + [ x * y ]\n",
            "Subject To\n",
            "  R0: x + -1.0 y <= 0\n",
            "Bounds\n",
            "  -1 <= y <= 4\n",
            "Binaries\n",
            "  ['x']\n",
            "General Integers\n",
            "  ['y']\n"
          ]
        }
      ]
    },
    {
      "cell_type": "code",
      "source": [
        "from qiskit_optimization.translators import from_docplex_mp, from_gurobipy\n",
        "\n",
        "qp = from_docplex_mp(docplex_model)\n",
        "print(\"QuadraticProgram obtained from docpblex\")\n",
        "print(qp.prettyprint())\n",
        "print(\"-------------\")\n",
        "print(\"QuadraticProgram obtained from gurobipy\")\n",
        "qp2 = from_gurobipy(gurobipy_model)\n",
        "print(qp2.prettyprint())"
      ],
      "metadata": {
        "id": "AMnpBTtX2tei",
        "colab": {
          "base_uri": "https://localhost:8080/"
        },
        "outputId": "980bdb2f-0548-4773-d498-263a69bb2f64"
      },
      "execution_count": 10,
      "outputs": [
        {
          "output_type": "stream",
          "name": "stdout",
          "text": [
            "QuadraticProgram obtained from docpblex\n",
            "Problem name: docplex\n",
            "\n",
            "Maximize\n",
            "  x*y\n",
            "\n",
            "Subject to\n",
            "  Linear constraints (1)\n",
            "    x - y <= 0  'c0'\n",
            "\n",
            "  Integer variables (1)\n",
            "    -1 <= y <= 4\n",
            "\n",
            "  Binary variables (1)\n",
            "    x\n",
            "\n",
            "-------------\n",
            "QuadraticProgram obtained from gurobipy\n",
            "Problem name: gurobi\n",
            "\n",
            "Maximize\n",
            "  x*y\n",
            "\n",
            "Subject to\n",
            "  Linear constraints (1)\n",
            "    x - y <= 0  'R0'\n",
            "\n",
            "  Integer variables (1)\n",
            "    -1 <= y <= 4\n",
            "\n",
            "  Binary variables (1)\n",
            "    x\n",
            "\n"
          ]
        }
      ]
    },
    {
      "cell_type": "code",
      "source": [
        "from qiskit_optimization.translators import to_gurobipy, to_docplex_mp\n",
        "\n",
        "gmod = to_gurobipy(from_docplex_mp(docplex_model))\n",
        "print(\"convert docplex to gurobipy via QuadraticProgram\")\n",
        "gmod.display()\n",
        "\n",
        "dmod = to_docplex_mp(from_gurobipy(gurobipy_model))\n",
        "print(\"\\nconvert gurobipy to docplex via QuadraticProgram\")\n",
        "print(dmod.export_as_lp_string())"
      ],
      "metadata": {
        "colab": {
          "base_uri": "https://localhost:8080/"
        },
        "id": "lcmNoM6y455z",
        "outputId": "1b73a4b9-5fe1-4457-bad6-d84c78dbcaa3"
      },
      "execution_count": 11,
      "outputs": [
        {
          "output_type": "stream",
          "name": "stdout",
          "text": [
            "convert docplex to gurobipy via QuadraticProgram\n",
            "Maximize\n",
            "  0.0 + [ x * y ]\n",
            "Subject To\n",
            "  c0: x + -1.0 y <= 0\n",
            "Bounds\n",
            "  -1 <= y <= 4\n",
            "Binaries\n",
            "  ['x']\n",
            "General Integers\n",
            "  ['y']\n",
            "\n",
            "convert gurobipy to docplex via QuadraticProgram\n",
            "\\ This file has been generated by DOcplex\n",
            "\\ ENCODING=ISO-8859-1\n",
            "\\Problem name: gurobi\n",
            "\n",
            "Maximize\n",
            " obj: [ 2 x*y ]/2\n",
            "Subject To\n",
            " R0: x - y <= 0\n",
            "\n",
            "Bounds\n",
            " 0 <= x <= 1\n",
            " -1 <= y <= 4\n",
            "\n",
            "Binaries\n",
            " x\n",
            "\n",
            "Generals\n",
            " y\n",
            "End\n",
            "\n"
          ]
        }
      ]
    },
    {
      "cell_type": "markdown",
      "source": [
        "### Indicator constraints for Docplex"
      ],
      "metadata": {
        "id": "UK3KGmS14_2o"
      }
    },
    {
      "cell_type": "code",
      "source": [
        "ind_mod = Model(\"docplex\")\n",
        "x = ind_mod.binary_var(\"x\")\n",
        "y = ind_mod.integer_var(-1, 2, \"y\")\n",
        "z = ind_mod.integer_var(-1, 2, \"z\")\n",
        "ind_mod.maximize(3 * x + y - z)\n",
        "ind_mod.add_indicator(x, y >= z, 1)\n",
        "print(ind_mod.export_as_lp_string())"
      ],
      "metadata": {
        "colab": {
          "base_uri": "https://localhost:8080/"
        },
        "id": "07DebSX0453U",
        "outputId": "1c8e8376-d8b5-4e37-fa34-3161b62190ac"
      },
      "execution_count": 12,
      "outputs": [
        {
          "output_type": "stream",
          "name": "stdout",
          "text": [
            "\\ This file has been generated by DOcplex\n",
            "\\ ENCODING=ISO-8859-1\n",
            "\\Problem name: docplex\n",
            "\n",
            "Maximize\n",
            " obj: 3 x + y - z\n",
            "Subject To\n",
            " lc1: x = 1 -> y - z >= 0\n",
            "\n",
            "Bounds\n",
            " 0 <= x <= 1\n",
            " -1 <= y <= 2\n",
            " -1 <= z <= 2\n",
            "\n",
            "Binaries\n",
            " x\n",
            "\n",
            "Generals\n",
            " y z\n",
            "End\n",
            "\n"
          ]
        }
      ]
    },
    {
      "cell_type": "code",
      "source": [
        "qp = from_docplex_mp(ind_mod)\n",
        "result = meo.solve(qp)  # apply QAOA to QuadraticProgram\n",
        "print(\"QAOA\")\n",
        "print(result.prettyprint())\n",
        "print(\"-----\\nCPLEX\")\n",
        "print(ind_mod.solve())  # apply CPLEX directly to the Docplex model"
      ],
      "metadata": {
        "colab": {
          "base_uri": "https://localhost:8080/"
        },
        "id": "Pg7DTOlJ45wU",
        "outputId": "ed2dda51-fd3c-4987-b06a-e7d018c68e16"
      },
      "execution_count": 13,
      "outputs": [
        {
          "output_type": "stream",
          "name": "stdout",
          "text": [
            "QAOA\n",
            "objective function value: 6.0\n",
            "variable values: x=1.0, y=2.0, z=-1.0\n",
            "status: SUCCESS\n",
            "-----\n",
            "CPLEX\n",
            "solution for: docplex\n",
            "objective: 6\n",
            "status: OPTIMAL_SOLUTION(2)\n",
            "x=1\n",
            "y=2\n",
            "z=-1\n",
            "\n"
          ]
        }
      ]
    },
    {
      "cell_type": "code",
      "source": [],
      "metadata": {
        "id": "IQkaBmOo2jRQ"
      },
      "execution_count": null,
      "outputs": []
    }
  ]
}