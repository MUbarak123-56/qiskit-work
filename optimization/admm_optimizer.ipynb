{
  "nbformat": 4,
  "nbformat_minor": 0,
  "metadata": {
    "colab": {
      "provenance": [],
      "authorship_tag": "ABX9TyNA4VfPlP3JckRlav5LGBXd",
      "include_colab_link": true
    },
    "kernelspec": {
      "name": "python3",
      "display_name": "Python 3"
    },
    "language_info": {
      "name": "python"
    }
  },
  "cells": [
    {
      "cell_type": "markdown",
      "metadata": {
        "id": "view-in-github",
        "colab_type": "text"
      },
      "source": [
        "<a href=\"https://colab.research.google.com/github/MUbarak123-56/qiskit-work/blob/master/optimization/admm_optimizer.ipynb\" target=\"_parent\"><img src=\"https://colab.research.google.com/assets/colab-badge.svg\" alt=\"Open In Colab\"/></a>"
      ]
    },
    {
      "cell_type": "code",
      "execution_count": 2,
      "metadata": {
        "colab": {
          "base_uri": "https://localhost:8080/"
        },
        "id": "baCFVCn9A3ld",
        "outputId": "0257ec6f-8fc2-44e8-8632-9289f762e4c3"
      },
      "outputs": [
        {
          "output_type": "stream",
          "name": "stdout",
          "text": [
            "Requirement already satisfied: qiskit-aer in /usr/local/lib/python3.10/dist-packages (0.13.0)\n",
            "Requirement already satisfied: qiskit>=0.44.0 in /usr/local/lib/python3.10/dist-packages (from qiskit-aer) (0.44.3)\n",
            "Requirement already satisfied: numpy>=1.16.3 in /usr/local/lib/python3.10/dist-packages (from qiskit-aer) (1.23.5)\n",
            "Requirement already satisfied: scipy>=1.0 in /usr/local/lib/python3.10/dist-packages (from qiskit-aer) (1.11.3)\n",
            "Requirement already satisfied: qiskit-terra==0.25.3 in /usr/local/lib/python3.10/dist-packages (from qiskit>=0.44.0->qiskit-aer) (0.25.3)\n",
            "Requirement already satisfied: rustworkx>=0.13.0 in /usr/local/lib/python3.10/dist-packages (from qiskit-terra==0.25.3->qiskit>=0.44.0->qiskit-aer) (0.13.2)\n",
            "Requirement already satisfied: ply>=3.10 in /usr/local/lib/python3.10/dist-packages (from qiskit-terra==0.25.3->qiskit>=0.44.0->qiskit-aer) (3.11)\n",
            "Requirement already satisfied: psutil>=5 in /usr/local/lib/python3.10/dist-packages (from qiskit-terra==0.25.3->qiskit>=0.44.0->qiskit-aer) (5.9.5)\n",
            "Requirement already satisfied: sympy>=1.3 in /usr/local/lib/python3.10/dist-packages (from qiskit-terra==0.25.3->qiskit>=0.44.0->qiskit-aer) (1.12)\n",
            "Requirement already satisfied: dill>=0.3 in /usr/local/lib/python3.10/dist-packages (from qiskit-terra==0.25.3->qiskit>=0.44.0->qiskit-aer) (0.3.7)\n",
            "Requirement already satisfied: python-dateutil>=2.8.0 in /usr/local/lib/python3.10/dist-packages (from qiskit-terra==0.25.3->qiskit>=0.44.0->qiskit-aer) (2.8.2)\n",
            "Requirement already satisfied: stevedore>=3.0.0 in /usr/local/lib/python3.10/dist-packages (from qiskit-terra==0.25.3->qiskit>=0.44.0->qiskit-aer) (5.1.0)\n",
            "Requirement already satisfied: symengine<0.10,>=0.9 in /usr/local/lib/python3.10/dist-packages (from qiskit-terra==0.25.3->qiskit>=0.44.0->qiskit-aer) (0.9.2)\n",
            "Requirement already satisfied: typing-extensions in /usr/local/lib/python3.10/dist-packages (from qiskit-terra==0.25.3->qiskit>=0.44.0->qiskit-aer) (4.5.0)\n",
            "Requirement already satisfied: six>=1.5 in /usr/local/lib/python3.10/dist-packages (from python-dateutil>=2.8.0->qiskit-terra==0.25.3->qiskit>=0.44.0->qiskit-aer) (1.16.0)\n",
            "Requirement already satisfied: pbr!=2.1.0,>=2.0.0 in /usr/local/lib/python3.10/dist-packages (from stevedore>=3.0.0->qiskit-terra==0.25.3->qiskit>=0.44.0->qiskit-aer) (5.11.1)\n",
            "Requirement already satisfied: mpmath>=0.19 in /usr/local/lib/python3.10/dist-packages (from sympy>=1.3->qiskit-terra==0.25.3->qiskit>=0.44.0->qiskit-aer) (1.3.0)\n",
            "Requirement already satisfied: qiskit-machine-learning in /usr/local/lib/python3.10/dist-packages (0.6.1)\n",
            "Requirement already satisfied: qiskit-terra>=0.22.2 in /usr/local/lib/python3.10/dist-packages (from qiskit-machine-learning) (0.25.3)\n",
            "Requirement already satisfied: scipy>=1.4 in /usr/local/lib/python3.10/dist-packages (from qiskit-machine-learning) (1.11.3)\n",
            "Requirement already satisfied: numpy>=1.17 in /usr/local/lib/python3.10/dist-packages (from qiskit-machine-learning) (1.23.5)\n",
            "Requirement already satisfied: psutil>=5 in /usr/local/lib/python3.10/dist-packages (from qiskit-machine-learning) (5.9.5)\n",
            "Requirement already satisfied: scikit-learn>=0.20.0 in /usr/local/lib/python3.10/dist-packages (from qiskit-machine-learning) (1.2.2)\n",
            "Requirement already satisfied: fastdtw in /usr/local/lib/python3.10/dist-packages (from qiskit-machine-learning) (0.3.4)\n",
            "Requirement already satisfied: setuptools>=40.1.0 in /usr/local/lib/python3.10/dist-packages (from qiskit-machine-learning) (67.7.2)\n",
            "Requirement already satisfied: dill>=0.3.4 in /usr/local/lib/python3.10/dist-packages (from qiskit-machine-learning) (0.3.7)\n",
            "Requirement already satisfied: rustworkx>=0.13.0 in /usr/local/lib/python3.10/dist-packages (from qiskit-terra>=0.22.2->qiskit-machine-learning) (0.13.2)\n",
            "Requirement already satisfied: ply>=3.10 in /usr/local/lib/python3.10/dist-packages (from qiskit-terra>=0.22.2->qiskit-machine-learning) (3.11)\n",
            "Requirement already satisfied: sympy>=1.3 in /usr/local/lib/python3.10/dist-packages (from qiskit-terra>=0.22.2->qiskit-machine-learning) (1.12)\n",
            "Requirement already satisfied: python-dateutil>=2.8.0 in /usr/local/lib/python3.10/dist-packages (from qiskit-terra>=0.22.2->qiskit-machine-learning) (2.8.2)\n",
            "Requirement already satisfied: stevedore>=3.0.0 in /usr/local/lib/python3.10/dist-packages (from qiskit-terra>=0.22.2->qiskit-machine-learning) (5.1.0)\n",
            "Requirement already satisfied: symengine<0.10,>=0.9 in /usr/local/lib/python3.10/dist-packages (from qiskit-terra>=0.22.2->qiskit-machine-learning) (0.9.2)\n",
            "Requirement already satisfied: typing-extensions in /usr/local/lib/python3.10/dist-packages (from qiskit-terra>=0.22.2->qiskit-machine-learning) (4.5.0)\n",
            "Requirement already satisfied: joblib>=1.1.1 in /usr/local/lib/python3.10/dist-packages (from scikit-learn>=0.20.0->qiskit-machine-learning) (1.3.2)\n",
            "Requirement already satisfied: threadpoolctl>=2.0.0 in /usr/local/lib/python3.10/dist-packages (from scikit-learn>=0.20.0->qiskit-machine-learning) (3.2.0)\n",
            "Requirement already satisfied: six>=1.5 in /usr/local/lib/python3.10/dist-packages (from python-dateutil>=2.8.0->qiskit-terra>=0.22.2->qiskit-machine-learning) (1.16.0)\n",
            "Requirement already satisfied: pbr!=2.1.0,>=2.0.0 in /usr/local/lib/python3.10/dist-packages (from stevedore>=3.0.0->qiskit-terra>=0.22.2->qiskit-machine-learning) (5.11.1)\n",
            "Requirement already satisfied: mpmath>=0.19 in /usr/local/lib/python3.10/dist-packages (from sympy>=1.3->qiskit-terra>=0.22.2->qiskit-machine-learning) (1.3.0)\n",
            "Requirement already satisfied: qiskit-optimization in /usr/local/lib/python3.10/dist-packages (0.5.0)\n",
            "Requirement already satisfied: qiskit-terra>=0.22.4 in /usr/local/lib/python3.10/dist-packages (from qiskit-optimization) (0.25.3)\n",
            "Requirement already satisfied: scipy>=1.4 in /usr/local/lib/python3.10/dist-packages (from qiskit-optimization) (1.11.3)\n",
            "Requirement already satisfied: numpy>=1.17 in /usr/local/lib/python3.10/dist-packages (from qiskit-optimization) (1.23.5)\n",
            "Requirement already satisfied: docplex!=2.24.231,>=2.21.207 in /usr/local/lib/python3.10/dist-packages (from qiskit-optimization) (2.25.236)\n",
            "Requirement already satisfied: setuptools>=40.1.0 in /usr/local/lib/python3.10/dist-packages (from qiskit-optimization) (67.7.2)\n",
            "Requirement already satisfied: networkx>=2.6.3 in /usr/local/lib/python3.10/dist-packages (from qiskit-optimization) (3.2)\n",
            "Requirement already satisfied: six in /usr/local/lib/python3.10/dist-packages (from docplex!=2.24.231,>=2.21.207->qiskit-optimization) (1.16.0)\n",
            "Requirement already satisfied: rustworkx>=0.13.0 in /usr/local/lib/python3.10/dist-packages (from qiskit-terra>=0.22.4->qiskit-optimization) (0.13.2)\n",
            "Requirement already satisfied: ply>=3.10 in /usr/local/lib/python3.10/dist-packages (from qiskit-terra>=0.22.4->qiskit-optimization) (3.11)\n",
            "Requirement already satisfied: psutil>=5 in /usr/local/lib/python3.10/dist-packages (from qiskit-terra>=0.22.4->qiskit-optimization) (5.9.5)\n",
            "Requirement already satisfied: sympy>=1.3 in /usr/local/lib/python3.10/dist-packages (from qiskit-terra>=0.22.4->qiskit-optimization) (1.12)\n",
            "Requirement already satisfied: dill>=0.3 in /usr/local/lib/python3.10/dist-packages (from qiskit-terra>=0.22.4->qiskit-optimization) (0.3.7)\n",
            "Requirement already satisfied: python-dateutil>=2.8.0 in /usr/local/lib/python3.10/dist-packages (from qiskit-terra>=0.22.4->qiskit-optimization) (2.8.2)\n",
            "Requirement already satisfied: stevedore>=3.0.0 in /usr/local/lib/python3.10/dist-packages (from qiskit-terra>=0.22.4->qiskit-optimization) (5.1.0)\n",
            "Requirement already satisfied: symengine<0.10,>=0.9 in /usr/local/lib/python3.10/dist-packages (from qiskit-terra>=0.22.4->qiskit-optimization) (0.9.2)\n",
            "Requirement already satisfied: typing-extensions in /usr/local/lib/python3.10/dist-packages (from qiskit-terra>=0.22.4->qiskit-optimization) (4.5.0)\n",
            "Requirement already satisfied: pbr!=2.1.0,>=2.0.0 in /usr/local/lib/python3.10/dist-packages (from stevedore>=3.0.0->qiskit-terra>=0.22.4->qiskit-optimization) (5.11.1)\n",
            "Requirement already satisfied: mpmath>=0.19 in /usr/local/lib/python3.10/dist-packages (from sympy>=1.3->qiskit-terra>=0.22.4->qiskit-optimization) (1.3.0)\n"
          ]
        }
      ],
      "source": [
        "!pip install -q qiskit\n",
        "!pip install -q pylatexenc\n",
        "#!pip install git+https://github.com/qiskit-community/qiskit-textbook.git#subdirectory=qiskit-textbook-src\n",
        "!pip install qiskit-aer\n",
        "!pip install qiskit-machine-learning\n",
        "!pip install qiskit-optimization"
      ]
    },
    {
      "cell_type": "code",
      "source": [
        "import matplotlib.pyplot as plt\n",
        "\n",
        "from docplex.mp.model import Model\n",
        "\n",
        "from qiskit.algorithms.minimum_eigensolvers import QAOA, NumPyMinimumEigensolver\n",
        "from qiskit.algorithms.optimizers import COBYLA\n",
        "from qiskit.primitives import Sampler\n",
        "from qiskit_optimization.algorithms import CobylaOptimizer, MinimumEigenOptimizer\n",
        "from qiskit_optimization.algorithms.admm_optimizer import ADMMParameters, ADMMOptimizer\n",
        "from qiskit_optimization.translators import from_docplex_mp"
      ],
      "metadata": {
        "colab": {
          "base_uri": "https://localhost:8080/"
        },
        "id": "g1HS2-CgA9Fs",
        "outputId": "897745b2-92b1-4775-b1fb-1b6e3840bab7"
      },
      "execution_count": 3,
      "outputs": [
        {
          "output_type": "stream",
          "name": "stderr",
          "text": [
            "<ipython-input-3-d2466b5b0c9e>:5: DeprecationWarning: ``qiskit.algorithms`` has been migrated to an independent package: https://github.com/qiskit-community/qiskit-algorithms. The ``qiskit.algorithms`` import path is deprecated as of qiskit-terra 0.25.0 and will be removed no earlier than 3 months after the release date. Please run ``pip install qiskit_algorithms`` and use ``import qiskit_algorithms`` instead.\n",
            "  from qiskit.algorithms.minimum_eigensolvers import QAOA, NumPyMinimumEigensolver\n"
          ]
        }
      ]
    },
    {
      "cell_type": "code",
      "source": [
        "# define COBYLA optimizer to handle convex continuous problems.\n",
        "cobyla = CobylaOptimizer()\n",
        "\n",
        "# define QAOA via the minimum eigen optimizer\n",
        "qaoa = MinimumEigenOptimizer(QAOA(sampler=Sampler(), optimizer=COBYLA()))\n",
        "\n",
        "# exact QUBO solver as classical benchmark\n",
        "exact = MinimumEigenOptimizer(NumPyMinimumEigensolver())  # to solve QUBOs"
      ],
      "metadata": {
        "id": "fWtv82dzTOsE"
      },
      "execution_count": 4,
      "outputs": []
    },
    {
      "cell_type": "code",
      "source": [
        "# construct model using docplex\n",
        "mdl = Model(\"ex6\")\n",
        "\n",
        "v = mdl.binary_var(name=\"v\")\n",
        "w = mdl.binary_var(name=\"w\")\n",
        "t = mdl.binary_var(name=\"t\")\n",
        "u = mdl.continuous_var(name=\"u\")\n",
        "\n",
        "mdl.minimize(v + w + t + 5 * (u - 2) ** 2)\n",
        "mdl.add_constraint(v + 2 * w + t + u <= 3, \"cons1\")\n",
        "mdl.add_constraint(v + w + t >= 1, \"cons2\")\n",
        "mdl.add_constraint(v + w == 1, \"cons3\")\n",
        "\n",
        "# load quadratic program from docplex model\n",
        "qp = from_docplex_mp(mdl)\n",
        "print(qp.prettyprint())"
      ],
      "metadata": {
        "id": "Kmbsz9kcTZqJ",
        "outputId": "c2db7e9a-d874-4225-c208-80810006066f",
        "colab": {
          "base_uri": "https://localhost:8080/"
        }
      },
      "execution_count": 5,
      "outputs": [
        {
          "output_type": "stream",
          "name": "stdout",
          "text": [
            "Problem name: ex6\n",
            "\n",
            "Minimize\n",
            "  5*u^2 + t - 20*u + v + w + 20\n",
            "\n",
            "Subject to\n",
            "  Linear constraints (3)\n",
            "    t + u + v + 2*w <= 3  'cons1'\n",
            "    t + v + w >= 1  'cons2'\n",
            "    v + w == 1  'cons3'\n",
            "\n",
            "  Continuous variables (1)\n",
            "    0 <= u\n",
            "\n",
            "  Binary variables (3)\n",
            "    v w t\n",
            "\n"
          ]
        }
      ]
    },
    {
      "cell_type": "markdown",
      "source": [
        "### Classical Solution"
      ],
      "metadata": {
        "id": "ZAN309uCTsye"
      }
    },
    {
      "cell_type": "code",
      "source": [
        "admm_params = ADMMParameters(\n",
        "    rho_initial=1001, beta=1000, factor_c=900, maxiter=100, three_block=True, tol=1.0e-6\n",
        ")"
      ],
      "metadata": {
        "id": "OiPZHo2aTojT"
      },
      "execution_count": 6,
      "outputs": []
    },
    {
      "cell_type": "code",
      "source": [
        "# define QUBO optimizer\n",
        "qubo_optimizer = exact\n",
        "# qubo_optimizer = cplex  # uncomment to use CPLEX instead\n",
        "\n",
        "# define classical optimizer\n",
        "convex_optimizer = cobyla\n",
        "# convex_optimizer = cplex  # uncomment to use CPLEX instead\n",
        "\n",
        "# initialize ADMM with classical QUBO and convex optimizer\n",
        "admm = ADMMOptimizer(\n",
        "    params=admm_params, qubo_optimizer=qubo_optimizer, continuous_optimizer=convex_optimizer\n",
        ")"
      ],
      "metadata": {
        "id": "YGTQ5uroT3tJ"
      },
      "execution_count": 7,
      "outputs": []
    },
    {
      "cell_type": "code",
      "source": [
        "result = admm.solve(qp)"
      ],
      "metadata": {
        "id": "7Fv0b-qDT3qT"
      },
      "execution_count": 8,
      "outputs": []
    },
    {
      "cell_type": "code",
      "source": [
        "print(result.prettyprint())"
      ],
      "metadata": {
        "id": "0Oh_olbWT3m1",
        "outputId": "d20dec87-e544-45ca-e0f7-730bcddf734b",
        "colab": {
          "base_uri": "https://localhost:8080/"
        }
      },
      "execution_count": 9,
      "outputs": [
        {
          "output_type": "stream",
          "name": "stdout",
          "text": [
            "objective function value: 1.0\n",
            "variable values: v=1.0, w=0.0, t=0.0, u=2.0\n",
            "status: SUCCESS\n"
          ]
        }
      ]
    },
    {
      "cell_type": "code",
      "source": [
        "plt.plot(result.state.residuals)\n",
        "plt.xlabel(\"Iterations\")\n",
        "plt.ylabel(\"Residuals\")\n",
        "plt.show()"
      ],
      "metadata": {
        "id": "0rHo-RDXT3jQ",
        "outputId": "3a8a98ad-ee1a-454e-a363-4c0e0793c131",
        "colab": {
          "base_uri": "https://localhost:8080/",
          "height": 451
        }
      },
      "execution_count": 10,
      "outputs": [
        {
          "output_type": "display_data",
          "data": {
            "text/plain": [
              "<Figure size 640x480 with 1 Axes>"
            ],
            "image/png": "[encoded data removed]"
          },
          "metadata": {}
        }
      ]
    },
    {
      "cell_type": "markdown",
      "source": [
        "### Quantum Solution"
      ],
      "metadata": {
        "id": "Mem9bl6vU3Dn"
      }
    },
    {
      "cell_type": "code",
      "source": [
        "# define QUBO optimizer\n",
        "qubo_optimizer = qaoa\n",
        "\n",
        "# define classical optimizer\n",
        "convex_optimizer = cobyla\n",
        "# convex_optimizer = cplex  # uncomment to use CPLEX instead\n",
        "\n",
        "# initialize ADMM with quantum QUBO optimizer and classical convex optimizer\n",
        "admm_q = ADMMOptimizer(\n",
        "    params=admm_params, qubo_optimizer=qubo_optimizer, continuous_optimizer=convex_optimizer\n",
        ")"
      ],
      "metadata": {
        "id": "cgps_raqU1Sk"
      },
      "execution_count": 11,
      "outputs": []
    },
    {
      "cell_type": "code",
      "source": [
        "# run ADMM to solve problem\n",
        "result_q = admm_q.solve(qp)"
      ],
      "metadata": {
        "id": "IRkPJzSHU6e7"
      },
      "execution_count": 12,
      "outputs": []
    },
    {
      "cell_type": "code",
      "source": [
        "print(result.prettyprint())"
      ],
      "metadata": {
        "id": "22_KivT9U_5L",
        "outputId": "4669331e-cb98-4424-8959-6095511806fe",
        "colab": {
          "base_uri": "https://localhost:8080/"
        }
      },
      "execution_count": 13,
      "outputs": [
        {
          "output_type": "stream",
          "name": "stdout",
          "text": [
            "objective function value: 1.0\n",
            "variable values: v=1.0, w=0.0, t=0.0, u=2.0\n",
            "status: SUCCESS\n"
          ]
        }
      ]
    },
    {
      "cell_type": "code",
      "source": [
        "plt.clf()\n",
        "plt.plot(result_q.state.residuals)\n",
        "plt.xlabel(\"Iterations\")\n",
        "plt.ylabel(\"Residuals\")\n",
        "plt.show()"
      ],
      "metadata": {
        "id": "5hPfZCB9VDlc",
        "outputId": "c855c004-6453-4614-dc70-3e16ed64e4dc",
        "colab": {
          "base_uri": "https://localhost:8080/",
          "height": 451
        }
      },
      "execution_count": 14,
      "outputs": [
        {
          "output_type": "display_data",
          "data": {
            "text/plain": [
              "<Figure size 640x480 with 1 Axes>"
            ],
            "image/png": "[encoded data removed]"
          },
          "metadata": {}
        }
      ]
    },
    {
      "cell_type": "code",
      "source": [],
      "metadata": {
        "id": "NLOqZBY0VFSR"
      },
      "execution_count": null,
      "outputs": []
    }
  ]
}