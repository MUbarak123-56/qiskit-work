{
  "nbformat": 4,
  "nbformat_minor": 0,
  "metadata": {
    "colab": {
      "provenance": [],
      "authorship_tag": "ABX9TyOSB9vnfSwvc933NvcWfFCF",
      "include_colab_link": true
    },
    "kernelspec": {
      "name": "python3",
      "display_name": "Python 3"
    },
    "language_info": {
      "name": "python"
    }
  },
  "cells": [
    {
      "cell_type": "markdown",
      "metadata": {
        "id": "view-in-github",
        "colab_type": "text"
      },
      "source": [
        "<a href=\"https://colab.research.google.com/github/MUbarak123-56/qiskit-work/blob/master/optimization/quadratic_programs.ipynb\" target=\"_parent\"><img src=\"https://colab.research.google.com/assets/colab-badge.svg\" alt=\"Open In Colab\"/></a>"
      ]
    },
    {
      "cell_type": "code",
      "execution_count": 2,
      "metadata": {
        "colab": {
          "base_uri": "https://localhost:8080/"
        },
        "id": "36zotvCzXMIi",
        "outputId": "06a92a17-6e89-4e7e-8eba-6738b32fb469"
      },
      "outputs": [
        {
          "output_type": "stream",
          "name": "stdout",
          "text": [
            "Requirement already satisfied: qiskit-aer in /usr/local/lib/python3.10/dist-packages (0.13.0)\n",
            "Requirement already satisfied: qiskit>=0.44.0 in /usr/local/lib/python3.10/dist-packages (from qiskit-aer) (0.44.3)\n",
            "Requirement already satisfied: numpy>=1.16.3 in /usr/local/lib/python3.10/dist-packages (from qiskit-aer) (1.23.5)\n",
            "Requirement already satisfied: scipy>=1.0 in /usr/local/lib/python3.10/dist-packages (from qiskit-aer) (1.11.3)\n",
            "Requirement already satisfied: qiskit-terra==0.25.3 in /usr/local/lib/python3.10/dist-packages (from qiskit>=0.44.0->qiskit-aer) (0.25.3)\n",
            "Requirement already satisfied: rustworkx>=0.13.0 in /usr/local/lib/python3.10/dist-packages (from qiskit-terra==0.25.3->qiskit>=0.44.0->qiskit-aer) (0.13.2)\n",
            "Requirement already satisfied: ply>=3.10 in /usr/local/lib/python3.10/dist-packages (from qiskit-terra==0.25.3->qiskit>=0.44.0->qiskit-aer) (3.11)\n",
            "Requirement already satisfied: psutil>=5 in /usr/local/lib/python3.10/dist-packages (from qiskit-terra==0.25.3->qiskit>=0.44.0->qiskit-aer) (5.9.5)\n",
            "Requirement already satisfied: sympy>=1.3 in /usr/local/lib/python3.10/dist-packages (from qiskit-terra==0.25.3->qiskit>=0.44.0->qiskit-aer) (1.12)\n",
            "Requirement already satisfied: dill>=0.3 in /usr/local/lib/python3.10/dist-packages (from qiskit-terra==0.25.3->qiskit>=0.44.0->qiskit-aer) (0.3.7)\n",
            "Requirement already satisfied: python-dateutil>=2.8.0 in /usr/local/lib/python3.10/dist-packages (from qiskit-terra==0.25.3->qiskit>=0.44.0->qiskit-aer) (2.8.2)\n",
            "Requirement already satisfied: stevedore>=3.0.0 in /usr/local/lib/python3.10/dist-packages (from qiskit-terra==0.25.3->qiskit>=0.44.0->qiskit-aer) (5.1.0)\n",
            "Requirement already satisfied: symengine<0.10,>=0.9 in /usr/local/lib/python3.10/dist-packages (from qiskit-terra==0.25.3->qiskit>=0.44.0->qiskit-aer) (0.9.2)\n",
            "Requirement already satisfied: typing-extensions in /usr/local/lib/python3.10/dist-packages (from qiskit-terra==0.25.3->qiskit>=0.44.0->qiskit-aer) (4.5.0)\n",
            "Requirement already satisfied: six>=1.5 in /usr/local/lib/python3.10/dist-packages (from python-dateutil>=2.8.0->qiskit-terra==0.25.3->qiskit>=0.44.0->qiskit-aer) (1.16.0)\n",
            "Requirement already satisfied: pbr!=2.1.0,>=2.0.0 in /usr/local/lib/python3.10/dist-packages (from stevedore>=3.0.0->qiskit-terra==0.25.3->qiskit>=0.44.0->qiskit-aer) (5.11.1)\n",
            "Requirement already satisfied: mpmath>=0.19 in /usr/local/lib/python3.10/dist-packages (from sympy>=1.3->qiskit-terra==0.25.3->qiskit>=0.44.0->qiskit-aer) (1.3.0)\n",
            "Requirement already satisfied: qiskit-machine-learning in /usr/local/lib/python3.10/dist-packages (0.6.1)\n",
            "Requirement already satisfied: qiskit-terra>=0.22.2 in /usr/local/lib/python3.10/dist-packages (from qiskit-machine-learning) (0.25.3)\n",
            "Requirement already satisfied: scipy>=1.4 in /usr/local/lib/python3.10/dist-packages (from qiskit-machine-learning) (1.11.3)\n",
            "Requirement already satisfied: numpy>=1.17 in /usr/local/lib/python3.10/dist-packages (from qiskit-machine-learning) (1.23.5)\n",
            "Requirement already satisfied: psutil>=5 in /usr/local/lib/python3.10/dist-packages (from qiskit-machine-learning) (5.9.5)\n",
            "Requirement already satisfied: scikit-learn>=0.20.0 in /usr/local/lib/python3.10/dist-packages (from qiskit-machine-learning) (1.2.2)\n",
            "Requirement already satisfied: fastdtw in /usr/local/lib/python3.10/dist-packages (from qiskit-machine-learning) (0.3.4)\n",
            "Requirement already satisfied: setuptools>=40.1.0 in /usr/local/lib/python3.10/dist-packages (from qiskit-machine-learning) (67.7.2)\n",
            "Requirement already satisfied: dill>=0.3.4 in /usr/local/lib/python3.10/dist-packages (from qiskit-machine-learning) (0.3.7)\n",
            "Requirement already satisfied: rustworkx>=0.13.0 in /usr/local/lib/python3.10/dist-packages (from qiskit-terra>=0.22.2->qiskit-machine-learning) (0.13.2)\n",
            "Requirement already satisfied: ply>=3.10 in /usr/local/lib/python3.10/dist-packages (from qiskit-terra>=0.22.2->qiskit-machine-learning) (3.11)\n",
            "Requirement already satisfied: sympy>=1.3 in /usr/local/lib/python3.10/dist-packages (from qiskit-terra>=0.22.2->qiskit-machine-learning) (1.12)\n",
            "Requirement already satisfied: python-dateutil>=2.8.0 in /usr/local/lib/python3.10/dist-packages (from qiskit-terra>=0.22.2->qiskit-machine-learning) (2.8.2)\n",
            "Requirement already satisfied: stevedore>=3.0.0 in /usr/local/lib/python3.10/dist-packages (from qiskit-terra>=0.22.2->qiskit-machine-learning) (5.1.0)\n",
            "Requirement already satisfied: symengine<0.10,>=0.9 in /usr/local/lib/python3.10/dist-packages (from qiskit-terra>=0.22.2->qiskit-machine-learning) (0.9.2)\n",
            "Requirement already satisfied: typing-extensions in /usr/local/lib/python3.10/dist-packages (from qiskit-terra>=0.22.2->qiskit-machine-learning) (4.5.0)\n",
            "Requirement already satisfied: joblib>=1.1.1 in /usr/local/lib/python3.10/dist-packages (from scikit-learn>=0.20.0->qiskit-machine-learning) (1.3.2)\n",
            "Requirement already satisfied: threadpoolctl>=2.0.0 in /usr/local/lib/python3.10/dist-packages (from scikit-learn>=0.20.0->qiskit-machine-learning) (3.2.0)\n",
            "Requirement already satisfied: six>=1.5 in /usr/local/lib/python3.10/dist-packages (from python-dateutil>=2.8.0->qiskit-terra>=0.22.2->qiskit-machine-learning) (1.16.0)\n",
            "Requirement already satisfied: pbr!=2.1.0,>=2.0.0 in /usr/local/lib/python3.10/dist-packages (from stevedore>=3.0.0->qiskit-terra>=0.22.2->qiskit-machine-learning) (5.11.1)\n",
            "Requirement already satisfied: mpmath>=0.19 in /usr/local/lib/python3.10/dist-packages (from sympy>=1.3->qiskit-terra>=0.22.2->qiskit-machine-learning) (1.3.0)\n",
            "Collecting qiskit-optimization\n",
            "  Downloading qiskit_optimization-0.5.0-py3-none-any.whl (156 kB)\n",
            "\u001b[2K     \u001b[90m━━━━━━━━━━━━━━━━━━━━━━━━━━━━━━━━━━━━━━━━\u001b[0m \u001b[32m156.5/156.5 kB\u001b[0m \u001b[31m3.2 MB/s\u001b[0m eta \u001b[36m0:00:00\u001b[0m\n",
            "\u001b[?25hRequirement already satisfied: qiskit-terra>=0.22.4 in /usr/local/lib/python3.10/dist-packages (from qiskit-optimization) (0.25.3)\n",
            "Requirement already satisfied: scipy>=1.4 in /usr/local/lib/python3.10/dist-packages (from qiskit-optimization) (1.11.3)\n",
            "Requirement already satisfied: numpy>=1.17 in /usr/local/lib/python3.10/dist-packages (from qiskit-optimization) (1.23.5)\n",
            "Collecting docplex!=2.24.231,>=2.21.207 (from qiskit-optimization)\n",
            "  Downloading docplex-2.25.236.tar.gz (633 kB)\n",
            "\u001b[2K     \u001b[90m━━━━━━━━━━━━━━━━━━━━━━━━━━━━━━━━━━━━━━━━\u001b[0m \u001b[32m633.5/633.5 kB\u001b[0m \u001b[31m20.7 MB/s\u001b[0m eta \u001b[36m0:00:00\u001b[0m\n",
            "\u001b[?25h  Preparing metadata (setup.py) ... \u001b[?25l\u001b[?25hdone\n",
            "Requirement already satisfied: setuptools>=40.1.0 in /usr/local/lib/python3.10/dist-packages (from qiskit-optimization) (67.7.2)\n",
            "Requirement already satisfied: networkx>=2.6.3 in /usr/local/lib/python3.10/dist-packages (from qiskit-optimization) (3.2)\n",
            "Requirement already satisfied: six in /usr/local/lib/python3.10/dist-packages (from docplex!=2.24.231,>=2.21.207->qiskit-optimization) (1.16.0)\n",
            "Requirement already satisfied: rustworkx>=0.13.0 in /usr/local/lib/python3.10/dist-packages (from qiskit-terra>=0.22.4->qiskit-optimization) (0.13.2)\n",
            "Requirement already satisfied: ply>=3.10 in /usr/local/lib/python3.10/dist-packages (from qiskit-terra>=0.22.4->qiskit-optimization) (3.11)\n",
            "Requirement already satisfied: psutil>=5 in /usr/local/lib/python3.10/dist-packages (from qiskit-terra>=0.22.4->qiskit-optimization) (5.9.5)\n",
            "Requirement already satisfied: sympy>=1.3 in /usr/local/lib/python3.10/dist-packages (from qiskit-terra>=0.22.4->qiskit-optimization) (1.12)\n",
            "Requirement already satisfied: dill>=0.3 in /usr/local/lib/python3.10/dist-packages (from qiskit-terra>=0.22.4->qiskit-optimization) (0.3.7)\n",
            "Requirement already satisfied: python-dateutil>=2.8.0 in /usr/local/lib/python3.10/dist-packages (from qiskit-terra>=0.22.4->qiskit-optimization) (2.8.2)\n",
            "Requirement already satisfied: stevedore>=3.0.0 in /usr/local/lib/python3.10/dist-packages (from qiskit-terra>=0.22.4->qiskit-optimization) (5.1.0)\n",
            "Requirement already satisfied: symengine<0.10,>=0.9 in /usr/local/lib/python3.10/dist-packages (from qiskit-terra>=0.22.4->qiskit-optimization) (0.9.2)\n",
            "Requirement already satisfied: typing-extensions in /usr/local/lib/python3.10/dist-packages (from qiskit-terra>=0.22.4->qiskit-optimization) (4.5.0)\n",
            "Requirement already satisfied: pbr!=2.1.0,>=2.0.0 in /usr/local/lib/python3.10/dist-packages (from stevedore>=3.0.0->qiskit-terra>=0.22.4->qiskit-optimization) (5.11.1)\n",
            "Requirement already satisfied: mpmath>=0.19 in /usr/local/lib/python3.10/dist-packages (from sympy>=1.3->qiskit-terra>=0.22.4->qiskit-optimization) (1.3.0)\n",
            "Building wheels for collected packages: docplex\n",
            "  Building wheel for docplex (setup.py) ... \u001b[?25l\u001b[?25hdone\n",
            "  Created wheel for docplex: filename=docplex-2.25.236-py3-none-any.whl size=671349 sha256=4c51d5bcc8d31fbd691302b2a9bb562bb7573a0c383542cb0118cbf20962e6fd\n",
            "  Stored in directory: /root/.cache/pip/wheels/3b/e5/00/0bf0173d67188fe73a13e3a61412b3f975f60205e3fab93a69\n",
            "Successfully built docplex\n",
            "Installing collected packages: docplex, qiskit-optimization\n",
            "Successfully installed docplex-2.25.236 qiskit-optimization-0.5.0\n"
          ]
        }
      ],
      "source": [
        "!pip install -q qiskit\n",
        "!pip install -q pylatexenc\n",
        "#!pip install git+https://github.com/qiskit-community/qiskit-textbook.git#subdirectory=qiskit-textbook-src\n",
        "!pip install qiskit-aer\n",
        "!pip install qiskit-machine-learning\n",
        "!pip install qiskit-optimization"
      ]
    },
    {
      "cell_type": "code",
      "source": [
        "from qiskit_optimization import QuadraticProgram\n",
        "from qiskit_optimization.translators import from_docplex_mp"
      ],
      "metadata": {
        "id": "mM-3qj2lXOd-"
      },
      "execution_count": 3,
      "outputs": []
    },
    {
      "cell_type": "markdown",
      "source": [
        "### Loading a Quadratic Program from a docplex model"
      ],
      "metadata": {
        "id": "PvDT6MumciYH"
      }
    },
    {
      "cell_type": "code",
      "source": [
        "from docplex.mp.model import Model\n",
        "\n",
        "mdl = Model(\"docplex model\")\n",
        "x = mdl.binary_var('x')\n",
        "y = mdl.integer_var(lb=-1, ub=5, name = \"y\")\n",
        "mdl.minimize(x + 2*y)\n",
        "mdl.add_constraint(x + y == 3)\n",
        "mdl.add_constraint((x + y) *(x - y) <= 1)\n",
        "print(mdl.export_as_lp_string())"
      ],
      "metadata": {
        "colab": {
          "base_uri": "https://localhost:8080/"
        },
        "id": "F7r-mpCkZ8MH",
        "outputId": "0240a016-4bf7-4727-e52d-02a98e4670d1"
      },
      "execution_count": 4,
      "outputs": [
        {
          "output_type": "stream",
          "name": "stdout",
          "text": [
            "\\ This file has been generated by DOcplex\n",
            "\\ ENCODING=ISO-8859-1\n",
            "\\Problem name: docplex model\n",
            "\n",
            "Minimize\n",
            " obj: x + 2 y\n",
            "Subject To\n",
            " c1: x + y = 3\n",
            " qc1: [ x^2 - y^2 ] <= 1\n",
            "\n",
            "Bounds\n",
            " 0 <= x <= 1\n",
            " -1 <= y <= 5\n",
            "\n",
            "Binaries\n",
            " x\n",
            "\n",
            "Generals\n",
            " y\n",
            "End\n",
            "\n"
          ]
        }
      ]
    },
    {
      "cell_type": "code",
      "source": [
        "mod = from_docplex_mp(mdl)\n",
        "print(type(mod))\n",
        "print()\n",
        "print(mod.prettyprint())"
      ],
      "metadata": {
        "colab": {
          "base_uri": "https://localhost:8080/"
        },
        "id": "HRzU8rFhba8I",
        "outputId": "3ac2afa3-e66c-4def-80ff-2d04c9991f03"
      },
      "execution_count": 5,
      "outputs": [
        {
          "output_type": "stream",
          "name": "stdout",
          "text": [
            "<class 'qiskit_optimization.problems.quadratic_program.QuadraticProgram'>\n",
            "\n",
            "Problem name: docplex model\n",
            "\n",
            "Minimize\n",
            "  x + 2*y\n",
            "\n",
            "Subject to\n",
            "  Linear constraints (1)\n",
            "    x + y == 3  'c0'\n",
            "\n",
            "  Quadratic constraints (1)\n",
            "    x^2 - y^2 <= 1  'q0'\n",
            "\n",
            "  Integer variables (1)\n",
            "    -1 <= y <= 5\n",
            "\n",
            "  Binary variables (1)\n",
            "    x\n",
            "\n"
          ]
        }
      ]
    },
    {
      "cell_type": "markdown",
      "source": [
        "### Direcly constructing a QuadraticProgram"
      ],
      "metadata": {
        "id": "y0uyCDhpcnAj"
      }
    },
    {
      "cell_type": "code",
      "source": [
        "mod = QuadraticProgram(\"my problem\")\n",
        "print(mod.prettyprint())"
      ],
      "metadata": {
        "colab": {
          "base_uri": "https://localhost:8080/"
        },
        "id": "wUfR05xbbeOf",
        "outputId": "68fd2e7b-4426-4682-fc6a-255c00a70150"
      },
      "execution_count": 6,
      "outputs": [
        {
          "output_type": "stream",
          "name": "stdout",
          "text": [
            "Problem name: my problem\n",
            "\n",
            "Minimize\n",
            "  0\n",
            "\n",
            "Subject to\n",
            "  No constraints\n",
            "\n",
            "  No variables\n",
            "\n"
          ]
        }
      ]
    },
    {
      "cell_type": "code",
      "source": [
        "# Add variables\n",
        "mod.binary_var(name=\"x\")\n",
        "mod.integer_var(name=\"y\", lowerbound=-1, upperbound=5)\n",
        "mod.continuous_var(name=\"z\", lowerbound=-1, upperbound=5)\n",
        "print(mod.prettyprint())"
      ],
      "metadata": {
        "colab": {
          "base_uri": "https://localhost:8080/"
        },
        "id": "iqDeUyvgbuBi",
        "outputId": "44d2bd64-d21c-4911-febd-a8640314d496"
      },
      "execution_count": 7,
      "outputs": [
        {
          "output_type": "stream",
          "name": "stdout",
          "text": [
            "Problem name: my problem\n",
            "\n",
            "Minimize\n",
            "  0\n",
            "\n",
            "Subject to\n",
            "  No constraints\n",
            "\n",
            "  Integer variables (1)\n",
            "    -1 <= y <= 5\n",
            "\n",
            "  Continuous variables (1)\n",
            "    -1 <= z <= 5\n",
            "\n",
            "  Binary variables (1)\n",
            "    x\n",
            "\n"
          ]
        }
      ]
    },
    {
      "cell_type": "code",
      "source": [
        "mod.minimize(constant=3, linear={\"x\": 1}, quadratic={(\"x\", \"y\"): 2, (\"z\", \"z\"): -1})\n",
        "print(mod.prettyprint())"
      ],
      "metadata": {
        "colab": {
          "base_uri": "https://localhost:8080/"
        },
        "id": "tBQlznadb3NB",
        "outputId": "ce1cc1f8-33e7-444a-9334-2955dc5d2115"
      },
      "execution_count": 8,
      "outputs": [
        {
          "output_type": "stream",
          "name": "stdout",
          "text": [
            "Problem name: my problem\n",
            "\n",
            "Minimize\n",
            "  2*x*y - z^2 + x + 3\n",
            "\n",
            "Subject to\n",
            "  No constraints\n",
            "\n",
            "  Integer variables (1)\n",
            "    -1 <= y <= 5\n",
            "\n",
            "  Continuous variables (1)\n",
            "    -1 <= z <= 5\n",
            "\n",
            "  Binary variables (1)\n",
            "    x\n",
            "\n"
          ]
        }
      ]
    },
    {
      "cell_type": "code",
      "source": [
        "print(\"constant:\\t\\t\\t\", mod.objective.constant)\n",
        "print(\"linear dict:\\t\\t\\t\", mod.objective.linear.to_dict())\n",
        "print(\"linear array:\\t\\t\\t\", mod.objective.linear.to_array())\n",
        "print(\"linear array as sparse matrix:\\n\", mod.objective.linear.coefficients, \"\\n\")\n",
        "print(\"quadratic dict w/ index:\\t\", mod.objective.quadratic.to_dict())\n",
        "print(\"quadratic dict w/ name:\\t\\t\", mod.objective.quadratic.to_dict(use_name=True))\n",
        "print(\n",
        "    \"symmetric quadratic dict w/ name:\\t\",\n",
        "    mod.objective.quadratic.to_dict(use_name=True, symmetric=True),\n",
        ")\n",
        "print(\"quadratic matrix:\\n\", mod.objective.quadratic.to_array(), \"\\n\")\n",
        "print(\"symmetric quadratic matrix:\\n\", mod.objective.quadratic.to_array(symmetric=True), \"\\n\")\n",
        "print(\"quadratic matrix as sparse matrix:\\n\", mod.objective.quadratic.coefficients)"
      ],
      "metadata": {
        "colab": {
          "base_uri": "https://localhost:8080/"
        },
        "id": "A9NDHJjIcG0e",
        "outputId": "e93d3082-fd96-42b9-f322-c97120cec6ec"
      },
      "execution_count": 9,
      "outputs": [
        {
          "output_type": "stream",
          "name": "stdout",
          "text": [
            "constant:\t\t\t 3\n",
            "linear dict:\t\t\t {0: 1.0}\n",
            "linear array:\t\t\t [1. 0. 0.]\n",
            "linear array as sparse matrix:\n",
            "   (0, 0)\t1.0 \n",
            "\n",
            "quadratic dict w/ index:\t {(0, 1): 2.0, (2, 2): -1.0}\n",
            "quadratic dict w/ name:\t\t {('x', 'y'): 2.0, ('z', 'z'): -1.0}\n",
            "symmetric quadratic dict w/ name:\t {('x', 'y'): 1.0, ('y', 'x'): 1.0, ('z', 'z'): -1.0}\n",
            "quadratic matrix:\n",
            " [[ 0.  2.  0.]\n",
            " [ 0.  0.  0.]\n",
            " [ 0.  0. -1.]] \n",
            "\n",
            "symmetric quadratic matrix:\n",
            " [[ 0.  1.  0.]\n",
            " [ 1.  0.  0.]\n",
            " [ 0.  0. -1.]] \n",
            "\n",
            "quadratic matrix as sparse matrix:\n",
            "   (0, 1)\t2.0\n",
            "  (2, 2)\t-1.0\n"
          ]
        }
      ]
    },
    {
      "cell_type": "code",
      "source": [
        "# Add linear constraints\n",
        "mod.linear_constraint(linear={\"x\": 1, \"y\": 2}, sense=\"==\", rhs=3, name=\"lin_eq\")\n",
        "mod.linear_constraint(linear={\"x\": 1, \"y\": 2}, sense=\"<=\", rhs=3, name=\"lin_leq\")\n",
        "mod.linear_constraint(linear={\"x\": 1, \"y\": 2}, sense=\">=\", rhs=3, name=\"lin_geq\")\n",
        "print(mod.prettyprint())"
      ],
      "metadata": {
        "colab": {
          "base_uri": "https://localhost:8080/"
        },
        "id": "KVJ2fX13d6CH",
        "outputId": "56ac10d0-574f-4847-b2c9-2e6519580d7f"
      },
      "execution_count": 10,
      "outputs": [
        {
          "output_type": "stream",
          "name": "stdout",
          "text": [
            "Problem name: my problem\n",
            "\n",
            "Minimize\n",
            "  2*x*y - z^2 + x + 3\n",
            "\n",
            "Subject to\n",
            "  Linear constraints (3)\n",
            "    x + 2*y == 3  'lin_eq'\n",
            "    x + 2*y <= 3  'lin_leq'\n",
            "    x + 2*y >= 3  'lin_geq'\n",
            "\n",
            "  Integer variables (1)\n",
            "    -1 <= y <= 5\n",
            "\n",
            "  Continuous variables (1)\n",
            "    -1 <= z <= 5\n",
            "\n",
            "  Binary variables (1)\n",
            "    x\n",
            "\n"
          ]
        }
      ]
    },
    {
      "cell_type": "code",
      "source": [
        "# Add quadratic constraints\n",
        "mod.quadratic_constraint(\n",
        "    linear={\"x\": 1, \"y\": 1},\n",
        "    quadratic={(\"x\", \"x\"): 1, (\"y\", \"z\"): -1},\n",
        "    sense=\"==\",\n",
        "    rhs=1,\n",
        "    name=\"quad_eq\",\n",
        ")\n",
        "mod.quadratic_constraint(\n",
        "    linear={\"x\": 1, \"y\": 1},\n",
        "    quadratic={(\"x\", \"x\"): 1, (\"y\", \"z\"): -1},\n",
        "    sense=\"<=\",\n",
        "    rhs=1,\n",
        "    name=\"quad_leq\",\n",
        ")\n",
        "mod.quadratic_constraint(\n",
        "    linear={\"x\": 1, \"y\": 1},\n",
        "    quadratic={(\"x\", \"x\"): 1, (\"y\", \"z\"): -1},\n",
        "    sense=\">=\",\n",
        "    rhs=1,\n",
        "    name=\"quad_geq\",\n",
        ")\n",
        "print(mod.prettyprint())"
      ],
      "metadata": {
        "colab": {
          "base_uri": "https://localhost:8080/"
        },
        "id": "-2evtP9EeK2p",
        "outputId": "44777f4f-2c08-41e1-e4ea-ae9431230eb7"
      },
      "execution_count": 11,
      "outputs": [
        {
          "output_type": "stream",
          "name": "stdout",
          "text": [
            "Problem name: my problem\n",
            "\n",
            "Minimize\n",
            "  2*x*y - z^2 + x + 3\n",
            "\n",
            "Subject to\n",
            "  Linear constraints (3)\n",
            "    x + 2*y == 3  'lin_eq'\n",
            "    x + 2*y <= 3  'lin_leq'\n",
            "    x + 2*y >= 3  'lin_geq'\n",
            "\n",
            "  Quadratic constraints (3)\n",
            "    x^2 - y*z + x + y == 1  'quad_eq'\n",
            "    x^2 - y*z + x + y <= 1  'quad_leq'\n",
            "    x^2 - y*z + x + y >= 1  'quad_geq'\n",
            "\n",
            "  Integer variables (1)\n",
            "    -1 <= y <= 5\n",
            "\n",
            "  Continuous variables (1)\n",
            "    -1 <= z <= 5\n",
            "\n",
            "  Binary variables (1)\n",
            "    x\n",
            "\n"
          ]
        }
      ]
    },
    {
      "cell_type": "code",
      "source": [
        "lin_geq = mod.get_linear_constraint(\"lin_geq\")\n",
        "print(\"lin_geq:\", lin_geq.linear.to_dict(use_name=True), lin_geq.sense, lin_geq.rhs)\n",
        "quad_geq = mod.get_quadratic_constraint(\"quad_geq\")\n",
        "print(\n",
        "    \"quad_geq:\",\n",
        "    quad_geq.linear.to_dict(use_name=True),\n",
        "    quad_geq.quadratic.to_dict(use_name=True),\n",
        "    quad_geq.sense,\n",
        "    lin_geq.rhs,\n",
        ")"
      ],
      "metadata": {
        "colab": {
          "base_uri": "https://localhost:8080/"
        },
        "id": "ZkVxGD9WeStO",
        "outputId": "2d7a7215-1166-411f-c90c-83eecb49dc66"
      },
      "execution_count": 12,
      "outputs": [
        {
          "output_type": "stream",
          "name": "stdout",
          "text": [
            "lin_geq: {'x': 1.0, 'y': 2.0} ConstraintSense.GE 3\n",
            "quad_geq: {'x': 1.0, 'y': 1.0} {('x', 'x'): 1.0, ('y', 'z'): -1.0} ConstraintSense.GE 3\n"
          ]
        }
      ]
    },
    {
      "cell_type": "code",
      "source": [
        "mod.remove_linear_constraint(\"lin_eq\")\n",
        "mod.remove_quadratic_constraint(\"quad_leq\")\n",
        "print(mod.prettyprint())"
      ],
      "metadata": {
        "colab": {
          "base_uri": "https://localhost:8080/"
        },
        "id": "gDmQvl5Deoz4",
        "outputId": "3b0882fd-112c-467d-c8f6-2f48956fdcfe"
      },
      "execution_count": 13,
      "outputs": [
        {
          "output_type": "stream",
          "name": "stdout",
          "text": [
            "Problem name: my problem\n",
            "\n",
            "Minimize\n",
            "  2*x*y - z^2 + x + 3\n",
            "\n",
            "Subject to\n",
            "  Linear constraints (2)\n",
            "    x + 2*y <= 3  'lin_leq'\n",
            "    x + 2*y >= 3  'lin_geq'\n",
            "\n",
            "  Quadratic constraints (2)\n",
            "    x^2 - y*z + x + y == 1  'quad_eq'\n",
            "    x^2 - y*z + x + y >= 1  'quad_geq'\n",
            "\n",
            "  Integer variables (1)\n",
            "    -1 <= y <= 5\n",
            "\n",
            "  Continuous variables (1)\n",
            "    -1 <= z <= 5\n",
            "\n",
            "  Binary variables (1)\n",
            "    x\n",
            "\n"
          ]
        }
      ]
    },
    {
      "cell_type": "code",
      "source": [
        "sub = mod.substitute_variables(constants={\"x\": 0}, variables={\"y\": (\"z\", -1)})\n",
        "print(sub.prettyprint())"
      ],
      "metadata": {
        "colab": {
          "base_uri": "https://localhost:8080/"
        },
        "id": "xQbBgN8Qe2Ob",
        "outputId": "9111e8f8-968e-4302-ebd2-dfd8e4d4d7de"
      },
      "execution_count": 14,
      "outputs": [
        {
          "output_type": "stream",
          "name": "stdout",
          "text": [
            "Problem name: my problem\n",
            "\n",
            "Minimize\n",
            "  -z^2 + 3\n",
            "\n",
            "Subject to\n",
            "  Linear constraints (2)\n",
            "    -2*z <= 3  'lin_leq'\n",
            "    -2*z >= 3  'lin_geq'\n",
            "\n",
            "  Quadratic constraints (2)\n",
            "    z^2 - z == 1  'quad_eq'\n",
            "    z^2 - z >= 1  'quad_geq'\n",
            "\n",
            "  Continuous variables (1)\n",
            "    -1 <= z <= 1\n",
            "\n"
          ]
        }
      ]
    },
    {
      "cell_type": "code",
      "source": [
        "sub = mod.substitute_variables(constants={\"x\": -1})\n",
        "print(sub.status)"
      ],
      "metadata": {
        "colab": {
          "base_uri": "https://localhost:8080/"
        },
        "id": "yK_XI5RZe-8j",
        "outputId": "12c0df0c-d15d-4e9f-f0a5-1dab27499b99"
      },
      "execution_count": 15,
      "outputs": [
        {
          "output_type": "stream",
          "name": "stderr",
          "text": [
            "WARNING:qiskit_optimization.problems.substitute_variables:Infeasible substitution for variable: x\n"
          ]
        },
        {
          "output_type": "stream",
          "name": "stdout",
          "text": [
            "QuadraticProgramStatus.INFEASIBLE\n"
          ]
        }
      ]
    },
    {
      "cell_type": "code",
      "source": [
        "from qiskit_optimization import QiskitOptimizationError\n",
        "\n",
        "try:\n",
        "    sub = mod.substitute_variables(constants={\"x\": -1}, variables={\"y\": (\"x\", 1)})\n",
        "except QiskitOptimizationError as e:\n",
        "    print(\"Error: {}\".format(e))"
      ],
      "metadata": {
        "colab": {
          "base_uri": "https://localhost:8080/"
        },
        "id": "zHCWrSB-fCxV",
        "outputId": "1ce983c2-98fb-46b6-fe61-e277e716d3b6"
      },
      "execution_count": 16,
      "outputs": [
        {
          "output_type": "stream",
          "name": "stdout",
          "text": [
            "Error: 'Cannot substitute by variable that gets substituted itself: y <- x 1'\n"
          ]
        }
      ]
    },
    {
      "cell_type": "code",
      "source": [
        "mod = QuadraticProgram()\n",
        "mod.binary_var(name=\"e\")\n",
        "mod.binary_var(name=\"f\")\n",
        "mod.continuous_var(name=\"g\")\n",
        "mod.minimize(linear=[1, 2, 3])\n",
        "print(mod.export_as_lp_string())"
      ],
      "metadata": {
        "colab": {
          "base_uri": "https://localhost:8080/"
        },
        "id": "dcf4kN7JfYry",
        "outputId": "42c75874-6392-401b-e824-01ed44177691"
      },
      "execution_count": 17,
      "outputs": [
        {
          "output_type": "stream",
          "name": "stdout",
          "text": [
            "\\ This file has been generated by DOcplex\n",
            "\\ ENCODING=ISO-8859-1\n",
            "\\Problem name: CPLEX\n",
            "\n",
            "Minimize\n",
            " obj: _e + 2 f + 3 g\n",
            "Subject To\n",
            "\n",
            "Bounds\n",
            " 0 <= _e <= 1\n",
            " 0 <= f <= 1\n",
            "\n",
            "Binaries\n",
            " _e f\n",
            "End\n",
            "\n"
          ]
        }
      ]
    },
    {
      "cell_type": "code",
      "source": [],
      "metadata": {
        "id": "d89LoEKefcT_"
      },
      "execution_count": null,
      "outputs": []
    }
  ]
}