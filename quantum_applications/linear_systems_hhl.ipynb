{
  "nbformat": 4,
  "nbformat_minor": 0,
  "metadata": {
    "colab": {
      "provenance": [],
      "authorship_tag": "ABX9TyOl20fow4Yth6nFYSzCvAN0",
      "include_colab_link": true
    },
    "kernelspec": {
      "name": "python3",
      "display_name": "Python 3"
    },
    "language_info": {
      "name": "python"
    }
  },
  "cells": [
    {
      "cell_type": "markdown",
      "metadata": {
        "id": "view-in-github",
        "colab_type": "text"
      },
      "source": [
        "<a href=\"https://colab.research.google.com/github/MUbarak123-56/qiskit-work/blob/master/quantum_applications/linear_systems_hhl.ipynb\" target=\"_parent\"><img src=\"https://colab.research.google.com/assets/colab-badge.svg\" alt=\"Open In Colab\"/></a>"
      ]
    },
    {
      "cell_type": "code",
      "source": [
        "import numpy as np\n",
        "from linear_solvers import NumPyLinearSolver, HHL\n",
        "matrix = np.array([ [1, -1/3], [-1/3, 1] ])\n",
        "vector = np.array([1, 0])\n",
        "naive_hhl_solution = HHL().solve(matrix, vector)"
      ],
      "metadata": {
        "id": "B5dJzblZMFp1"
      },
      "execution_count": 2,
      "outputs": []
    },
    {
      "cell_type": "code",
      "source": [
        "classical_solution = NumPyLinearSolver().solve(matrix,\n",
        "                                               vector/np.linalg.norm(vector))"
      ],
      "metadata": {
        "id": "wqbsNH2dvMdS"
      },
      "execution_count": 3,
      "outputs": []
    },
    {
      "cell_type": "code",
      "source": [
        "classical_solution"
      ],
      "metadata": {
        "colab": {
          "base_uri": "https://localhost:8080/"
        },
        "id": "og1u9Rv6vQiI",
        "outputId": "f0b3122f-dbdb-49ed-efa5-6ad9de7a14a1"
      },
      "execution_count": 4,
      "outputs": [
        {
          "output_type": "execute_result",
          "data": {
            "text/plain": [
              "<linear_solvers.linear_solver.LinearSolverResult at 0x7852435b2cb0>"
            ]
          },
          "metadata": {},
          "execution_count": 4
        }
      ]
    },
    {
      "cell_type": "code",
      "source": [
        "from linear_solvers.matrices.tridiagonal_toeplitz import TridiagonalToeplitz\n",
        "tridi_matrix = TridiagonalToeplitz(1, 1, -1 / 3)\n",
        "tridi_solution = HHL().solve(tridi_matrix, vector)"
      ],
      "metadata": {
        "id": "W9zh27y3vRjv"
      },
      "execution_count": 5,
      "outputs": []
    },
    {
      "cell_type": "code",
      "source": [
        "print('classical state:', classical_solution.state)"
      ],
      "metadata": {
        "colab": {
          "base_uri": "https://localhost:8080/"
        },
        "id": "0asrlt3Pvbrq",
        "outputId": "644aa809-8478-43c3-9b0e-be0ac20e8c2a"
      },
      "execution_count": 6,
      "outputs": [
        {
          "output_type": "stream",
          "name": "stdout",
          "text": [
            "classical state: [1.125 0.375]\n"
          ]
        }
      ]
    },
    {
      "cell_type": "code",
      "source": [
        "print('naive state:')\n",
        "print(naive_hhl_solution.state)\n",
        "print('tridiagonal state:')\n",
        "print(tridi_solution.state)"
      ],
      "metadata": {
        "colab": {
          "base_uri": "https://localhost:8080/"
        },
        "id": "odlUw647wVb-",
        "outputId": "4a090807-c093-4575-bf3f-cdf5501f6b15"
      },
      "execution_count": 7,
      "outputs": [
        {
          "output_type": "stream",
          "name": "stdout",
          "text": [
            "naive state:\n",
            "      ┌─────────────┐┌──────┐        ┌─────────┐\n",
            "  q4: ┤ circuit-121 ├┤3     ├────────┤3        ├\n",
            "      └─────────────┘│      │┌──────┐│         │\n",
            "q5_0: ───────────────┤0     ├┤2     ├┤0        ├\n",
            "                     │  QPE ││      ││  QPE_dg │\n",
            "q5_1: ───────────────┤1     ├┤1     ├┤1        ├\n",
            "                     │      ││  1/x ││         │\n",
            "q5_2: ───────────────┤2     ├┤0     ├┤2        ├\n",
            "                     └──────┘│      │└─────────┘\n",
            "  q6: ───────────────────────┤3     ├───────────\n",
            "                             └──────┘           \n",
            "tridiagonal state:\n",
            "       ┌─────────────┐┌──────┐        ┌─────────┐\n",
            "  q26: ┤ circuit-334 ├┤3     ├────────┤3        ├\n",
            "       └─────────────┘│      │┌──────┐│         │\n",
            "q27_0: ───────────────┤0     ├┤2     ├┤0        ├\n",
            "                      │  QPE ││      ││  QPE_dg │\n",
            "q27_1: ───────────────┤1     ├┤1     ├┤1        ├\n",
            "                      │      ││  1/x ││         │\n",
            "q27_2: ───────────────┤2     ├┤0     ├┤2        ├\n",
            "                      └──────┘│      │└─────────┘\n",
            "  q28: ───────────────────────┤3     ├───────────\n",
            "                              └──────┘           \n"
          ]
        }
      ]
    },
    {
      "cell_type": "code",
      "source": [
        "print('classical Euclidean norm:', classical_solution.euclidean_norm)\n",
        "print('naive Euclidean norm:', naive_hhl_solution.euclidean_norm)\n",
        "print('tridiagonal Euclidean norm:', tridi_solution.euclidean_norm)"
      ],
      "metadata": {
        "colab": {
          "base_uri": "https://localhost:8080/"
        },
        "id": "v_ksbU-AwXT0",
        "outputId": "807bba5e-0862-403e-8c09-f8e01f0ddce6"
      },
      "execution_count": 8,
      "outputs": [
        {
          "output_type": "stream",
          "name": "stdout",
          "text": [
            "classical Euclidean norm: 1.1858541225631423\n",
            "naive Euclidean norm: 1.1858541225631376\n",
            "tridiagonal Euclidean norm: 1.1858541225631356\n"
          ]
        }
      ]
    },
    {
      "cell_type": "code",
      "source": [
        "from qiskit.quantum_info import Statevector\n",
        "\n",
        "naive_sv = Statevector(naive_hhl_solution.state).data\n",
        "tridi_sv = Statevector(tridi_solution.state).data\n",
        "\n",
        "# Extract vector components; 10000(bin) == 16 & 10001(bin) == 17\n",
        "naive_full_vector = np.array([naive_sv[16], naive_sv[17] ])\n",
        "tridi_full_vector = np.array([tridi_sv[16], tridi_sv[17] ])\n",
        "\n",
        "print('naive raw solution vector:', naive_full_vector)\n",
        "print('tridi raw solution vector:', tridi_full_vector)"
      ],
      "metadata": {
        "colab": {
          "base_uri": "https://localhost:8080/"
        },
        "id": "FNqtSW-bw90p",
        "outputId": "973f02e2-91f6-4581-8868-87e74ffb1362"
      },
      "execution_count": 9,
      "outputs": [
        {
          "output_type": "stream",
          "name": "stdout",
          "text": [
            "naive raw solution vector: [0.75+3.01063111e-16j 0.25+3.36951198e-17j]\n",
            "tridi raw solution vector: [0.75-7.11448145e-17j 0.25+3.64923833e-16j]\n"
          ]
        }
      ]
    },
    {
      "cell_type": "code",
      "source": [
        "def get_solution_vector(solution):\n",
        "    \"\"\"Extracts and normalizes simulated state vector\n",
        "    from LinearSolverResult.\"\"\"\n",
        "    solution_vector = Statevector(solution.state).data[16:18].real\n",
        "    norm = solution.euclidean_norm\n",
        "    return norm * solution_vector / np.linalg.norm(solution_vector)\n",
        "\n",
        "print('full naive solution vector:', get_solution_vector(naive_hhl_solution))\n",
        "print('full tridi solution vector:', get_solution_vector(tridi_solution))\n",
        "print('classical state:', classical_solution.state)"
      ],
      "metadata": {
        "colab": {
          "base_uri": "https://localhost:8080/"
        },
        "id": "XkX6WJzqxEFp",
        "outputId": "66ff767b-3b11-4c61-81c4-4dd39f3e3bf6"
      },
      "execution_count": 10,
      "outputs": [
        {
          "output_type": "stream",
          "name": "stdout",
          "text": [
            "full naive solution vector: [1.125 0.375]\n",
            "full tridi solution vector: [1.125 0.375]\n",
            "classical state: [1.125 0.375]\n"
          ]
        }
      ]
    },
    {
      "cell_type": "code",
      "source": [
        "from scipy.sparse import diags\n",
        "\n",
        "NUM_QUBITS = 2\n",
        "MATRIX_SIZE = 2 ** NUM_QUBITS\n",
        "# entries of the tridiagonal Toeplitz symmetric matrix\n",
        "a = 1\n",
        "b = -1/3\n",
        "\n",
        "matrix = diags([b, a, b],\n",
        "               [-1, 0, 1],\n",
        "               shape=(MATRIX_SIZE, MATRIX_SIZE)).toarray()\n",
        "\n",
        "vector = np.array([1] + [0]*(MATRIX_SIZE - 1))\n",
        "# run the algorithms\n",
        "classical_solution = NumPyLinearSolver(\n",
        "                        ).solve(matrix, vector / np.linalg.norm(vector))\n",
        "naive_hhl_solution = HHL().solve(matrix, vector)\n",
        "tridi_matrix = TridiagonalToeplitz(NUM_QUBITS, a, b)\n",
        "tridi_solution = HHL().solve(tridi_matrix, vector)\n",
        "\n",
        "print('classical euclidean norm:', classical_solution.euclidean_norm)\n",
        "print('naive euclidean norm:', naive_hhl_solution.euclidean_norm)\n",
        "print('tridiagonal euclidean norm:', tridi_solution.euclidean_norm)"
      ],
      "metadata": {
        "colab": {
          "base_uri": "https://localhost:8080/"
        },
        "id": "WIhLpMxVxTCm",
        "outputId": "1b615e6c-5137-49cb-ef50-1ad15412291b"
      },
      "execution_count": 11,
      "outputs": [
        {
          "output_type": "stream",
          "name": "stdout",
          "text": [
            "classical euclidean norm: 1.237833351044751\n",
            "naive euclidean norm: 1.2099806231118977\n",
            "tridiagonal euclidean norm: 1.209457721870527\n"
          ]
        }
      ]
    },
    {
      "cell_type": "code",
      "source": [
        "matrix"
      ],
      "metadata": {
        "colab": {
          "base_uri": "https://localhost:8080/"
        },
        "id": "QD_J3_I4yn98",
        "outputId": "709f5d61-be46-490f-fce7-e533bcfdaa94"
      },
      "execution_count": 12,
      "outputs": [
        {
          "output_type": "execute_result",
          "data": {
            "text/plain": [
              "array([[ 1.        , -0.33333333,  0.        ,  0.        ],\n",
              "       [-0.33333333,  1.        , -0.33333333,  0.        ],\n",
              "       [ 0.        , -0.33333333,  1.        , -0.33333333],\n",
              "       [ 0.        ,  0.        , -0.33333333,  1.        ]])"
            ]
          },
          "metadata": {},
          "execution_count": 12
        }
      ]
    },
    {
      "cell_type": "code",
      "source": [],
      "metadata": {
        "id": "02OFJbMfyquq"
      },
      "execution_count": null,
      "outputs": []
    },
    {
      "cell_type": "code",
      "source": [
        "print('naive state:')\n",
        "print(naive_hhl_solution.state)\n",
        "print('tridiagonal state:')\n",
        "print(tridi_solution.state)"
      ],
      "metadata": {
        "colab": {
          "base_uri": "https://localhost:8080/"
        },
        "outputId": "c62e8b6e-22f8-4a0d-d922-75a240f3d0be",
        "id": "Df1ZBMJUy3w-"
      },
      "execution_count": 13,
      "outputs": [
        {
          "output_type": "stream",
          "name": "stdout",
          "text": [
            "naive state:\n",
            "        ┌──────────────┐┌──────┐        ┌─────────┐\n",
            "q107_0: ┤0             ├┤4     ├────────┤4        ├\n",
            "        │  circuit-669 ││      │        │         │\n",
            "q107_1: ┤1             ├┤5     ├────────┤5        ├\n",
            "        └──────────────┘│      │┌──────┐│         │\n",
            "q108_0: ────────────────┤0     ├┤3     ├┤0        ├\n",
            "                        │  QPE ││      ││  QPE_dg │\n",
            "q108_1: ────────────────┤1     ├┤2     ├┤1        ├\n",
            "                        │      ││      ││         │\n",
            "q108_2: ────────────────┤2     ├┤1 1/x ├┤2        ├\n",
            "                        │      ││      ││         │\n",
            "q108_3: ────────────────┤3     ├┤0     ├┤3        ├\n",
            "                        └──────┘│      │└─────────┘\n",
            "  q109: ────────────────────────┤4     ├───────────\n",
            "                                └──────┘           \n",
            "tridiagonal state:\n",
            "        ┌───────────────┐┌──────┐        ┌─────────┐\n",
            "q160_0: ┤0              ├┤4     ├────────┤4        ├\n",
            "        │  circuit-1297 ││      │        │         │\n",
            "q160_1: ┤1              ├┤5     ├────────┤5        ├\n",
            "        └───────────────┘│      │┌──────┐│         │\n",
            "q161_0: ─────────────────┤0     ├┤3     ├┤0        ├\n",
            "                         │      ││      ││         │\n",
            "q161_1: ─────────────────┤1 QPE ├┤2     ├┤1 QPE_dg ├\n",
            "                         │      ││      ││         │\n",
            "q161_2: ─────────────────┤2     ├┤1     ├┤2        ├\n",
            "                         │      ││  1/x ││         │\n",
            "q161_3: ─────────────────┤3     ├┤0     ├┤3        ├\n",
            "                         │      ││      ││         │\n",
            "    a1: ─────────────────┤6     ├┤      ├┤6        ├\n",
            "                         └──────┘│      │└─────────┘\n",
            "  q162: ─────────────────────────┤4     ├───────────\n",
            "                                 └──────┘           \n"
          ]
        }
      ]
    },
    {
      "cell_type": "code",
      "source": [
        "from qiskit import transpile\n",
        "\n",
        "MAX_QUBITS = 4\n",
        "a = 1\n",
        "b = -1/3\n",
        "\n",
        "i = 1\n",
        "# calculate the circuit depths for different number of qubits to compare the use\n",
        "# of resources (WARNING: This will take a while to execute)\n",
        "naive_depths = []\n",
        "tridi_depths = []\n",
        "for n_qubits in range(1, MAX_QUBITS+1):\n",
        "    matrix = diags([b, a, b],\n",
        "                   [-1, 0, 1],\n",
        "                   shape=(2**n_qubits, 2**n_qubits)).toarray()\n",
        "    vector = np.array([1] + [0]*(2**n_qubits -1))\n",
        "\n",
        "    naive_hhl_solution = HHL().solve(matrix, vector)\n",
        "    tridi_matrix = TridiagonalToeplitz(n_qubits, a, b)\n",
        "    tridi_solution = HHL().solve(tridi_matrix, vector)\n",
        "\n",
        "    naive_qc = transpile(naive_hhl_solution.state,\n",
        "                         basis_gates=['id', 'rz', 'sx', 'x', 'cx'])\n",
        "    tridi_qc = transpile(tridi_solution.state,\n",
        "                         basis_gates=['id', 'rz', 'sx', 'x', 'cx'])\n",
        "\n",
        "    naive_depths.append(naive_qc.depth())\n",
        "    tridi_depths.append(tridi_qc.depth())\n",
        "    i +=1"
      ],
      "metadata": {
        "id": "twzvjTNTy4Yz"
      },
      "execution_count": 14,
      "outputs": []
    },
    {
      "cell_type": "code",
      "source": [
        "sizes = [f\"{2**n_qubits}×{2**n_qubits}\"\n",
        "         for n_qubits in range(1, MAX_QUBITS+1)]\n",
        "columns = ['size of the system',\n",
        "           'quantum_solution depth',\n",
        "           'tridi_solution depth']\n",
        "data = np.array([sizes, naive_depths, tridi_depths])\n",
        "ROW_FORMAT =\"{:>23}\" * (len(columns) + 2)\n",
        "for team, row in zip(columns, data):\n",
        "    print(ROW_FORMAT.format(team, *row))"
      ],
      "metadata": {
        "colab": {
          "base_uri": "https://localhost:8080/"
        },
        "id": "3_Zw2ozuzETV",
        "outputId": "303b66a0-793b-44c4-a194-493cf725d305"
      },
      "execution_count": 15,
      "outputs": [
        {
          "output_type": "stream",
          "name": "stdout",
          "text": [
            "     size of the system                    2×2                    4×4                    8×8                  16×16\n",
            " quantum_solution depth                    334                   2562                  33141                 348396\n",
            "   tridi_solution depth                    565                   5107                  14756                  46552\n"
          ]
        }
      ]
    },
    {
      "cell_type": "code",
      "source": [
        "print('excess:',\n",
        "      [naive_depths[i] - tridi_depths[i] for i in range(0, len(naive_depths))])"
      ],
      "metadata": {
        "colab": {
          "base_uri": "https://localhost:8080/"
        },
        "id": "EPllOfOozGS5",
        "outputId": "6d659715-fee9-46a5-f93d-58de38dc4d28"
      },
      "execution_count": 16,
      "outputs": [
        {
          "output_type": "stream",
          "name": "stdout",
          "text": [
            "excess: [-231, -2545, 18385, 301844]\n"
          ]
        }
      ]
    },
    {
      "cell_type": "code",
      "source": [
        "from linear_solvers.observables import AbsoluteAverage, MatrixFunctional"
      ],
      "metadata": {
        "id": "52KGHipMzrJI"
      },
      "execution_count": 17,
      "outputs": []
    },
    {
      "cell_type": "code",
      "source": [
        "from qiskit import Aer\n",
        "\n",
        "backend = Aer.get_backend('aer_simulator')\n",
        "hhl = HHL(1e-3, quantum_instance=backend)\n",
        "\n",
        "accurate_solution = hhl.solve(matrix, vector)\n",
        "classical_solution = NumPyLinearSolver(\n",
        "                    ).solve(matrix,\n",
        "                            vector / np.linalg.norm(vector))\n",
        "\n",
        "print(accurate_solution.euclidean_norm)\n",
        "print(classical_solution.euclidean_norm)"
      ],
      "metadata": {
        "colab": {
          "base_uri": "https://localhost:8080/"
        },
        "id": "9Jtaj9g4zrtH",
        "outputId": "f6dbb308-abde-48b6-d101-0fb509ac6d48"
      },
      "execution_count": 18,
      "outputs": [
        {
          "output_type": "stream",
          "name": "stdout",
          "text": [
            "1.2105959357182015\n",
            "1.239912714366469\n"
          ]
        }
      ]
    },
    {
      "cell_type": "code",
      "source": [],
      "metadata": {
        "id": "jkjoy7Ik0Sl5"
      },
      "execution_count": null,
      "outputs": []
    }
  ]
}