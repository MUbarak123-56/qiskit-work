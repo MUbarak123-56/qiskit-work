{
  "cells": [
    {
      "cell_type": "code",
      "source": [
        "!pip install qiskit\n",
        "!pip install qiskit-optimization\n",
        "!pip install qiskit-ibm-runtime\n",
        "!pip install pylatexenc"
      ],
      "metadata": {
        "id": "XHWTogRiXAPp",
        "outputId": "a700be68-1e86-4934-e883-3a5b729df11f",
        "colab": {
          "base_uri": "https://localhost:8080/"
        }
      },
      "id": "XHWTogRiXAPp",
      "execution_count": 1,
      "outputs": [
        {
          "output_type": "stream",
          "name": "stdout",
          "text": [
            "Requirement already satisfied: qiskit in /usr/local/lib/python3.10/dist-packages (0.44.2)\n",
            "Requirement already satisfied: qiskit-terra==0.25.2.1 in /usr/local/lib/python3.10/dist-packages (from qiskit) (0.25.2.1)\n",
            "Requirement already satisfied: rustworkx>=0.13.0 in /usr/local/lib/python3.10/dist-packages (from qiskit-terra==0.25.2.1->qiskit) (0.13.2)\n",
            "Requirement already satisfied: numpy>=1.17 in /usr/local/lib/python3.10/dist-packages (from qiskit-terra==0.25.2.1->qiskit) (1.23.5)\n",
            "Requirement already satisfied: ply>=3.10 in /usr/local/lib/python3.10/dist-packages (from qiskit-terra==0.25.2.1->qiskit) (3.11)\n",
            "Requirement already satisfied: psutil>=5 in /usr/local/lib/python3.10/dist-packages (from qiskit-terra==0.25.2.1->qiskit) (5.9.5)\n",
            "Requirement already satisfied: scipy>=1.5 in /usr/local/lib/python3.10/dist-packages (from qiskit-terra==0.25.2.1->qiskit) (1.11.3)\n",
            "Requirement already satisfied: sympy>=1.3 in /usr/local/lib/python3.10/dist-packages (from qiskit-terra==0.25.2.1->qiskit) (1.12)\n",
            "Requirement already satisfied: dill>=0.3 in /usr/local/lib/python3.10/dist-packages (from qiskit-terra==0.25.2.1->qiskit) (0.3.7)\n",
            "Requirement already satisfied: python-dateutil>=2.8.0 in /usr/local/lib/python3.10/dist-packages (from qiskit-terra==0.25.2.1->qiskit) (2.8.2)\n",
            "Requirement already satisfied: stevedore>=3.0.0 in /usr/local/lib/python3.10/dist-packages (from qiskit-terra==0.25.2.1->qiskit) (5.1.0)\n",
            "Requirement already satisfied: symengine<0.10,>=0.9 in /usr/local/lib/python3.10/dist-packages (from qiskit-terra==0.25.2.1->qiskit) (0.9.2)\n",
            "Requirement already satisfied: typing-extensions in /usr/local/lib/python3.10/dist-packages (from qiskit-terra==0.25.2.1->qiskit) (4.5.0)\n",
            "Requirement already satisfied: six>=1.5 in /usr/local/lib/python3.10/dist-packages (from python-dateutil>=2.8.0->qiskit-terra==0.25.2.1->qiskit) (1.16.0)\n",
            "Requirement already satisfied: pbr!=2.1.0,>=2.0.0 in /usr/local/lib/python3.10/dist-packages (from stevedore>=3.0.0->qiskit-terra==0.25.2.1->qiskit) (5.11.1)\n",
            "Requirement already satisfied: mpmath>=0.19 in /usr/local/lib/python3.10/dist-packages (from sympy>=1.3->qiskit-terra==0.25.2.1->qiskit) (1.3.0)\n",
            "Requirement already satisfied: qiskit-optimization in /usr/local/lib/python3.10/dist-packages (0.5.0)\n",
            "Requirement already satisfied: qiskit-terra>=0.22.4 in /usr/local/lib/python3.10/dist-packages (from qiskit-optimization) (0.25.2.1)\n",
            "Requirement already satisfied: scipy>=1.4 in /usr/local/lib/python3.10/dist-packages (from qiskit-optimization) (1.11.3)\n",
            "Requirement already satisfied: numpy>=1.17 in /usr/local/lib/python3.10/dist-packages (from qiskit-optimization) (1.23.5)\n",
            "Requirement already satisfied: docplex!=2.24.231,>=2.21.207 in /usr/local/lib/python3.10/dist-packages (from qiskit-optimization) (2.25.236)\n",
            "Requirement already satisfied: setuptools>=40.1.0 in /usr/local/lib/python3.10/dist-packages (from qiskit-optimization) (67.7.2)\n",
            "Requirement already satisfied: networkx>=2.6.3 in /usr/local/lib/python3.10/dist-packages (from qiskit-optimization) (3.1)\n",
            "Requirement already satisfied: six in /usr/local/lib/python3.10/dist-packages (from docplex!=2.24.231,>=2.21.207->qiskit-optimization) (1.16.0)\n",
            "Requirement already satisfied: rustworkx>=0.13.0 in /usr/local/lib/python3.10/dist-packages (from qiskit-terra>=0.22.4->qiskit-optimization) (0.13.2)\n",
            "Requirement already satisfied: ply>=3.10 in /usr/local/lib/python3.10/dist-packages (from qiskit-terra>=0.22.4->qiskit-optimization) (3.11)\n",
            "Requirement already satisfied: psutil>=5 in /usr/local/lib/python3.10/dist-packages (from qiskit-terra>=0.22.4->qiskit-optimization) (5.9.5)\n",
            "Requirement already satisfied: sympy>=1.3 in /usr/local/lib/python3.10/dist-packages (from qiskit-terra>=0.22.4->qiskit-optimization) (1.12)\n",
            "Requirement already satisfied: dill>=0.3 in /usr/local/lib/python3.10/dist-packages (from qiskit-terra>=0.22.4->qiskit-optimization) (0.3.7)\n",
            "Requirement already satisfied: python-dateutil>=2.8.0 in /usr/local/lib/python3.10/dist-packages (from qiskit-terra>=0.22.4->qiskit-optimization) (2.8.2)\n",
            "Requirement already satisfied: stevedore>=3.0.0 in /usr/local/lib/python3.10/dist-packages (from qiskit-terra>=0.22.4->qiskit-optimization) (5.1.0)\n",
            "Requirement already satisfied: symengine<0.10,>=0.9 in /usr/local/lib/python3.10/dist-packages (from qiskit-terra>=0.22.4->qiskit-optimization) (0.9.2)\n",
            "Requirement already satisfied: typing-extensions in /usr/local/lib/python3.10/dist-packages (from qiskit-terra>=0.22.4->qiskit-optimization) (4.5.0)\n",
            "Requirement already satisfied: pbr!=2.1.0,>=2.0.0 in /usr/local/lib/python3.10/dist-packages (from stevedore>=3.0.0->qiskit-terra>=0.22.4->qiskit-optimization) (5.11.1)\n",
            "Requirement already satisfied: mpmath>=0.19 in /usr/local/lib/python3.10/dist-packages (from sympy>=1.3->qiskit-terra>=0.22.4->qiskit-optimization) (1.3.0)\n",
            "Requirement already satisfied: qiskit-ibm-runtime in /usr/local/lib/python3.10/dist-packages (0.13.0)\n",
            "Requirement already satisfied: qiskit>=0.44.1 in /usr/local/lib/python3.10/dist-packages (from qiskit-ibm-runtime) (0.44.2)\n",
            "Requirement already satisfied: requests>=2.19 in /usr/local/lib/python3.10/dist-packages (from qiskit-ibm-runtime) (2.31.0)\n",
            "Requirement already satisfied: requests-ntlm>=1.1.0 in /usr/local/lib/python3.10/dist-packages (from qiskit-ibm-runtime) (1.2.0)\n",
            "Requirement already satisfied: numpy>=1.13 in /usr/local/lib/python3.10/dist-packages (from qiskit-ibm-runtime) (1.23.5)\n",
            "Requirement already satisfied: urllib3>=1.21.1 in /usr/local/lib/python3.10/dist-packages (from qiskit-ibm-runtime) (1.26.18)\n",
            "Requirement already satisfied: python-dateutil>=2.8.0 in /usr/local/lib/python3.10/dist-packages (from qiskit-ibm-runtime) (2.8.2)\n",
            "Requirement already satisfied: websocket-client>=1.5.1 in /usr/local/lib/python3.10/dist-packages (from qiskit-ibm-runtime) (1.6.4)\n",
            "Requirement already satisfied: ibm-platform-services>=0.22.6 in /usr/local/lib/python3.10/dist-packages (from qiskit-ibm-runtime) (0.45.0)\n",
            "Requirement already satisfied: qiskit-ibm-provider>=0.7.0 in /usr/local/lib/python3.10/dist-packages (from qiskit-ibm-runtime) (0.7.1)\n",
            "Requirement already satisfied: ibm-cloud-sdk-core<4.0.0,>=3.17.0 in /usr/local/lib/python3.10/dist-packages (from ibm-platform-services>=0.22.6->qiskit-ibm-runtime) (3.17.2)\n",
            "Requirement already satisfied: six>=1.5 in /usr/local/lib/python3.10/dist-packages (from python-dateutil>=2.8.0->qiskit-ibm-runtime) (1.16.0)\n",
            "Requirement already satisfied: qiskit-terra==0.25.2.1 in /usr/local/lib/python3.10/dist-packages (from qiskit>=0.44.1->qiskit-ibm-runtime) (0.25.2.1)\n",
            "Requirement already satisfied: rustworkx>=0.13.0 in /usr/local/lib/python3.10/dist-packages (from qiskit-terra==0.25.2.1->qiskit>=0.44.1->qiskit-ibm-runtime) (0.13.2)\n",
            "Requirement already satisfied: ply>=3.10 in /usr/local/lib/python3.10/dist-packages (from qiskit-terra==0.25.2.1->qiskit>=0.44.1->qiskit-ibm-runtime) (3.11)\n",
            "Requirement already satisfied: psutil>=5 in /usr/local/lib/python3.10/dist-packages (from qiskit-terra==0.25.2.1->qiskit>=0.44.1->qiskit-ibm-runtime) (5.9.5)\n",
            "Requirement already satisfied: scipy>=1.5 in /usr/local/lib/python3.10/dist-packages (from qiskit-terra==0.25.2.1->qiskit>=0.44.1->qiskit-ibm-runtime) (1.11.3)\n",
            "Requirement already satisfied: sympy>=1.3 in /usr/local/lib/python3.10/dist-packages (from qiskit-terra==0.25.2.1->qiskit>=0.44.1->qiskit-ibm-runtime) (1.12)\n",
            "Requirement already satisfied: dill>=0.3 in /usr/local/lib/python3.10/dist-packages (from qiskit-terra==0.25.2.1->qiskit>=0.44.1->qiskit-ibm-runtime) (0.3.7)\n",
            "Requirement already satisfied: stevedore>=3.0.0 in /usr/local/lib/python3.10/dist-packages (from qiskit-terra==0.25.2.1->qiskit>=0.44.1->qiskit-ibm-runtime) (5.1.0)\n",
            "Requirement already satisfied: symengine<0.10,>=0.9 in /usr/local/lib/python3.10/dist-packages (from qiskit-terra==0.25.2.1->qiskit>=0.44.1->qiskit-ibm-runtime) (0.9.2)\n",
            "Requirement already satisfied: typing-extensions in /usr/local/lib/python3.10/dist-packages (from qiskit-terra==0.25.2.1->qiskit>=0.44.1->qiskit-ibm-runtime) (4.5.0)\n",
            "Requirement already satisfied: websockets>=10.0 in /usr/local/lib/python3.10/dist-packages (from qiskit-ibm-provider>=0.7.0->qiskit-ibm-runtime) (12.0)\n",
            "Requirement already satisfied: charset-normalizer<4,>=2 in /usr/local/lib/python3.10/dist-packages (from requests>=2.19->qiskit-ibm-runtime) (3.3.0)\n",
            "Requirement already satisfied: idna<4,>=2.5 in /usr/local/lib/python3.10/dist-packages (from requests>=2.19->qiskit-ibm-runtime) (3.4)\n",
            "Requirement already satisfied: certifi>=2017.4.17 in /usr/local/lib/python3.10/dist-packages (from requests>=2.19->qiskit-ibm-runtime) (2023.7.22)\n",
            "Requirement already satisfied: cryptography>=1.3 in /usr/local/lib/python3.10/dist-packages (from requests-ntlm>=1.1.0->qiskit-ibm-runtime) (41.0.4)\n",
            "Requirement already satisfied: pyspnego>=0.1.6 in /usr/local/lib/python3.10/dist-packages (from requests-ntlm>=1.1.0->qiskit-ibm-runtime) (0.10.2)\n",
            "Requirement already satisfied: cffi>=1.12 in /usr/local/lib/python3.10/dist-packages (from cryptography>=1.3->requests-ntlm>=1.1.0->qiskit-ibm-runtime) (1.16.0)\n",
            "Requirement already satisfied: PyJWT<3.0.0,>=2.8.0 in /usr/local/lib/python3.10/dist-packages (from ibm-cloud-sdk-core<4.0.0,>=3.17.0->ibm-platform-services>=0.22.6->qiskit-ibm-runtime) (2.8.0)\n",
            "Requirement already satisfied: pycparser in /usr/local/lib/python3.10/dist-packages (from cffi>=1.12->cryptography>=1.3->requests-ntlm>=1.1.0->qiskit-ibm-runtime) (2.21)\n",
            "Requirement already satisfied: pbr!=2.1.0,>=2.0.0 in /usr/local/lib/python3.10/dist-packages (from stevedore>=3.0.0->qiskit-terra==0.25.2.1->qiskit>=0.44.1->qiskit-ibm-runtime) (5.11.1)\n",
            "Requirement already satisfied: mpmath>=0.19 in /usr/local/lib/python3.10/dist-packages (from sympy>=1.3->qiskit-terra==0.25.2.1->qiskit>=0.44.1->qiskit-ibm-runtime) (1.3.0)\n",
            "Collecting pylatexenc\n",
            "  Downloading pylatexenc-2.10.tar.gz (162 kB)\n",
            "\u001b[2K     \u001b[90m━━━━━━━━━━━━━━━━━━━━━━━━━━━━━━━━━━━━━━━━\u001b[0m \u001b[32m162.6/162.6 kB\u001b[0m \u001b[31m3.5 MB/s\u001b[0m eta \u001b[36m0:00:00\u001b[0m\n",
            "\u001b[?25h  Preparing metadata (setup.py) ... \u001b[?25l\u001b[?25hdone\n",
            "Building wheels for collected packages: pylatexenc\n",
            "  Building wheel for pylatexenc (setup.py) ... \u001b[?25l\u001b[?25hdone\n",
            "  Created wheel for pylatexenc: filename=pylatexenc-2.10-py3-none-any.whl size=136818 sha256=9d95a329187145ca2f53a4829c3257a91ced883f5b93021d43ddfaebad431bf0\n",
            "  Stored in directory: /root/.cache/pip/wheels/d3/31/8b/e09b0386afd80cfc556c00408c9aeea5c35c4d484a9c762fd5\n",
            "Successfully built pylatexenc\n",
            "Installing collected packages: pylatexenc\n",
            "Successfully installed pylatexenc-2.10\n"
          ]
        }
      ]
    },
    {
      "cell_type": "code",
      "execution_count": 2,
      "id": "6d3eda4e",
      "metadata": {
        "id": "6d3eda4e"
      },
      "outputs": [],
      "source": [
        "import networkx as nx\n",
        "from qiskit import execute, Aer, QuantumRegister, ClassicalRegister, QuantumCircuit\n",
        "from qiskit.visualization import plot_histogram, plot_bloch_multivector"
      ]
    },
    {
      "cell_type": "code",
      "execution_count": 3,
      "id": "951fd6bc",
      "metadata": {
        "id": "951fd6bc"
      },
      "outputs": [],
      "source": [
        "graph = nx.Graph()\n",
        "graph.add_nodes_from([0,1,2])\n",
        "graph.add_edges_from([(0,1),(1,2)])"
      ]
    },
    {
      "cell_type": "code",
      "execution_count": 4,
      "id": "6af0fcd8",
      "metadata": {
        "id": "6af0fcd8",
        "outputId": "e62289ba-3b5d-4a6d-f838-9054890edc82",
        "colab": {
          "base_uri": "https://localhost:8080/",
          "height": 516
        }
      },
      "outputs": [
        {
          "output_type": "display_data",
          "data": {
            "text/plain": [
              "<Figure size 640x480 with 1 Axes>"
            ],
            "image/png": "[encoded data removed]"
          },
          "metadata": {}
        }
      ],
      "source": [
        "nx.draw(graph, with_labels=True, alpha=0.8, node_size=1500)"
      ]
    },
    {
      "cell_type": "code",
      "execution_count": 5,
      "id": "8de9ac03",
      "metadata": {
        "id": "8de9ac03",
        "outputId": "3f84a9fb-a2d6-4655-9d4b-149b3ceff5e9",
        "colab": {
          "base_uri": "https://localhost:8080/",
          "height": 255
        }
      },
      "outputs": [
        {
          "output_type": "execute_result",
          "data": {
            "text/plain": [
              "<Figure size 621.941x284.278 with 1 Axes>"
            ],
            "image/png": "[encoded data removed]"
          },
          "metadata": {},
          "execution_count": 5
        }
      ],
      "source": [
        "from qiskit.circuit import Parameter\n",
        "\n",
        "def problem_circuit(graph, gamma):\n",
        "\n",
        "    qc_p = QuantumCircuit(len(graph.nodes()))\n",
        "    for edge in list(graph.edges()):\n",
        "        qc_p.rzz(gamma, edge[0], edge[1])\n",
        "        qc_p.barrier()\n",
        "\n",
        "    return qc_p\n",
        "\n",
        "gamma = Parameter(\"gamma\")\n",
        "qc_p = problem_circuit(graph, gamma)\n",
        "qc_p.draw(\"mpl\")"
      ]
    },
    {
      "cell_type": "code",
      "execution_count": 6,
      "id": "d1d3a20c",
      "metadata": {
        "id": "d1d3a20c",
        "outputId": "cbff05e3-155c-4d2d-fb3f-28d1809282e5",
        "colab": {
          "base_uri": "https://localhost:8080/",
          "height": 255
        }
      },
      "outputs": [
        {
          "output_type": "execute_result",
          "data": {
            "text/plain": [
              "<Figure size 203.885x284.278 with 1 Axes>"
            ],
            "image/png": "[encoded data removed]"
          },
          "metadata": {},
          "execution_count": 6
        }
      ],
      "source": [
        "def ansatz_circuit(graph, beta):\n",
        "    qc_a = QuantumCircuit(len(graph.nodes()))\n",
        "    for i in range(len(graph.nodes())):\n",
        "        qc_a.rx(beta, i)\n",
        "\n",
        "    return qc_a\n",
        "\n",
        "beta = Parameter(\"beta\")\n",
        "ansatz_circuit(graph, beta).draw(\"mpl\")"
      ]
    },
    {
      "cell_type": "code",
      "execution_count": 7,
      "id": "32ae5b7b",
      "metadata": {
        "id": "32ae5b7b",
        "outputId": "1a0bbea7-39f3-4eb1-953a-2549be845653",
        "colab": {
          "base_uri": "https://localhost:8080/",
          "height": 320
        }
      },
      "outputs": [
        {
          "output_type": "execute_result",
          "data": {
            "text/plain": [
              "<Figure size 1165.66x367.889 with 1 Axes>"
            ],
            "image/png": "[encoded data removed]"
          },
          "metadata": {},
          "execution_count": 7
        }
      ],
      "source": [
        "def get_circuit(graph, beta, gamma):\n",
        "    cnt_qubits = len(graph.nodes())\n",
        "    qc_qaoa = QuantumCircuit(cnt_qubits)\n",
        "\n",
        "    # initial_state\n",
        "    qc_qaoa.h(range(cnt_qubits))\n",
        "\n",
        "    # append problem circuit\n",
        "    qc_qaoa.append(problem_circuit(graph, gamma), range(cnt_qubits))\n",
        "\n",
        "    # append ansatz circuit\n",
        "    qc_qaoa.append(ansatz_circuit(graph, beta), range(cnt_qubits))\n",
        "\n",
        "    qc_qaoa.measure_all()\n",
        "    return qc_qaoa\n",
        "\n",
        "beta = Parameter(\"beta\")\n",
        "gamma = Parameter(\"gamma\")\n",
        "get_circuit(graph, beta, gamma).decompose().draw(\"mpl\")"
      ]
    },
    {
      "cell_type": "code",
      "execution_count": 8,
      "id": "50de1b94",
      "metadata": {
        "id": "50de1b94"
      },
      "outputs": [],
      "source": [
        "def get_expectation(counts, graph):\n",
        "    avg = 0\n",
        "    sum_count = 0\n",
        "    for solution, count in counts.items():\n",
        "        performance = 0\n",
        "        for i, j in graph.edges():\n",
        "            if solution[i] != solution[j]:\n",
        "                performance -= 1\n",
        "\n",
        "        avg += performance * count\n",
        "        sum_count += count\n",
        "    return avg/sum_count"
      ]
    },
    {
      "cell_type": "code",
      "source": [
        "!pip install qiskit-aer"
      ],
      "metadata": {
        "id": "Yuze8F50X8sf",
        "outputId": "1b9233a5-12cc-4a69-a0fd-dfa835c73f40",
        "colab": {
          "base_uri": "https://localhost:8080/"
        }
      },
      "id": "Yuze8F50X8sf",
      "execution_count": 10,
      "outputs": [
        {
          "output_type": "stream",
          "name": "stdout",
          "text": [
            "Collecting qiskit-aer\n",
            "  Downloading qiskit_aer-0.12.2-cp310-cp310-manylinux_2_17_x86_64.manylinux2014_x86_64.whl (12.8 MB)\n",
            "\u001b[2K     \u001b[90m━━━━━━━━━━━━━━━━━━━━━━━━━━━━━━━━━━━━━━━━\u001b[0m \u001b[32m12.8/12.8 MB\u001b[0m \u001b[31m32.4 MB/s\u001b[0m eta \u001b[36m0:00:00\u001b[0m\n",
            "\u001b[?25hRequirement already satisfied: qiskit-terra>=0.21.0 in /usr/local/lib/python3.10/dist-packages (from qiskit-aer) (0.25.2.1)\n",
            "Requirement already satisfied: numpy>=1.16.3 in /usr/local/lib/python3.10/dist-packages (from qiskit-aer) (1.23.5)\n",
            "Requirement already satisfied: scipy>=1.0 in /usr/local/lib/python3.10/dist-packages (from qiskit-aer) (1.11.3)\n",
            "Requirement already satisfied: rustworkx>=0.13.0 in /usr/local/lib/python3.10/dist-packages (from qiskit-terra>=0.21.0->qiskit-aer) (0.13.2)\n",
            "Requirement already satisfied: ply>=3.10 in /usr/local/lib/python3.10/dist-packages (from qiskit-terra>=0.21.0->qiskit-aer) (3.11)\n",
            "Requirement already satisfied: psutil>=5 in /usr/local/lib/python3.10/dist-packages (from qiskit-terra>=0.21.0->qiskit-aer) (5.9.5)\n",
            "Requirement already satisfied: sympy>=1.3 in /usr/local/lib/python3.10/dist-packages (from qiskit-terra>=0.21.0->qiskit-aer) (1.12)\n",
            "Requirement already satisfied: dill>=0.3 in /usr/local/lib/python3.10/dist-packages (from qiskit-terra>=0.21.0->qiskit-aer) (0.3.7)\n",
            "Requirement already satisfied: python-dateutil>=2.8.0 in /usr/local/lib/python3.10/dist-packages (from qiskit-terra>=0.21.0->qiskit-aer) (2.8.2)\n",
            "Requirement already satisfied: stevedore>=3.0.0 in /usr/local/lib/python3.10/dist-packages (from qiskit-terra>=0.21.0->qiskit-aer) (5.1.0)\n",
            "Requirement already satisfied: symengine<0.10,>=0.9 in /usr/local/lib/python3.10/dist-packages (from qiskit-terra>=0.21.0->qiskit-aer) (0.9.2)\n",
            "Requirement already satisfied: typing-extensions in /usr/local/lib/python3.10/dist-packages (from qiskit-terra>=0.21.0->qiskit-aer) (4.5.0)\n",
            "Requirement already satisfied: six>=1.5 in /usr/local/lib/python3.10/dist-packages (from python-dateutil>=2.8.0->qiskit-terra>=0.21.0->qiskit-aer) (1.16.0)\n",
            "Requirement already satisfied: pbr!=2.1.0,>=2.0.0 in /usr/local/lib/python3.10/dist-packages (from stevedore>=3.0.0->qiskit-terra>=0.21.0->qiskit-aer) (5.11.1)\n",
            "Requirement already satisfied: mpmath>=0.19 in /usr/local/lib/python3.10/dist-packages (from sympy>=1.3->qiskit-terra>=0.21.0->qiskit-aer) (1.3.0)\n",
            "Installing collected packages: qiskit-aer\n",
            "Successfully installed qiskit-aer-0.12.2\n"
          ]
        }
      ]
    },
    {
      "cell_type": "code",
      "execution_count": 11,
      "id": "29c86272",
      "metadata": {
        "id": "29c86272",
        "outputId": "9fc7a694-0b61-4b42-f46a-1e228ae9f08e",
        "colab": {
          "base_uri": "https://localhost:8080/"
        }
      },
      "outputs": [
        {
          "output_type": "stream",
          "name": "stdout",
          "text": [
            " message: Optimization terminated successfully.\n",
            " success: True\n",
            "  status: 1\n",
            "     fun: -1.609\n",
            "       x: [ 2.358e+00  8.858e-01]\n",
            "    nfev: 28\n",
            "   maxcv: 0.0\n"
          ]
        }
      ],
      "source": [
        "from scipy.optimize import minimize\n",
        "from qiskit.visualization import plot_histogram\n",
        "\n",
        "def calculate_circ(graph, beta, gamma, backend, shots):\n",
        "    qc = get_circuit(graph, beta, gamma)\n",
        "    result = execute(qc,backend, shots=shots).result()\n",
        "    return get_expectation(result.get_counts(), graph)\n",
        "\n",
        "def qaoa(graph):\n",
        "    backend = Aer.get_backend('qasm_simulator')\n",
        "\n",
        "    result = minimize(\n",
        "        # callable function\n",
        "        lambda thetas: calculate_circ(graph, thetas[0], thetas[1], backend,\n",
        "                                      1000),\n",
        "        # initial guess on beta and gamma\n",
        "        [1.0, 1.0],\n",
        "        # optimization method\n",
        "        method='COBYLA')\n",
        "\n",
        "    return result\n",
        "\n",
        "result = qaoa(graph)\n",
        "print(result)"
      ]
    },
    {
      "cell_type": "code",
      "execution_count": 12,
      "id": "e9141883",
      "metadata": {
        "id": "e9141883",
        "outputId": "74665994-27f3-4dd4-f7bb-a023b900ff33",
        "colab": {
          "base_uri": "https://localhost:8080/",
          "height": 473
        }
      },
      "outputs": [
        {
          "output_type": "execute_result",
          "data": {
            "text/plain": [
              "<Figure size 700x500 with 1 Axes>"
            ],
            "image/png": "[encoded data removed]"
          },
          "metadata": {},
          "execution_count": 12
        }
      ],
      "source": [
        "qc_res = get_circuit(graph, result.x[0], result.x[1])\n",
        "counts = execute(qc_res, Aer.get_backend('qasm_simulator'), shots=1000).result().get_counts()\n",
        "plot_histogram(counts)"
      ]
    },
    {
      "cell_type": "markdown",
      "id": "41e4bb55",
      "metadata": {
        "id": "41e4bb55"
      },
      "source": [
        "### Using Qiskit to directly solve Maxcut problem"
      ]
    },
    {
      "cell_type": "code",
      "execution_count": 13,
      "id": "bf29d0f5",
      "metadata": {
        "id": "bf29d0f5"
      },
      "outputs": [],
      "source": [
        "from qiskit_optimization.applications import Maxcut\n",
        "from qiskit.utils import QuantumInstance\n",
        "from qiskit import Aer\n",
        "import pandas as pd"
      ]
    },
    {
      "cell_type": "code",
      "execution_count": 14,
      "id": "c9e05106",
      "metadata": {
        "id": "c9e05106",
        "outputId": "cbd740b7-e72c-43ed-b545-46138a58774f",
        "colab": {
          "base_uri": "https://localhost:8080/",
          "height": 206
        }
      },
      "outputs": [
        {
          "output_type": "execute_result",
          "data": {
            "text/plain": [
              "                  hero1                 hero2\n",
              "0         LITTLE, ABNER        PRINCESS ZANDA\n",
              "1         LITTLE, ABNER  BLACK PANTHER/T'CHAL\n",
              "2  BLACK PANTHER/T'CHAL        PRINCESS ZANDA\n",
              "3         LITTLE, ABNER        PRINCESS ZANDA\n",
              "4         LITTLE, ABNER  BLACK PANTHER/T'CHAL"
            ],
            "text/html": [
              "\n",
              "  <div id=\"df-ad7fa2a6-d9fa-49dd-8f58-40fc7414aa15\" class=\"colab-df-container\">\n",
              "    <div>\n",
              "<style scoped>\n",
              "    .dataframe tbody tr th:only-of-type {\n",
              "        vertical-align: middle;\n",
              "    }\n",
              "\n",
              "    .dataframe tbody tr th {\n",
              "        vertical-align: top;\n",
              "    }\n",
              "\n",
              "    .dataframe thead th {\n",
              "        text-align: right;\n",
              "    }\n",
              "</style>\n",
              "<table border=\"1\" class=\"dataframe\">\n",
              "  <thead>\n",
              "    <tr style=\"text-align: right;\">\n",
              "      <th></th>\n",
              "      <th>hero1</th>\n",
              "      <th>hero2</th>\n",
              "    </tr>\n",
              "  </thead>\n",
              "  <tbody>\n",
              "    <tr>\n",
              "      <th>0</th>\n",
              "      <td>LITTLE, ABNER</td>\n",
              "      <td>PRINCESS ZANDA</td>\n",
              "    </tr>\n",
              "    <tr>\n",
              "      <th>1</th>\n",
              "      <td>LITTLE, ABNER</td>\n",
              "      <td>BLACK PANTHER/T'CHAL</td>\n",
              "    </tr>\n",
              "    <tr>\n",
              "      <th>2</th>\n",
              "      <td>BLACK PANTHER/T'CHAL</td>\n",
              "      <td>PRINCESS ZANDA</td>\n",
              "    </tr>\n",
              "    <tr>\n",
              "      <th>3</th>\n",
              "      <td>LITTLE, ABNER</td>\n",
              "      <td>PRINCESS ZANDA</td>\n",
              "    </tr>\n",
              "    <tr>\n",
              "      <th>4</th>\n",
              "      <td>LITTLE, ABNER</td>\n",
              "      <td>BLACK PANTHER/T'CHAL</td>\n",
              "    </tr>\n",
              "  </tbody>\n",
              "</table>\n",
              "</div>\n",
              "    <div class=\"colab-df-buttons\">\n",
              "\n",
              "  <div class=\"colab-df-container\">\n",
              "    <button class=\"colab-df-convert\" onclick=\"convertToInteractive('df-ad7fa2a6-d9fa-49dd-8f58-40fc7414aa15')\"\n",
              "            title=\"Convert this dataframe to an interactive table.\"\n",
              "            style=\"display:none;\">\n",
              "\n",
              "  <svg xmlns=\"http://www.w3.org/2000/svg\" height=\"24px\" viewBox=\"0 -960 960 960\">\n",
              "    <path d=\"M120-120v-720h720v720H120Zm60-500h600v-160H180v160Zm220 220h160v-160H400v160Zm0 220h160v-160H400v160ZM180-400h160v-160H180v160Zm440 0h160v-160H620v160ZM180-180h160v-160H180v160Zm440 0h160v-160H620v160Z\"/>\n",
              "  </svg>\n",
              "    </button>\n",
              "\n",
              "  <style>\n",
              "    .colab-df-container {\n",
              "      display:flex;\n",
              "      gap: 12px;\n",
              "    }\n",
              "\n",
              "    .colab-df-convert {\n",
              "      background-color: #E8F0FE;\n",
              "      border: none;\n",
              "      border-radius: 50%;\n",
              "      cursor: pointer;\n",
              "      display: none;\n",
              "      fill: #1967D2;\n",
              "      height: 32px;\n",
              "      padding: 0 0 0 0;\n",
              "      width: 32px;\n",
              "    }\n",
              "\n",
              "    .colab-df-convert:hover {\n",
              "      background-color: #E2EBFA;\n",
              "      box-shadow: 0px 1px 2px rgba(60, 64, 67, 0.3), 0px 1px 3px 1px rgba(60, 64, 67, 0.15);\n",
              "      fill: #174EA6;\n",
              "    }\n",
              "\n",
              "    .colab-df-buttons div {\n",
              "      margin-bottom: 4px;\n",
              "    }\n",
              "\n",
              "    [theme=dark] .colab-df-convert {\n",
              "      background-color: #3B4455;\n",
              "      fill: #D2E3FC;\n",
              "    }\n",
              "\n",
              "    [theme=dark] .colab-df-convert:hover {\n",
              "      background-color: #434B5C;\n",
              "      box-shadow: 0px 1px 3px 1px rgba(0, 0, 0, 0.15);\n",
              "      filter: drop-shadow(0px 1px 2px rgba(0, 0, 0, 0.3));\n",
              "      fill: #FFFFFF;\n",
              "    }\n",
              "  </style>\n",
              "\n",
              "    <script>\n",
              "      const buttonEl =\n",
              "        document.querySelector('#df-ad7fa2a6-d9fa-49dd-8f58-40fc7414aa15 button.colab-df-convert');\n",
              "      buttonEl.style.display =\n",
              "        google.colab.kernel.accessAllowed ? 'block' : 'none';\n",
              "\n",
              "      async function convertToInteractive(key) {\n",
              "        const element = document.querySelector('#df-ad7fa2a6-d9fa-49dd-8f58-40fc7414aa15');\n",
              "        const dataTable =\n",
              "          await google.colab.kernel.invokeFunction('convertToInteractive',\n",
              "                                                    [key], {});\n",
              "        if (!dataTable) return;\n",
              "\n",
              "        const docLinkHtml = 'Like what you see? Visit the ' +\n",
              "          '<a target=\"_blank\" href=https://colab.research.google.com/notebooks/data_table.ipynb>data table notebook</a>'\n",
              "          + ' to learn more about interactive tables.';\n",
              "        element.innerHTML = '';\n",
              "        dataTable['output_type'] = 'display_data';\n",
              "        await google.colab.output.renderOutput(dataTable, element);\n",
              "        const docLink = document.createElement('div');\n",
              "        docLink.innerHTML = docLinkHtml;\n",
              "        element.appendChild(docLink);\n",
              "      }\n",
              "    </script>\n",
              "  </div>\n",
              "\n",
              "\n",
              "<div id=\"df-62612bae-265c-4d3f-9321-178682104294\">\n",
              "  <button class=\"colab-df-quickchart\" onclick=\"quickchart('df-62612bae-265c-4d3f-9321-178682104294')\"\n",
              "            title=\"Suggest charts.\"\n",
              "            style=\"display:none;\">\n",
              "\n",
              "<svg xmlns=\"http://www.w3.org/2000/svg\" height=\"24px\"viewBox=\"0 0 24 24\"\n",
              "     width=\"24px\">\n",
              "    <g>\n",
              "        <path d=\"M19 3H5c-1.1 0-2 .9-2 2v14c0 1.1.9 2 2 2h14c1.1 0 2-.9 2-2V5c0-1.1-.9-2-2-2zM9 17H7v-7h2v7zm4 0h-2V7h2v10zm4 0h-2v-4h2v4z\"/>\n",
              "    </g>\n",
              "</svg>\n",
              "  </button>\n",
              "\n",
              "<style>\n",
              "  .colab-df-quickchart {\n",
              "      --bg-color: #E8F0FE;\n",
              "      --fill-color: #1967D2;\n",
              "      --hover-bg-color: #E2EBFA;\n",
              "      --hover-fill-color: #174EA6;\n",
              "      --disabled-fill-color: #AAA;\n",
              "      --disabled-bg-color: #DDD;\n",
              "  }\n",
              "\n",
              "  [theme=dark] .colab-df-quickchart {\n",
              "      --bg-color: #3B4455;\n",
              "      --fill-color: #D2E3FC;\n",
              "      --hover-bg-color: #434B5C;\n",
              "      --hover-fill-color: #FFFFFF;\n",
              "      --disabled-bg-color: #3B4455;\n",
              "      --disabled-fill-color: #666;\n",
              "  }\n",
              "\n",
              "  .colab-df-quickchart {\n",
              "    background-color: var(--bg-color);\n",
              "    border: none;\n",
              "    border-radius: 50%;\n",
              "    cursor: pointer;\n",
              "    display: none;\n",
              "    fill: var(--fill-color);\n",
              "    height: 32px;\n",
              "    padding: 0;\n",
              "    width: 32px;\n",
              "  }\n",
              "\n",
              "  .colab-df-quickchart:hover {\n",
              "    background-color: var(--hover-bg-color);\n",
              "    box-shadow: 0 1px 2px rgba(60, 64, 67, 0.3), 0 1px 3px 1px rgba(60, 64, 67, 0.15);\n",
              "    fill: var(--button-hover-fill-color);\n",
              "  }\n",
              "\n",
              "  .colab-df-quickchart-complete:disabled,\n",
              "  .colab-df-quickchart-complete:disabled:hover {\n",
              "    background-color: var(--disabled-bg-color);\n",
              "    fill: var(--disabled-fill-color);\n",
              "    box-shadow: none;\n",
              "  }\n",
              "\n",
              "  .colab-df-spinner {\n",
              "    border: 2px solid var(--fill-color);\n",
              "    border-color: transparent;\n",
              "    border-bottom-color: var(--fill-color);\n",
              "    animation:\n",
              "      spin 1s steps(1) infinite;\n",
              "  }\n",
              "\n",
              "  @keyframes spin {\n",
              "    0% {\n",
              "      border-color: transparent;\n",
              "      border-bottom-color: var(--fill-color);\n",
              "      border-left-color: var(--fill-color);\n",
              "    }\n",
              "    20% {\n",
              "      border-color: transparent;\n",
              "      border-left-color: var(--fill-color);\n",
              "      border-top-color: var(--fill-color);\n",
              "    }\n",
              "    30% {\n",
              "      border-color: transparent;\n",
              "      border-left-color: var(--fill-color);\n",
              "      border-top-color: var(--fill-color);\n",
              "      border-right-color: var(--fill-color);\n",
              "    }\n",
              "    40% {\n",
              "      border-color: transparent;\n",
              "      border-right-color: var(--fill-color);\n",
              "      border-top-color: var(--fill-color);\n",
              "    }\n",
              "    60% {\n",
              "      border-color: transparent;\n",
              "      border-right-color: var(--fill-color);\n",
              "    }\n",
              "    80% {\n",
              "      border-color: transparent;\n",
              "      border-right-color: var(--fill-color);\n",
              "      border-bottom-color: var(--fill-color);\n",
              "    }\n",
              "    90% {\n",
              "      border-color: transparent;\n",
              "      border-bottom-color: var(--fill-color);\n",
              "    }\n",
              "  }\n",
              "</style>\n",
              "\n",
              "  <script>\n",
              "    async function quickchart(key) {\n",
              "      const quickchartButtonEl =\n",
              "        document.querySelector('#' + key + ' button');\n",
              "      quickchartButtonEl.disabled = true;  // To prevent multiple clicks.\n",
              "      quickchartButtonEl.classList.add('colab-df-spinner');\n",
              "      try {\n",
              "        const charts = await google.colab.kernel.invokeFunction(\n",
              "            'suggestCharts', [key], {});\n",
              "      } catch (error) {\n",
              "        console.error('Error during call to suggestCharts:', error);\n",
              "      }\n",
              "      quickchartButtonEl.classList.remove('colab-df-spinner');\n",
              "      quickchartButtonEl.classList.add('colab-df-quickchart-complete');\n",
              "    }\n",
              "    (() => {\n",
              "      let quickchartButtonEl =\n",
              "        document.querySelector('#df-62612bae-265c-4d3f-9321-178682104294 button');\n",
              "      quickchartButtonEl.style.display =\n",
              "        google.colab.kernel.accessAllowed ? 'block' : 'none';\n",
              "    })();\n",
              "  </script>\n",
              "</div>\n",
              "\n",
              "    </div>\n",
              "  </div>\n"
            ]
          },
          "metadata": {},
          "execution_count": 14
        }
      ],
      "source": [
        "hero_network = pd.read_csv(\"hero-network.csv\")\n",
        "hero_network.head()"
      ]
    },
    {
      "cell_type": "code",
      "execution_count": 19,
      "id": "2296ef2d",
      "metadata": {
        "id": "2296ef2d",
        "outputId": "fd1728ec-d381-4e75-d247-1c056fff49ba",
        "colab": {
          "base_uri": "https://localhost:8080/"
        }
      },
      "outputs": [
        {
          "output_type": "stream",
          "name": "stdout",
          "text": [
            "<class 'pandas.core.frame.DataFrame'>\n",
            "Int64Index: 87 entries, 895 to 569649\n",
            "Data columns (total 2 columns):\n",
            " #   Column  Non-Null Count  Dtype \n",
            "---  ------  --------------  ----- \n",
            " 0   hero1   87 non-null     object\n",
            " 1   hero2   87 non-null     object\n",
            "dtypes: object(2)\n",
            "memory usage: 2.0+ KB\n"
          ]
        }
      ],
      "source": [
        "heroes = {'MEDUSA/MEDUSALITH AM','ARCLIGHT/PHILLIPA SO','WOLVERINE/LOGAN ','SCARLET WITCH/WANDA ',\n",
        "          'ARAGORN','OVERMIND/GROM',}\n",
        "relations = hero_network[(hero_network.hero1.isin(heroes)) & (hero_network.hero2.isin(heroes))]\n",
        "relations.info()"
      ]
    },
    {
      "cell_type": "code",
      "source": [
        "%run cred.sh"
      ],
      "metadata": {
        "id": "rPSim7ZDWzoA"
      },
      "id": "rPSim7ZDWzoA",
      "execution_count": 20,
      "outputs": []
    },
    {
      "cell_type": "code",
      "execution_count": 21,
      "id": "3246a6e0",
      "metadata": {
        "id": "3246a6e0",
        "outputId": "2f515bcb-58c5-4a65-c439-7c8cc42f8f1d",
        "colab": {
          "base_uri": "https://localhost:8080/"
        }
      },
      "outputs": [
        {
          "output_type": "stream",
          "name": "stderr",
          "text": [
            "<ipython-input-21-734131e91a89>:12: DeprecationWarning: The class ``qiskit.utils.quantum_instance.QuantumInstance`` is deprecated as of qiskit-terra 0.24.0. It will be removed no earlier than 3 months after the release date. For code migration guidelines, visit https://qisk.it/qi_migration.\n",
            "  quantum_instance = QuantumInstance(backend)\n"
          ]
        }
      ],
      "source": [
        "graph = nx.from_pandas_edgelist(relations, source='hero1', target='hero2')\n",
        "matrix = nx.to_pandas_adjacency(graph, dtype=int)\n",
        "adjacency = matrix.to_numpy()\n",
        "\n",
        "max_cut = Maxcut(adjacency)\n",
        "\n",
        "qp = max_cut.to_quadratic_program()\n",
        "qubitOp, offset = qp.to_ising()\n",
        "\n",
        "#backend = Aer.get_backend(\"statevector_simulator\")\n",
        "backend = service.backend(\"ibm_lagos\")\n",
        "quantum_instance = QuantumInstance(backend)"
      ]
    },
    {
      "cell_type": "code",
      "execution_count": 22,
      "id": "291d4f55",
      "metadata": {
        "id": "291d4f55",
        "outputId": "8a6645d8-8794-452e-e2b2-5685c8297af5",
        "colab": {
          "base_uri": "https://localhost:8080/",
          "height": 1000
        }
      },
      "outputs": [
        {
          "output_type": "stream",
          "name": "stderr",
          "text": [
            "<ipython-input-22-d80056b4290a>:4: DeprecationWarning: The class ``qiskit.algorithms.minimum_eigen_solvers.qaoa.QAOA`` is deprecated as of qiskit-terra 0.24.0. It will be removed no earlier than 3 months after the release date. Instead, use the class ``qiskit.algorithms.minimum_eigensolvers.QAOA``. See https://qisk.it/algo_migration for a migration guide.\n",
            "  qaoa = QAOA(quantum_instance=quantum_instance)\n",
            "WARNING:qiskit.utils.run_circuits:FAILURE: Can not get job id, Resubmit the qobj to get job id. Error: IBMBackend.run() is not supported in the Qiskit Runtime environment. \n",
            "WARNING:qiskit.utils.run_circuits:FAILURE: Can not get job id, Resubmit the qobj to get job id. Error: IBMBackend.run() is not supported in the Qiskit Runtime environment. \n",
            "WARNING:qiskit.utils.run_circuits:FAILURE: Can not get job id, Resubmit the qobj to get job id. Error: IBMBackend.run() is not supported in the Qiskit Runtime environment. \n",
            "WARNING:qiskit.utils.run_circuits:FAILURE: Can not get job id, Resubmit the qobj to get job id. Error: IBMBackend.run() is not supported in the Qiskit Runtime environment. \n",
            "WARNING:qiskit.utils.run_circuits:FAILURE: Can not get job id, Resubmit the qobj to get job id. Error: IBMBackend.run() is not supported in the Qiskit Runtime environment. \n",
            "WARNING:qiskit.utils.run_circuits:FAILURE: Can not get job id, Resubmit the qobj to get job id. Error: IBMBackend.run() is not supported in the Qiskit Runtime environment. \n",
            "WARNING:qiskit.utils.run_circuits:FAILURE: Can not get job id, Resubmit the qobj to get job id. Error: IBMBackend.run() is not supported in the Qiskit Runtime environment. \n",
            "WARNING:qiskit.utils.run_circuits:FAILURE: Can not get job id, Resubmit the qobj to get job id. Error: IBMBackend.run() is not supported in the Qiskit Runtime environment. \n",
            "WARNING:qiskit.utils.run_circuits:FAILURE: Can not get job id, Resubmit the qobj to get job id. Error: IBMBackend.run() is not supported in the Qiskit Runtime environment. \n",
            "WARNING:qiskit.utils.run_circuits:FAILURE: Can not get job id, Resubmit the qobj to get job id. Error: IBMBackend.run() is not supported in the Qiskit Runtime environment. \n",
            "WARNING:qiskit.utils.run_circuits:FAILURE: Can not get job id, Resubmit the qobj to get job id. Error: IBMBackend.run() is not supported in the Qiskit Runtime environment. \n",
            "WARNING:qiskit.utils.run_circuits:FAILURE: Can not get job id, Resubmit the qobj to get job id. Error: IBMBackend.run() is not supported in the Qiskit Runtime environment. \n",
            "WARNING:qiskit.utils.run_circuits:FAILURE: Can not get job id, Resubmit the qobj to get job id. Error: IBMBackend.run() is not supported in the Qiskit Runtime environment. \n",
            "WARNING:qiskit.utils.run_circuits:FAILURE: Can not get job id, Resubmit the qobj to get job id. Error: IBMBackend.run() is not supported in the Qiskit Runtime environment. \n",
            "WARNING:qiskit.utils.run_circuits:FAILURE: Can not get job id, Resubmit the qobj to get job id. Error: IBMBackend.run() is not supported in the Qiskit Runtime environment. \n",
            "WARNING:qiskit.utils.run_circuits:FAILURE: Can not get job id, Resubmit the qobj to get job id. Error: IBMBackend.run() is not supported in the Qiskit Runtime environment. \n",
            "WARNING:qiskit.utils.run_circuits:FAILURE: Can not get job id, Resubmit the qobj to get job id. Error: IBMBackend.run() is not supported in the Qiskit Runtime environment. \n",
            "WARNING:qiskit.utils.run_circuits:FAILURE: Can not get job id, Resubmit the qobj to get job id. Error: IBMBackend.run() is not supported in the Qiskit Runtime environment. \n",
            "WARNING:qiskit.utils.run_circuits:FAILURE: Can not get job id, Resubmit the qobj to get job id. Error: IBMBackend.run() is not supported in the Qiskit Runtime environment. \n",
            "WARNING:qiskit.utils.run_circuits:FAILURE: Can not get job id, Resubmit the qobj to get job id. Error: IBMBackend.run() is not supported in the Qiskit Runtime environment. \n",
            "WARNING:qiskit.utils.run_circuits:FAILURE: Can not get job id, Resubmit the qobj to get job id. Error: IBMBackend.run() is not supported in the Qiskit Runtime environment. \n",
            "WARNING:qiskit.utils.run_circuits:FAILURE: Can not get job id, Resubmit the qobj to get job id. Error: IBMBackend.run() is not supported in the Qiskit Runtime environment. \n",
            "WARNING:qiskit.utils.run_circuits:FAILURE: Can not get job id, Resubmit the qobj to get job id. Error: IBMBackend.run() is not supported in the Qiskit Runtime environment. \n",
            "WARNING:qiskit.utils.run_circuits:FAILURE: Can not get job id, Resubmit the qobj to get job id. Error: IBMBackend.run() is not supported in the Qiskit Runtime environment. \n",
            "WARNING:qiskit.utils.run_circuits:FAILURE: Can not get job id, Resubmit the qobj to get job id. Error: IBMBackend.run() is not supported in the Qiskit Runtime environment. \n",
            "WARNING:qiskit.utils.run_circuits:FAILURE: Can not get job id, Resubmit the qobj to get job id. Error: IBMBackend.run() is not supported in the Qiskit Runtime environment. \n",
            "WARNING:qiskit.utils.run_circuits:FAILURE: Can not get job id, Resubmit the qobj to get job id. Error: IBMBackend.run() is not supported in the Qiskit Runtime environment. \n",
            "WARNING:qiskit.utils.run_circuits:FAILURE: Can not get job id, Resubmit the qobj to get job id. Error: IBMBackend.run() is not supported in the Qiskit Runtime environment. \n",
            "WARNING:qiskit.utils.run_circuits:FAILURE: Can not get job id, Resubmit the qobj to get job id. Error: IBMBackend.run() is not supported in the Qiskit Runtime environment. \n",
            "WARNING:qiskit.utils.run_circuits:FAILURE: Can not get job id, Resubmit the qobj to get job id. Error: IBMBackend.run() is not supported in the Qiskit Runtime environment. \n",
            "WARNING:qiskit.utils.run_circuits:FAILURE: Can not get job id, Resubmit the qobj to get job id. Error: IBMBackend.run() is not supported in the Qiskit Runtime environment. \n",
            "WARNING:qiskit.utils.run_circuits:FAILURE: Can not get job id, Resubmit the qobj to get job id. Error: IBMBackend.run() is not supported in the Qiskit Runtime environment. \n",
            "WARNING:qiskit.utils.run_circuits:FAILURE: Can not get job id, Resubmit the qobj to get job id. Error: IBMBackend.run() is not supported in the Qiskit Runtime environment. \n",
            "WARNING:qiskit.utils.run_circuits:FAILURE: Can not get job id, Resubmit the qobj to get job id. Error: IBMBackend.run() is not supported in the Qiskit Runtime environment. \n",
            "WARNING:qiskit.utils.run_circuits:FAILURE: Can not get job id, Resubmit the qobj to get job id. Error: IBMBackend.run() is not supported in the Qiskit Runtime environment. \n",
            "WARNING:qiskit.utils.run_circuits:FAILURE: Can not get job id, Resubmit the qobj to get job id. Error: IBMBackend.run() is not supported in the Qiskit Runtime environment. \n",
            "WARNING:qiskit.utils.run_circuits:FAILURE: Can not get job id, Resubmit the qobj to get job id. Error: IBMBackend.run() is not supported in the Qiskit Runtime environment. \n",
            "WARNING:qiskit.utils.run_circuits:FAILURE: Can not get job id, Resubmit the qobj to get job id. Error: IBMBackend.run() is not supported in the Qiskit Runtime environment. \n",
            "WARNING:qiskit.utils.run_circuits:FAILURE: Can not get job id, Resubmit the qobj to get job id. Error: IBMBackend.run() is not supported in the Qiskit Runtime environment. \n",
            "WARNING:qiskit.utils.run_circuits:FAILURE: Can not get job id, Resubmit the qobj to get job id. Error: IBMBackend.run() is not supported in the Qiskit Runtime environment. \n",
            "WARNING:qiskit.utils.run_circuits:FAILURE: Can not get job id, Resubmit the qobj to get job id. Error: IBMBackend.run() is not supported in the Qiskit Runtime environment. \n",
            "WARNING:qiskit.utils.run_circuits:FAILURE: Can not get job id, Resubmit the qobj to get job id. Error: IBMBackend.run() is not supported in the Qiskit Runtime environment. \n",
            "WARNING:qiskit.utils.run_circuits:FAILURE: Can not get job id, Resubmit the qobj to get job id. Error: IBMBackend.run() is not supported in the Qiskit Runtime environment. \n",
            "WARNING:qiskit.utils.run_circuits:FAILURE: Can not get job id, Resubmit the qobj to get job id. Error: IBMBackend.run() is not supported in the Qiskit Runtime environment. \n",
            "WARNING:qiskit.utils.run_circuits:FAILURE: Can not get job id, Resubmit the qobj to get job id. Error: IBMBackend.run() is not supported in the Qiskit Runtime environment. \n",
            "WARNING:qiskit.utils.run_circuits:FAILURE: Can not get job id, Resubmit the qobj to get job id. Error: IBMBackend.run() is not supported in the Qiskit Runtime environment. \n",
            "WARNING:qiskit.utils.run_circuits:FAILURE: Can not get job id, Resubmit the qobj to get job id. Error: IBMBackend.run() is not supported in the Qiskit Runtime environment. \n",
            "WARNING:qiskit.utils.run_circuits:FAILURE: Can not get job id, Resubmit the qobj to get job id. Error: IBMBackend.run() is not supported in the Qiskit Runtime environment. \n",
            "WARNING:qiskit.utils.run_circuits:FAILURE: Can not get job id, Resubmit the qobj to get job id. Error: IBMBackend.run() is not supported in the Qiskit Runtime environment. \n",
            "WARNING:qiskit.utils.run_circuits:FAILURE: Can not get job id, Resubmit the qobj to get job id. Error: IBMBackend.run() is not supported in the Qiskit Runtime environment. \n"
          ]
        },
        {
          "output_type": "error",
          "ename": "QiskitError",
          "evalue": "ignored",
          "traceback": [
            "\u001b[0;31m---------------------------------------------------------------------------\u001b[0m",
            "\u001b[0;31mQiskitError\u001b[0m                               Traceback (most recent call last)",
            "\u001b[0;32m<ipython-input-22-d80056b4290a>\u001b[0m in \u001b[0;36m<cell line: 10>\u001b[0;34m()\u001b[0m\n\u001b[1;32m      8\u001b[0m \u001b[0;34m\u001b[0m\u001b[0m\n\u001b[1;32m      9\u001b[0m \u001b[0;31m# solve quadratic program\u001b[0m\u001b[0;34m\u001b[0m\u001b[0;34m\u001b[0m\u001b[0m\n\u001b[0;32m---> 10\u001b[0;31m \u001b[0mprint\u001b[0m\u001b[0;34m(\u001b[0m\u001b[0mqaoa_optimizer\u001b[0m\u001b[0;34m.\u001b[0m\u001b[0msolve\u001b[0m\u001b[0;34m(\u001b[0m\u001b[0mqp\u001b[0m\u001b[0;34m)\u001b[0m\u001b[0;34m)\u001b[0m\u001b[0;34m\u001b[0m\u001b[0;34m\u001b[0m\u001b[0m\n\u001b[0m",
            "\u001b[0;32m/usr/local/lib/python3.10/dist-packages/qiskit_optimization/algorithms/minimum_eigen_optimizer.py\u001b[0m in \u001b[0;36msolve\u001b[0;34m(self, problem)\u001b[0m\n\u001b[1;32m    225\u001b[0m         \u001b[0moperator\u001b[0m\u001b[0;34m,\u001b[0m \u001b[0moffset\u001b[0m \u001b[0;34m=\u001b[0m \u001b[0mproblem_\u001b[0m\u001b[0;34m.\u001b[0m\u001b[0mto_ising\u001b[0m\u001b[0;34m(\u001b[0m\u001b[0;34m)\u001b[0m\u001b[0;34m\u001b[0m\u001b[0;34m\u001b[0m\u001b[0m\n\u001b[1;32m    226\u001b[0m \u001b[0;34m\u001b[0m\u001b[0m\n\u001b[0;32m--> 227\u001b[0;31m         \u001b[0;32mreturn\u001b[0m \u001b[0mself\u001b[0m\u001b[0;34m.\u001b[0m\u001b[0m_solve_internal\u001b[0m\u001b[0;34m(\u001b[0m\u001b[0moperator\u001b[0m\u001b[0;34m,\u001b[0m \u001b[0moffset\u001b[0m\u001b[0;34m,\u001b[0m \u001b[0mproblem_\u001b[0m\u001b[0;34m,\u001b[0m \u001b[0mproblem\u001b[0m\u001b[0;34m)\u001b[0m\u001b[0;34m\u001b[0m\u001b[0;34m\u001b[0m\u001b[0m\n\u001b[0m\u001b[1;32m    228\u001b[0m \u001b[0;34m\u001b[0m\u001b[0m\n\u001b[1;32m    229\u001b[0m     def _solve_internal(\n",
            "\u001b[0;32m/usr/local/lib/python3.10/dist-packages/qiskit_optimization/algorithms/minimum_eigen_optimizer.py\u001b[0m in \u001b[0;36m_solve_internal\u001b[0;34m(self, operator, offset, converted_problem, original_problem)\u001b[0m\n\u001b[1;32m    241\u001b[0m                 \u001b[0moperator\u001b[0m \u001b[0;34m=\u001b[0m \u001b[0mPauliSumOp\u001b[0m\u001b[0;34m.\u001b[0m\u001b[0mfrom_list\u001b[0m\u001b[0;34m(\u001b[0m\u001b[0;34m[\u001b[0m\u001b[0;34m(\u001b[0m\u001b[0moperator\u001b[0m\u001b[0;34m.\u001b[0m\u001b[0mprimitive\u001b[0m\u001b[0;34m.\u001b[0m\u001b[0mto_label\u001b[0m\u001b[0;34m(\u001b[0m\u001b[0;34m)\u001b[0m\u001b[0;34m,\u001b[0m \u001b[0moperator\u001b[0m\u001b[0;34m.\u001b[0m\u001b[0mcoeff\u001b[0m\u001b[0;34m)\u001b[0m\u001b[0;34m]\u001b[0m\u001b[0;34m)\u001b[0m\u001b[0;34m\u001b[0m\u001b[0;34m\u001b[0m\u001b[0m\n\u001b[1;32m    242\u001b[0m             \u001b[0;31m# approximate ground state of operator using min eigen solver\u001b[0m\u001b[0;34m\u001b[0m\u001b[0;34m\u001b[0m\u001b[0m\n\u001b[0;32m--> 243\u001b[0;31m             \u001b[0meigen_result\u001b[0m \u001b[0;34m=\u001b[0m \u001b[0mself\u001b[0m\u001b[0;34m.\u001b[0m\u001b[0m_min_eigen_solver\u001b[0m\u001b[0;34m.\u001b[0m\u001b[0mcompute_minimum_eigenvalue\u001b[0m\u001b[0;34m(\u001b[0m\u001b[0moperator\u001b[0m\u001b[0;34m)\u001b[0m\u001b[0;34m\u001b[0m\u001b[0;34m\u001b[0m\u001b[0m\n\u001b[0m\u001b[1;32m    244\u001b[0m             \u001b[0;31m# analyze results\u001b[0m\u001b[0;34m\u001b[0m\u001b[0;34m\u001b[0m\u001b[0m\n\u001b[1;32m    245\u001b[0m             \u001b[0mraw_samples\u001b[0m \u001b[0;34m=\u001b[0m \u001b[0;32mNone\u001b[0m\u001b[0;34m\u001b[0m\u001b[0;34m\u001b[0m\u001b[0m\n",
            "\u001b[0;32m/usr/local/lib/python3.10/dist-packages/qiskit/algorithms/minimum_eigen_solvers/vqe.py\u001b[0m in \u001b[0;36mcompute_minimum_eigenvalue\u001b[0;34m(self, operator, aux_operators)\u001b[0m\n\u001b[1;32m    544\u001b[0m             )\n\u001b[1;32m    545\u001b[0m         \u001b[0;32melse\u001b[0m\u001b[0;34m:\u001b[0m\u001b[0;34m\u001b[0m\u001b[0;34m\u001b[0m\u001b[0m\n\u001b[0;32m--> 546\u001b[0;31m             opt_result = self.optimizer.minimize(\n\u001b[0m\u001b[1;32m    547\u001b[0m                 \u001b[0mfun\u001b[0m\u001b[0;34m=\u001b[0m\u001b[0menergy_evaluation\u001b[0m\u001b[0;34m,\u001b[0m \u001b[0mx0\u001b[0m\u001b[0;34m=\u001b[0m\u001b[0minitial_point\u001b[0m\u001b[0;34m,\u001b[0m \u001b[0mjac\u001b[0m\u001b[0;34m=\u001b[0m\u001b[0mgradient\u001b[0m\u001b[0;34m,\u001b[0m \u001b[0mbounds\u001b[0m\u001b[0;34m=\u001b[0m\u001b[0mbounds\u001b[0m\u001b[0;34m\u001b[0m\u001b[0;34m\u001b[0m\u001b[0m\n\u001b[1;32m    548\u001b[0m             )\n",
            "\u001b[0;32m/usr/local/lib/python3.10/dist-packages/qiskit/algorithms/optimizers/scipy_optimizer.py\u001b[0m in \u001b[0;36mminimize\u001b[0;34m(self, fun, x0, jac, bounds)\u001b[0m\n\u001b[1;32m    147\u001b[0m             \u001b[0mself\u001b[0m\u001b[0;34m.\u001b[0m\u001b[0m_options\u001b[0m\u001b[0;34m[\u001b[0m\u001b[0;34m\"maxfun\"\u001b[0m\u001b[0;34m]\u001b[0m \u001b[0;34m=\u001b[0m \u001b[0mself\u001b[0m\u001b[0;34m.\u001b[0m\u001b[0m_options\u001b[0m\u001b[0;34m.\u001b[0m\u001b[0mpop\u001b[0m\u001b[0;34m(\u001b[0m\u001b[0;34m\"maxiter\"\u001b[0m\u001b[0;34m)\u001b[0m\u001b[0;34m\u001b[0m\u001b[0;34m\u001b[0m\u001b[0m\n\u001b[1;32m    148\u001b[0m \u001b[0;34m\u001b[0m\u001b[0m\n\u001b[0;32m--> 149\u001b[0;31m         raw_result = minimize(\n\u001b[0m\u001b[1;32m    150\u001b[0m             \u001b[0mfun\u001b[0m\u001b[0;34m=\u001b[0m\u001b[0mfun\u001b[0m\u001b[0;34m,\u001b[0m\u001b[0;34m\u001b[0m\u001b[0;34m\u001b[0m\u001b[0m\n\u001b[1;32m    151\u001b[0m             \u001b[0mx0\u001b[0m\u001b[0;34m=\u001b[0m\u001b[0mx0\u001b[0m\u001b[0;34m,\u001b[0m\u001b[0;34m\u001b[0m\u001b[0;34m\u001b[0m\u001b[0m\n",
            "\u001b[0;32m/usr/local/lib/python3.10/dist-packages/scipy/optimize/_minimize.py\u001b[0m in \u001b[0;36mminimize\u001b[0;34m(fun, x0, args, method, jac, hess, hessp, bounds, constraints, tol, callback, options)\u001b[0m\n\u001b[1;32m    717\u001b[0m                                bounds=bounds, **options)\n\u001b[1;32m    718\u001b[0m     \u001b[0;32melif\u001b[0m \u001b[0mmeth\u001b[0m \u001b[0;34m==\u001b[0m \u001b[0;34m'slsqp'\u001b[0m\u001b[0;34m:\u001b[0m\u001b[0;34m\u001b[0m\u001b[0;34m\u001b[0m\u001b[0m\n\u001b[0;32m--> 719\u001b[0;31m         res = _minimize_slsqp(fun, x0, args, jac, bounds,\n\u001b[0m\u001b[1;32m    720\u001b[0m                               constraints, callback=callback, **options)\n\u001b[1;32m    721\u001b[0m     \u001b[0;32melif\u001b[0m \u001b[0mmeth\u001b[0m \u001b[0;34m==\u001b[0m \u001b[0;34m'trust-constr'\u001b[0m\u001b[0;34m:\u001b[0m\u001b[0;34m\u001b[0m\u001b[0;34m\u001b[0m\u001b[0m\n",
            "\u001b[0;32m/usr/local/lib/python3.10/dist-packages/scipy/optimize/_slsqp_py.py\u001b[0m in \u001b[0;36m_minimize_slsqp\u001b[0;34m(func, x0, args, jac, bounds, constraints, maxiter, ftol, iprint, disp, eps, callback, finite_diff_rel_step, **unknown_options)\u001b[0m\n\u001b[1;32m    372\u001b[0m \u001b[0;34m\u001b[0m\u001b[0m\n\u001b[1;32m    373\u001b[0m     \u001b[0;31m# ScalarFunction provides function and gradient evaluation\u001b[0m\u001b[0;34m\u001b[0m\u001b[0;34m\u001b[0m\u001b[0m\n\u001b[0;32m--> 374\u001b[0;31m     sf = _prepare_scalar_function(func, x, jac=jac, args=args, epsilon=eps,\n\u001b[0m\u001b[1;32m    375\u001b[0m                                   \u001b[0mfinite_diff_rel_step\u001b[0m\u001b[0;34m=\u001b[0m\u001b[0mfinite_diff_rel_step\u001b[0m\u001b[0;34m,\u001b[0m\u001b[0;34m\u001b[0m\u001b[0;34m\u001b[0m\u001b[0m\n\u001b[1;32m    376\u001b[0m                                   bounds=new_bounds)\n",
            "\u001b[0;32m/usr/local/lib/python3.10/dist-packages/scipy/optimize/_optimize.py\u001b[0m in \u001b[0;36m_prepare_scalar_function\u001b[0;34m(fun, x0, jac, args, bounds, epsilon, finite_diff_rel_step, hess)\u001b[0m\n\u001b[1;32m    381\u001b[0m     \u001b[0;31m# ScalarFunction caches. Reuse of fun(x) during grad\u001b[0m\u001b[0;34m\u001b[0m\u001b[0;34m\u001b[0m\u001b[0m\n\u001b[1;32m    382\u001b[0m     \u001b[0;31m# calculation reduces overall function evaluations.\u001b[0m\u001b[0;34m\u001b[0m\u001b[0;34m\u001b[0m\u001b[0m\n\u001b[0;32m--> 383\u001b[0;31m     sf = ScalarFunction(fun, x0, args, grad, hess,\n\u001b[0m\u001b[1;32m    384\u001b[0m                         finite_diff_rel_step, bounds, epsilon=epsilon)\n\u001b[1;32m    385\u001b[0m \u001b[0;34m\u001b[0m\u001b[0m\n",
            "\u001b[0;32m/usr/local/lib/python3.10/dist-packages/scipy/optimize/_differentiable_functions.py\u001b[0m in \u001b[0;36m__init__\u001b[0;34m(self, fun, x0, args, grad, hess, finite_diff_rel_step, finite_diff_bounds, epsilon)\u001b[0m\n\u001b[1;32m    156\u001b[0m \u001b[0;34m\u001b[0m\u001b[0m\n\u001b[1;32m    157\u001b[0m         \u001b[0mself\u001b[0m\u001b[0;34m.\u001b[0m\u001b[0m_update_fun_impl\u001b[0m \u001b[0;34m=\u001b[0m \u001b[0mupdate_fun\u001b[0m\u001b[0;34m\u001b[0m\u001b[0;34m\u001b[0m\u001b[0m\n\u001b[0;32m--> 158\u001b[0;31m         \u001b[0mself\u001b[0m\u001b[0;34m.\u001b[0m\u001b[0m_update_fun\u001b[0m\u001b[0;34m(\u001b[0m\u001b[0;34m)\u001b[0m\u001b[0;34m\u001b[0m\u001b[0;34m\u001b[0m\u001b[0m\n\u001b[0m\u001b[1;32m    159\u001b[0m \u001b[0;34m\u001b[0m\u001b[0m\n\u001b[1;32m    160\u001b[0m         \u001b[0;31m# Gradient evaluation\u001b[0m\u001b[0;34m\u001b[0m\u001b[0;34m\u001b[0m\u001b[0m\n",
            "\u001b[0;32m/usr/local/lib/python3.10/dist-packages/scipy/optimize/_differentiable_functions.py\u001b[0m in \u001b[0;36m_update_fun\u001b[0;34m(self)\u001b[0m\n\u001b[1;32m    249\u001b[0m     \u001b[0;32mdef\u001b[0m \u001b[0m_update_fun\u001b[0m\u001b[0;34m(\u001b[0m\u001b[0mself\u001b[0m\u001b[0;34m)\u001b[0m\u001b[0;34m:\u001b[0m\u001b[0;34m\u001b[0m\u001b[0;34m\u001b[0m\u001b[0m\n\u001b[1;32m    250\u001b[0m         \u001b[0;32mif\u001b[0m \u001b[0;32mnot\u001b[0m \u001b[0mself\u001b[0m\u001b[0;34m.\u001b[0m\u001b[0mf_updated\u001b[0m\u001b[0;34m:\u001b[0m\u001b[0;34m\u001b[0m\u001b[0;34m\u001b[0m\u001b[0m\n\u001b[0;32m--> 251\u001b[0;31m             \u001b[0mself\u001b[0m\u001b[0;34m.\u001b[0m\u001b[0m_update_fun_impl\u001b[0m\u001b[0;34m(\u001b[0m\u001b[0;34m)\u001b[0m\u001b[0;34m\u001b[0m\u001b[0;34m\u001b[0m\u001b[0m\n\u001b[0m\u001b[1;32m    252\u001b[0m             \u001b[0mself\u001b[0m\u001b[0;34m.\u001b[0m\u001b[0mf_updated\u001b[0m \u001b[0;34m=\u001b[0m \u001b[0;32mTrue\u001b[0m\u001b[0;34m\u001b[0m\u001b[0;34m\u001b[0m\u001b[0m\n\u001b[1;32m    253\u001b[0m \u001b[0;34m\u001b[0m\u001b[0m\n",
            "\u001b[0;32m/usr/local/lib/python3.10/dist-packages/scipy/optimize/_differentiable_functions.py\u001b[0m in \u001b[0;36mupdate_fun\u001b[0;34m()\u001b[0m\n\u001b[1;32m    153\u001b[0m \u001b[0;34m\u001b[0m\u001b[0m\n\u001b[1;32m    154\u001b[0m         \u001b[0;32mdef\u001b[0m \u001b[0mupdate_fun\u001b[0m\u001b[0;34m(\u001b[0m\u001b[0;34m)\u001b[0m\u001b[0;34m:\u001b[0m\u001b[0;34m\u001b[0m\u001b[0;34m\u001b[0m\u001b[0m\n\u001b[0;32m--> 155\u001b[0;31m             \u001b[0mself\u001b[0m\u001b[0;34m.\u001b[0m\u001b[0mf\u001b[0m \u001b[0;34m=\u001b[0m \u001b[0mfun_wrapped\u001b[0m\u001b[0;34m(\u001b[0m\u001b[0mself\u001b[0m\u001b[0;34m.\u001b[0m\u001b[0mx\u001b[0m\u001b[0;34m)\u001b[0m\u001b[0;34m\u001b[0m\u001b[0;34m\u001b[0m\u001b[0m\n\u001b[0m\u001b[1;32m    156\u001b[0m \u001b[0;34m\u001b[0m\u001b[0m\n\u001b[1;32m    157\u001b[0m         \u001b[0mself\u001b[0m\u001b[0;34m.\u001b[0m\u001b[0m_update_fun_impl\u001b[0m \u001b[0;34m=\u001b[0m \u001b[0mupdate_fun\u001b[0m\u001b[0;34m\u001b[0m\u001b[0;34m\u001b[0m\u001b[0m\n",
            "\u001b[0;32m/usr/local/lib/python3.10/dist-packages/scipy/optimize/_differentiable_functions.py\u001b[0m in \u001b[0;36mfun_wrapped\u001b[0;34m(x)\u001b[0m\n\u001b[1;32m    135\u001b[0m             \u001b[0;31m# Overwriting results in undefined behaviour because\u001b[0m\u001b[0;34m\u001b[0m\u001b[0;34m\u001b[0m\u001b[0m\n\u001b[1;32m    136\u001b[0m             \u001b[0;31m# fun(self.x) will change self.x, with the two no longer linked.\u001b[0m\u001b[0;34m\u001b[0m\u001b[0;34m\u001b[0m\u001b[0m\n\u001b[0;32m--> 137\u001b[0;31m             \u001b[0mfx\u001b[0m \u001b[0;34m=\u001b[0m \u001b[0mfun\u001b[0m\u001b[0;34m(\u001b[0m\u001b[0mnp\u001b[0m\u001b[0;34m.\u001b[0m\u001b[0mcopy\u001b[0m\u001b[0;34m(\u001b[0m\u001b[0mx\u001b[0m\u001b[0;34m)\u001b[0m\u001b[0;34m,\u001b[0m \u001b[0;34m*\u001b[0m\u001b[0margs\u001b[0m\u001b[0;34m)\u001b[0m\u001b[0;34m\u001b[0m\u001b[0;34m\u001b[0m\u001b[0m\n\u001b[0m\u001b[1;32m    138\u001b[0m             \u001b[0;31m# Make sure the function returns a true scalar\u001b[0m\u001b[0;34m\u001b[0m\u001b[0;34m\u001b[0m\u001b[0m\n\u001b[1;32m    139\u001b[0m             \u001b[0;32mif\u001b[0m \u001b[0;32mnot\u001b[0m \u001b[0mnp\u001b[0m\u001b[0;34m.\u001b[0m\u001b[0misscalar\u001b[0m\u001b[0;34m(\u001b[0m\u001b[0mfx\u001b[0m\u001b[0;34m)\u001b[0m\u001b[0;34m:\u001b[0m\u001b[0;34m\u001b[0m\u001b[0;34m\u001b[0m\u001b[0m\n",
            "\u001b[0;32m/usr/local/lib/python3.10/dist-packages/qiskit/algorithms/minimum_eigen_solvers/vqe.py\u001b[0m in \u001b[0;36menergy_evaluation\u001b[0;34m(parameters)\u001b[0m\n\u001b[1;32m    620\u001b[0m \u001b[0;34m\u001b[0m\u001b[0m\n\u001b[1;32m    621\u001b[0m             \u001b[0mstart_time\u001b[0m \u001b[0;34m=\u001b[0m \u001b[0mtime\u001b[0m\u001b[0;34m(\u001b[0m\u001b[0;34m)\u001b[0m\u001b[0;34m\u001b[0m\u001b[0;34m\u001b[0m\u001b[0m\n\u001b[0;32m--> 622\u001b[0;31m             \u001b[0msampled_expect_op\u001b[0m \u001b[0;34m=\u001b[0m \u001b[0mself\u001b[0m\u001b[0;34m.\u001b[0m\u001b[0m_circuit_sampler\u001b[0m\u001b[0;34m.\u001b[0m\u001b[0mconvert\u001b[0m\u001b[0;34m(\u001b[0m\u001b[0mexpect_op\u001b[0m\u001b[0;34m,\u001b[0m \u001b[0mparams\u001b[0m\u001b[0;34m=\u001b[0m\u001b[0mparam_bindings\u001b[0m\u001b[0;34m)\u001b[0m\u001b[0;34m\u001b[0m\u001b[0;34m\u001b[0m\u001b[0m\n\u001b[0m\u001b[1;32m    623\u001b[0m             \u001b[0mmeans\u001b[0m \u001b[0;34m=\u001b[0m \u001b[0mnp\u001b[0m\u001b[0;34m.\u001b[0m\u001b[0mreal\u001b[0m\u001b[0;34m(\u001b[0m\u001b[0msampled_expect_op\u001b[0m\u001b[0;34m.\u001b[0m\u001b[0meval\u001b[0m\u001b[0;34m(\u001b[0m\u001b[0;34m)\u001b[0m\u001b[0;34m)\u001b[0m\u001b[0;34m\u001b[0m\u001b[0;34m\u001b[0m\u001b[0m\n\u001b[1;32m    624\u001b[0m \u001b[0;34m\u001b[0m\u001b[0m\n",
            "\u001b[0;32m/usr/local/lib/python3.10/dist-packages/qiskit/opflow/converters/circuit_sampler.py\u001b[0m in \u001b[0;36mconvert\u001b[0;34m(self, operator, params)\u001b[0m\n\u001b[1;32m    218\u001b[0m         \u001b[0mcircs\u001b[0m \u001b[0;34m=\u001b[0m \u001b[0mlist\u001b[0m\u001b[0;34m(\u001b[0m\u001b[0mself\u001b[0m\u001b[0;34m.\u001b[0m\u001b[0m_circuit_ops_cache\u001b[0m\u001b[0;34m.\u001b[0m\u001b[0mvalues\u001b[0m\u001b[0;34m(\u001b[0m\u001b[0;34m)\u001b[0m\u001b[0;34m)\u001b[0m \u001b[0;32mif\u001b[0m \u001b[0;32mnot\u001b[0m \u001b[0mself\u001b[0m\u001b[0;34m.\u001b[0m\u001b[0m_transpiled_circ_cache\u001b[0m \u001b[0;32melse\u001b[0m \u001b[0;32mNone\u001b[0m\u001b[0;34m\u001b[0m\u001b[0;34m\u001b[0m\u001b[0m\n\u001b[1;32m    219\u001b[0m         \u001b[0mp_b\u001b[0m \u001b[0;34m=\u001b[0m \u001b[0mcast\u001b[0m\u001b[0;34m(\u001b[0m\u001b[0mList\u001b[0m\u001b[0;34m[\u001b[0m\u001b[0mDict\u001b[0m\u001b[0;34m[\u001b[0m\u001b[0mParameter\u001b[0m\u001b[0;34m,\u001b[0m \u001b[0mfloat\u001b[0m\u001b[0;34m]\u001b[0m\u001b[0;34m]\u001b[0m\u001b[0;34m,\u001b[0m \u001b[0mparam_bindings\u001b[0m\u001b[0;34m)\u001b[0m\u001b[0;34m\u001b[0m\u001b[0;34m\u001b[0m\u001b[0m\n\u001b[0;32m--> 220\u001b[0;31m         \u001b[0msampled_statefn_dicts\u001b[0m \u001b[0;34m=\u001b[0m \u001b[0mself\u001b[0m\u001b[0;34m.\u001b[0m\u001b[0msample_circuits\u001b[0m\u001b[0;34m(\u001b[0m\u001b[0mcircuit_sfns\u001b[0m\u001b[0;34m=\u001b[0m\u001b[0mcircs\u001b[0m\u001b[0;34m,\u001b[0m \u001b[0mparam_bindings\u001b[0m\u001b[0;34m=\u001b[0m\u001b[0mp_b\u001b[0m\u001b[0;34m)\u001b[0m\u001b[0;34m\u001b[0m\u001b[0;34m\u001b[0m\u001b[0m\n\u001b[0m\u001b[1;32m    221\u001b[0m \u001b[0;34m\u001b[0m\u001b[0m\n\u001b[1;32m    222\u001b[0m         \u001b[0;32mdef\u001b[0m \u001b[0mreplace_circuits_with_dicts\u001b[0m\u001b[0;34m(\u001b[0m\u001b[0moperator\u001b[0m\u001b[0;34m,\u001b[0m \u001b[0mparam_index\u001b[0m\u001b[0;34m=\u001b[0m\u001b[0;36m0\u001b[0m\u001b[0;34m)\u001b[0m\u001b[0;34m:\u001b[0m\u001b[0;34m\u001b[0m\u001b[0;34m\u001b[0m\u001b[0m\n",
            "\u001b[0;32m/usr/local/lib/python3.10/dist-packages/qiskit/opflow/converters/circuit_sampler.py\u001b[0m in \u001b[0;36msample_circuits\u001b[0;34m(self, circuit_sfns, param_bindings)\u001b[0m\n\u001b[1;32m    337\u001b[0m             )\n\u001b[1;32m    338\u001b[0m \u001b[0;34m\u001b[0m\u001b[0m\n\u001b[0;32m--> 339\u001b[0;31m         results = self.quantum_instance.execute(\n\u001b[0m\u001b[1;32m    340\u001b[0m             \u001b[0mready_circs\u001b[0m\u001b[0;34m,\u001b[0m \u001b[0mhad_transpiled\u001b[0m\u001b[0;34m=\u001b[0m\u001b[0mself\u001b[0m\u001b[0;34m.\u001b[0m\u001b[0m_transpile_before_bind\u001b[0m\u001b[0;34m\u001b[0m\u001b[0;34m\u001b[0m\u001b[0m\n\u001b[1;32m    341\u001b[0m         )\n",
            "\u001b[0;32m/usr/local/lib/python3.10/dist-packages/qiskit/utils/quantum_instance.py\u001b[0m in \u001b[0;36mexecute\u001b[0;34m(self, circuits, had_transpiled)\u001b[0m\n\u001b[1;32m    707\u001b[0m \u001b[0;34m\u001b[0m\u001b[0m\n\u001b[1;32m    708\u001b[0m         \u001b[0;32melse\u001b[0m\u001b[0;34m:\u001b[0m\u001b[0;34m\u001b[0m\u001b[0;34m\u001b[0m\u001b[0m\n\u001b[0;32m--> 709\u001b[0;31m             result = run_circuits(\n\u001b[0m\u001b[1;32m    710\u001b[0m                 \u001b[0mcircuits\u001b[0m\u001b[0;34m,\u001b[0m\u001b[0;34m\u001b[0m\u001b[0;34m\u001b[0m\u001b[0m\n\u001b[1;32m    711\u001b[0m                 \u001b[0mself\u001b[0m\u001b[0;34m.\u001b[0m\u001b[0m_backend\u001b[0m\u001b[0;34m,\u001b[0m\u001b[0;34m\u001b[0m\u001b[0;34m\u001b[0m\u001b[0m\n",
            "\u001b[0;32m/usr/local/lib/python3.10/dist-packages/qiskit/utils/deprecation.py\u001b[0m in \u001b[0;36mwrapper\u001b[0;34m(*args, **kwargs)\u001b[0m\n\u001b[1;32m     93\u001b[0m         \u001b[0;32mdef\u001b[0m \u001b[0mwrapper\u001b[0m\u001b[0;34m(\u001b[0m\u001b[0;34m*\u001b[0m\u001b[0margs\u001b[0m\u001b[0;34m,\u001b[0m \u001b[0;34m**\u001b[0m\u001b[0mkwargs\u001b[0m\u001b[0;34m)\u001b[0m\u001b[0;34m:\u001b[0m\u001b[0;34m\u001b[0m\u001b[0;34m\u001b[0m\u001b[0m\n\u001b[1;32m     94\u001b[0m             \u001b[0mwarnings\u001b[0m\u001b[0;34m.\u001b[0m\u001b[0mwarn\u001b[0m\u001b[0;34m(\u001b[0m\u001b[0mmsg\u001b[0m\u001b[0;34m,\u001b[0m \u001b[0mcategory\u001b[0m\u001b[0;34m=\u001b[0m\u001b[0mcategory\u001b[0m\u001b[0;34m,\u001b[0m \u001b[0mstacklevel\u001b[0m\u001b[0;34m=\u001b[0m\u001b[0;36m2\u001b[0m\u001b[0;34m)\u001b[0m\u001b[0;34m\u001b[0m\u001b[0;34m\u001b[0m\u001b[0m\n\u001b[0;32m---> 95\u001b[0;31m             \u001b[0;32mreturn\u001b[0m \u001b[0mfunc\u001b[0m\u001b[0;34m(\u001b[0m\u001b[0;34m*\u001b[0m\u001b[0margs\u001b[0m\u001b[0;34m,\u001b[0m \u001b[0;34m**\u001b[0m\u001b[0mkwargs\u001b[0m\u001b[0;34m)\u001b[0m\u001b[0;34m\u001b[0m\u001b[0;34m\u001b[0m\u001b[0m\n\u001b[0m\u001b[1;32m     96\u001b[0m \u001b[0;34m\u001b[0m\u001b[0m\n\u001b[1;32m     97\u001b[0m         \u001b[0madd_deprecation_to_docstring\u001b[0m\u001b[0;34m(\u001b[0m\u001b[0mwrapper\u001b[0m\u001b[0;34m,\u001b[0m \u001b[0mmsg\u001b[0m\u001b[0;34m,\u001b[0m \u001b[0msince\u001b[0m\u001b[0;34m=\u001b[0m\u001b[0msince\u001b[0m\u001b[0;34m,\u001b[0m \u001b[0mpending\u001b[0m\u001b[0;34m=\u001b[0m\u001b[0mpending\u001b[0m\u001b[0;34m)\u001b[0m\u001b[0;34m\u001b[0m\u001b[0;34m\u001b[0m\u001b[0m\n",
            "\u001b[0;32m/usr/local/lib/python3.10/dist-packages/qiskit/utils/run_circuits.py\u001b[0m in \u001b[0;36mrun_circuits\u001b[0;34m(circuits, backend, qjob_config, backend_options, noise_config, run_config, job_callback, max_job_retries)\u001b[0m\n\u001b[1;32m    189\u001b[0m             \u001b[0mcount\u001b[0m \u001b[0;34m+=\u001b[0m \u001b[0mmax_circuits_per_job\u001b[0m\u001b[0;34m\u001b[0m\u001b[0;34m\u001b[0m\u001b[0m\n\u001b[1;32m    190\u001b[0m     \u001b[0;32melse\u001b[0m\u001b[0;34m:\u001b[0m\u001b[0;34m\u001b[0m\u001b[0;34m\u001b[0m\u001b[0m\n\u001b[0;32m--> 191\u001b[0;31m         job, job_id = _safe_submit_circuits(\n\u001b[0m\u001b[1;32m    192\u001b[0m             \u001b[0mcircuits\u001b[0m\u001b[0;34m,\u001b[0m\u001b[0;34m\u001b[0m\u001b[0;34m\u001b[0m\u001b[0m\n\u001b[1;32m    193\u001b[0m             \u001b[0mbackend\u001b[0m\u001b[0;34m,\u001b[0m\u001b[0;34m\u001b[0m\u001b[0;34m\u001b[0m\u001b[0m\n",
            "\u001b[0;32m/usr/local/lib/python3.10/dist-packages/qiskit/utils/run_circuits.py\u001b[0m in \u001b[0;36m_safe_submit_circuits\u001b[0;34m(circuits, backend, qjob_config, backend_options, noise_config, run_config, max_job_retries)\u001b[0m\n\u001b[1;32m    376\u001b[0m             )\n\u001b[1;32m    377\u001b[0m     \u001b[0;32melse\u001b[0m\u001b[0;34m:\u001b[0m\u001b[0;34m\u001b[0m\u001b[0;34m\u001b[0m\u001b[0m\n\u001b[0;32m--> 378\u001b[0;31m         \u001b[0;32mraise\u001b[0m \u001b[0mQiskitError\u001b[0m\u001b[0;34m(\u001b[0m\u001b[0;34m\"Max retry limit reached. Failed to submit the qobj correctly\"\u001b[0m\u001b[0;34m)\u001b[0m\u001b[0;34m\u001b[0m\u001b[0;34m\u001b[0m\u001b[0m\n\u001b[0m\u001b[1;32m    379\u001b[0m \u001b[0;34m\u001b[0m\u001b[0m\n\u001b[1;32m    380\u001b[0m     \u001b[0;32mreturn\u001b[0m \u001b[0mjob\u001b[0m\u001b[0;34m,\u001b[0m \u001b[0mjob_id\u001b[0m\u001b[0;34m\u001b[0m\u001b[0;34m\u001b[0m\u001b[0m\n",
            "\u001b[0;31mQiskitError\u001b[0m: 'Max retry limit reached. Failed to submit the qobj correctly'"
          ]
        }
      ],
      "source": [
        "from qiskit.algorithms import QAOA\n",
        "from qiskit_optimization.algorithms import MinimumEigenOptimizer\n",
        "\n",
        "qaoa = QAOA(quantum_instance=quantum_instance)\n",
        "\n",
        "# create minimum eigen optimizer based on qaoa\n",
        "qaoa_optimizer = MinimumEigenOptimizer(qaoa)\n",
        "\n",
        "# solve quadratic program\n",
        "print(qaoa_optimizer.solve(qp))"
      ]
    },
    {
      "cell_type": "code",
      "execution_count": null,
      "id": "689f479a",
      "metadata": {
        "id": "689f479a"
      },
      "outputs": [],
      "source": []
    }
  ],
  "metadata": {
    "kernelspec": {
      "display_name": "Python 3 (ipykernel)",
      "language": "python",
      "name": "python3"
    },
    "language_info": {
      "codemirror_mode": {
        "name": "ipython",
        "version": 3
      },
      "file_extension": ".py",
      "mimetype": "text/x-python",
      "name": "python",
      "nbconvert_exporter": "python",
      "pygments_lexer": "ipython3",
      "version": "3.10.4"
    },
    "colab": {
      "provenance": []
    }
  },
  "nbformat": 4,
  "nbformat_minor": 5
}